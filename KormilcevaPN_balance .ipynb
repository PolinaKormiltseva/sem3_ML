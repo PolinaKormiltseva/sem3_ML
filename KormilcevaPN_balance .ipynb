{
 "cells": [
  {
   "cell_type": "markdown",
   "metadata": {
    "id": "kyugkF-xfkor"
   },
   "source": [
    "# Предсказание оттока сотрудников \n",
    "\n",
    "Ключ к успеху любой организации - это привлечение и удержание лучших сотрудников. Для HR-аналитиков одной из задач является \n",
    "предотвращение ухода персонала. Для этого им необходимо знать факторы, увеличивающие вовлеченность сотрудников, и, наоборот, побуждающие сотрудников уйти. "
   ]
  },
  {
   "cell_type": "markdown",
   "metadata": {
    "id": "y3FIzWev0E8b"
   },
   "source": [
    "Обзор методов балансировки \n",
    "\n",
    "https://basegroup.ru/community/articles/imbalance-datasets"
   ]
  },
  {
   "cell_type": "code",
   "execution_count": null,
   "metadata": {
    "id": "GvWMB3tt0E8b"
   },
   "outputs": [],
   "source": []
  },
  {
   "cell_type": "code",
   "execution_count": null,
   "metadata": {
    "id": "Xj8mjP3O0E8e"
   },
   "outputs": [],
   "source": []
  },
  {
   "cell_type": "markdown",
   "metadata": {
    "id": "8WX_jd-qfkow"
   },
   "source": [
    "<a href=\"https://drive.google.com/uc?id=1jAZLpihYxu_FPvN9PIJ1G4S_KvO_6Ku6\n",
    "\" target=\"_blank\"><img src=\"https://drive.google.com/uc?id=1jAZLpihYxu_FPvN9PIJ1G4S_KvO_6Ku6\" \n",
    "alt=\"IMAGE ALT TEXT HERE\" width=\"500\" border=\"0\" /></a>"
   ]
  },
  {
   "cell_type": "markdown",
   "metadata": {
    "id": "Mtg9sFWrfkoy"
   },
   "source": [
    "Мы попробуем на данных из Kaggle обучить модель машинного обучения, которая будет предсказывать отток сотрудников.\n",
    "https://www.kaggle.com/patelprashant/employee-attrition"
   ]
  },
  {
   "cell_type": "markdown",
   "metadata": {
    "id": "DZWzmwSCfko0"
   },
   "source": [
    "**Бизнес-постановка задачи** \n",
    "\n",
    "Очевидно, компании не выгодно терять своих сотрудников. На данный момент HR-ы \"вручную\" отслеживают комфортность рабочей среды, лично наблюдая за сотрудниками и общаясь с ними. Мы предлагаем построить модель, которая будет прогнозировать возможность ухода сотрудника, а также позволит выявить причины этого. \n",
    "\n",
    "Такая модель позволит одновременно улучшить контроль над текучкой кадров и сократить штат HR-ов. "
   ]
  },
  {
   "cell_type": "markdown",
   "metadata": {
    "id": "K2qJocD2fko2"
   },
   "source": [
    "**Постановка задачи анализа данных** \n",
    "\n",
    "Целью данной задачи является построение модели *классификации сотрудников*: на вход модель будет принимать данные о сотруднике, а на выходе она должна работать в двух режимах:\n",
    "\n",
    "* выдавать вероятность ухода для данного сотрудника,\n",
    "* выдавать правильный с точки зрения модели класс сотрудника (не доволен и собирается уйти или всё устраивает и остается).\n",
    "\n",
    "Обучать модель мы будем по данным с платформы kaggle."
   ]
  },
  {
   "cell_type": "markdown",
   "metadata": {
    "id": "_OTPvMJ5fko5"
   },
   "source": [
    "**Обзор доступных данных**\n",
    "\n",
    "В выборке 4410 исторических наблюдений и 20 переменных, одна из которых - целевая. \n",
    "Таким образом, про каждого из 4410 сотрудников мы знаем значения 20 их характеристик (возраст, пол, место и область работы, расстояние от дома и т.д.), в том числе значение целевой переменной: ушел сотрудник или нет.\n",
    "\n",
    "Выборка была разбита на две части для обучения и для тестирования модели.\n",
    "В обучающей выборке 3308 сотрудников, в тестовой выборке - 1102."
   ]
  },
  {
   "cell_type": "markdown",
   "metadata": {
    "id": "an2OUerefko7"
   },
   "source": [
    "**Доступные признаки**\n",
    "\n",
    "Данные содержат два типа переменных:\n",
    "\n",
    "* Целевая: **Attrition**, ушел работник или нет\n",
    "* Остальные переменные: 19 переменных, могут использоваться для прогноза целевой переменной.\n",
    "\n",
    "| Имя столбца       | Значение                | Имя столбца             | Значение\n",
    "|:-----------------:|:-----------------------:|:-----------------------:|:---------------------------------------------:|\n",
    "| Age               | Возраст                 | NumCompaniesWorked      | Кол-во компаний, в которых работал сотрудник  |\n",
    "| BusinessTravel    | Частота командировок    | PercentSalaryHike       | Процент повышения з/п за время работы         |\n",
    "| Department        | Отдел                   | StandardHours           | Стандартная продолжительность рабочего дня    |\n",
    "| DistanceFromHome  | Расстояние от дома в км | StockOptionLevel        | Уровень опциона на акции                      |\n",
    "| Education         | Уровень образования     | TotalWorkingYears       | Общий трудовой стаж                           |\n",
    "| EducationField    | Сфера образования       | TrainingTimesLastYear   | Общее время дополнительного обучения          |\n",
    "| Gender            | Пол                     | YearsAtCompany          | Стаж работы в данной компании                 |\n",
    "| JobRole           | Должностная роль        | YearsSinceLastPromotion | Кол-во лет с последнего повышения             |\n",
    "| MaritalStatus     | Семейное положение      | YearsWithCurrManager    | Кол-во лет работы с текущим менеджером        |\n",
    "| MonthlyIncome     | Ежемесячный доход       | Attrition               | **Целевая переменная:** ушел работник или нет |\n",
    "\n",
    "\t\n"
   ]
  },
  {
   "cell_type": "markdown",
   "metadata": {
    "id": "yHg-EEr9fko8"
   },
   "source": [
    "## План анализа данных (data mining):\n",
    "\n",
    "  1. Загрузить данные для обучения\n",
    "  2. Обработать данные перед обучением модели\n",
    "  3. Обучить модель на обучающей выборке\n",
    "  4. Загрузить и предобработать данные для тестирования\n",
    "  5. Провалидировать модель на тестовой выборке"
   ]
  },
  {
   "cell_type": "markdown",
   "metadata": {
    "id": "pkHvvbG5fko9"
   },
   "source": [
    "## 1. Загрузить данные для обучения"
   ]
  },
  {
   "cell_type": "markdown",
   "metadata": {
    "id": "7eAMeXk5fko9"
   },
   "source": [
    "**Шаг 1.1. Загружаем библиотеки** \n",
    "\n",
    "Для корректной работы с данными в python требуется загрузить специальную библиотеку\n",
    "**pandas**, программную библиотеку на языке python для обработки и анализа данных. "
   ]
  },
  {
   "cell_type": "markdown",
   "metadata": {
    "_cell_guid": "cfdaacbc-23a3-423d-8d4d-120939ac7383",
    "collapsed": true,
    "id": "35cP83FOfko-"
   },
   "source": [
    "Основная нагрузка по обработке входных данных ложится на модуль **pandas**. С\n",
    "помощью функций `pandas.read_*` можно подтягивать данные из простых текстовых\n",
    "файлов `CSV`, таблиц **Excel**, таблиц **HTML**, а также **SQL** запросами\n",
    "из корпоративных баз данных и прочих распределённых хранилищ."
   ]
  },
  {
   "cell_type": "code",
   "execution_count": 182,
   "metadata": {
    "_cell_guid": "cfdaacbc-23a3-423d-8d4d-120939ac7383",
    "id": "M4CeFXNGfko_"
   },
   "outputs": [],
   "source": [
    "import pandas as pd"
   ]
  },
  {
   "cell_type": "markdown",
   "metadata": {
    "id": "YIBIwMTDfkpF"
   },
   "source": [
    "Для корректной работы с графиками в python требуется загрузить специальную библиотеку\n",
    "**matplotlib**, программную библиотеку на языке python для визуализации данных двумерной и трехмерной графикой.\n",
    "\n",
    "Графики используются для облегчения интерпретации полученных результатов, а также в качестве иллюстраций в презентациях и отчетах. \n",
    "\n",
    "Оснвные методы для построения:\n",
    "* plot() - графики\n",
    "* semilogy() - график логарифметический\n",
    "* hist() - гистограммы"
   ]
  },
  {
   "cell_type": "code",
   "execution_count": 183,
   "metadata": {
    "id": "R55B0cnEfkpG"
   },
   "outputs": [],
   "source": [
    "import matplotlib.pyplot as plt # загружаем библиотеку и для простоты обращения в коде называем её сокращенно plt"
   ]
  },
  {
   "cell_type": "markdown",
   "metadata": {
    "id": "wQvSSCMqfkpI"
   },
   "source": [
    "Основную вычислительную нагрузку берёт на себя модуль **Numpy**, с помощью которого можно быстро производить\n",
    "вычисления сразу над массивами чисел."
   ]
  },
  {
   "cell_type": "code",
   "execution_count": 184,
   "metadata": {
    "id": "X3ci_qgGfkpJ"
   },
   "outputs": [],
   "source": [
    "import numpy as np"
   ]
  },
  {
   "cell_type": "markdown",
   "metadata": {
    "id": "ran1d4E2fkpL"
   },
   "source": [
    "Библиотека **scikit-learn** -- де факто наиболее популярный, разносторонний, хорошо\n",
    "документированный и постоянно обогащающийся инструмент для построения моделей машинного\n",
    "обучения.\n",
    "\n",
    "Выберем из него несколько готовых функции для расчёта метрик качества классификации."
   ]
  },
  {
   "cell_type": "code",
   "execution_count": 185,
   "metadata": {
    "_cell_guid": "cfdaacbc-23a3-423d-8d4d-120939ac7383",
    "id": "ll9etI7JfkpM"
   },
   "outputs": [],
   "source": [
    "from sklearn.metrics import roc_curve, precision_recall_curve, auc # метрики качества\n",
    "from sklearn.metrics import confusion_matrix, accuracy_score # метрики качества\n",
    "from sklearn.metrics import average_precision_score # метрики качества"
   ]
  },
  {
   "cell_type": "markdown",
   "metadata": {
    "id": "hj1yrX8JfkpO"
   },
   "source": [
    "Будем использовать библиотеку **MatplotLib**, которая отлично справляется с этой задачей.\n",
    "Модуль **seaborn** устанавливет \"приятные для глаз\" палитры и стили для графиков."
   ]
  },
  {
   "cell_type": "code",
   "execution_count": 186,
   "metadata": {
    "_cell_guid": "cfdaacbc-23a3-423d-8d4d-120939ac7383",
    "id": "6yXO2ggsfkpP"
   },
   "outputs": [],
   "source": [
    "%matplotlib inline\n",
    "import matplotlib.pyplot as plt\n",
    "\n",
    "import seaborn as sns\n",
    "sns.set_style('whitegrid') # установить стиль whitegrid, другие стили можно найти в документации к seaborn"
   ]
  },
  {
   "cell_type": "markdown",
   "metadata": {
    "id": "G0-nvr-CfkpR"
   },
   "source": [
    "Некоторые библиотеки могут выводить на экран предупреждения, которые важно учитывать в \"боевых\" задачах. Но в учебной тетради мы укажем Python'у игнорировать их."
   ]
  },
  {
   "cell_type": "code",
   "execution_count": 187,
   "metadata": {
    "id": "HDXxBSg0fkpS"
   },
   "outputs": [],
   "source": [
    "import warnings\n",
    "warnings.filterwarnings(\"ignore\")"
   ]
  },
  {
   "cell_type": "markdown",
   "metadata": {
    "id": "BYLFGU7LfkpU"
   },
   "source": [
    "**Шаг 1.2. Загрузим данные**\n",
    "\n",
    "Для решения задачи мы будем использовать данные. Они состоят из двух частей: часть для обучения и часть для тестирования модели. Загружаем данные с помощие команды !wget. Для того, чтобы игнорировать сообщения в процессе загрузки используем магическую команду %%capture в первой строке.\n",
    "\n"
   ]
  },
  {
   "cell_type": "code",
   "execution_count": null,
   "metadata": {
    "id": "CoqHRjvVgrHK"
   },
   "outputs": [],
   "source": []
  },
  {
   "cell_type": "markdown",
   "metadata": {
    "id": "udyJyD2HgrR5"
   },
   "source": [
    "Наши данные в формате `csv` - comma separated values, значения, разделенные точкой. Обычно data scientists работают с табличными данными, которые представлены именно в таком виде. Чтобы загрузить такие данные, будем использовать функцию **`pd.read_csv()`** из библиотеки `pandas`."
   ]
  },
  {
   "cell_type": "code",
   "execution_count": 188,
   "metadata": {
    "_cell_guid": "3ab4c525-a5cb-4183-9468-c1dd005c4c78",
    "id": "1YFLIos-fkpV"
   },
   "outputs": [],
   "source": [
    "training_data = pd.read_csv('training_data_employee.csv')"
   ]
  },
  {
   "cell_type": "markdown",
   "metadata": {
    "id": "PJwu8u_PfkpY"
   },
   "source": [
    "Посмотрим на 10 случайно выбранных записей из обучающего набора, для этого будем использовать функцию **sample()**. Параметр\n",
    "**random_state=123** фиксирует \"случайность\", то есть на любом компьютере метод **sample()** будет работать одинаково. "
   ]
  },
  {
   "cell_type": "code",
   "execution_count": 189,
   "metadata": {
    "colab": {
     "base_uri": "https://localhost:8080/",
     "height": 549
    },
    "id": "MXXfCDLMfkpY",
    "outputId": "650c8c87-9981-4a84-fbec-087d037f629e"
   },
   "outputs": [
    {
     "data": {
      "text/html": [
       "<div>\n",
       "<style scoped>\n",
       "    .dataframe tbody tr th:only-of-type {\n",
       "        vertical-align: middle;\n",
       "    }\n",
       "\n",
       "    .dataframe tbody tr th {\n",
       "        vertical-align: top;\n",
       "    }\n",
       "\n",
       "    .dataframe thead th {\n",
       "        text-align: right;\n",
       "    }\n",
       "</style>\n",
       "<table border=\"1\" class=\"dataframe\">\n",
       "  <thead>\n",
       "    <tr style=\"text-align: right;\">\n",
       "      <th></th>\n",
       "      <th>Age</th>\n",
       "      <th>BusinessTravel</th>\n",
       "      <th>Department</th>\n",
       "      <th>DistanceFromHome</th>\n",
       "      <th>Education</th>\n",
       "      <th>EducationField</th>\n",
       "      <th>Gender</th>\n",
       "      <th>JobRole</th>\n",
       "      <th>MaritalStatus</th>\n",
       "      <th>MonthlyIncome</th>\n",
       "      <th>NumCompaniesWorked</th>\n",
       "      <th>PercentSalaryHike</th>\n",
       "      <th>StandardHours</th>\n",
       "      <th>StockOptionLevel</th>\n",
       "      <th>TotalWorkingYears</th>\n",
       "      <th>TrainingTimesLastYear</th>\n",
       "      <th>YearsAtCompany</th>\n",
       "      <th>YearsSinceLastPromotion</th>\n",
       "      <th>YearsWithCurrManager</th>\n",
       "      <th>Attrition</th>\n",
       "    </tr>\n",
       "  </thead>\n",
       "  <tbody>\n",
       "    <tr>\n",
       "      <th>1930</th>\n",
       "      <td>45</td>\n",
       "      <td>Non-Travel</td>\n",
       "      <td>Sales</td>\n",
       "      <td>2</td>\n",
       "      <td>3</td>\n",
       "      <td>Medical</td>\n",
       "      <td>Female</td>\n",
       "      <td>Sales Executive</td>\n",
       "      <td>Married</td>\n",
       "      <td>66440</td>\n",
       "      <td>1.0</td>\n",
       "      <td>12</td>\n",
       "      <td>8</td>\n",
       "      <td>0</td>\n",
       "      <td>9.0</td>\n",
       "      <td>3</td>\n",
       "      <td>9</td>\n",
       "      <td>0</td>\n",
       "      <td>8</td>\n",
       "      <td>0</td>\n",
       "    </tr>\n",
       "    <tr>\n",
       "      <th>909</th>\n",
       "      <td>35</td>\n",
       "      <td>Travel_Rarely</td>\n",
       "      <td>Research &amp; Development</td>\n",
       "      <td>9</td>\n",
       "      <td>3</td>\n",
       "      <td>Life Sciences</td>\n",
       "      <td>Male</td>\n",
       "      <td>Manager</td>\n",
       "      <td>Divorced</td>\n",
       "      <td>173990</td>\n",
       "      <td>6.0</td>\n",
       "      <td>12</td>\n",
       "      <td>8</td>\n",
       "      <td>0</td>\n",
       "      <td>7.0</td>\n",
       "      <td>3</td>\n",
       "      <td>2</td>\n",
       "      <td>2</td>\n",
       "      <td>2</td>\n",
       "      <td>1</td>\n",
       "    </tr>\n",
       "    <tr>\n",
       "      <th>222</th>\n",
       "      <td>30</td>\n",
       "      <td>Travel_Frequently</td>\n",
       "      <td>Research &amp; Development</td>\n",
       "      <td>9</td>\n",
       "      <td>3</td>\n",
       "      <td>Other</td>\n",
       "      <td>Male</td>\n",
       "      <td>Healthcare Representative</td>\n",
       "      <td>Married</td>\n",
       "      <td>68250</td>\n",
       "      <td>1.0</td>\n",
       "      <td>14</td>\n",
       "      <td>8</td>\n",
       "      <td>0</td>\n",
       "      <td>1.0</td>\n",
       "      <td>2</td>\n",
       "      <td>1</td>\n",
       "      <td>0</td>\n",
       "      <td>0</td>\n",
       "      <td>1</td>\n",
       "    </tr>\n",
       "    <tr>\n",
       "      <th>2307</th>\n",
       "      <td>33</td>\n",
       "      <td>Travel_Rarely</td>\n",
       "      <td>Research &amp; Development</td>\n",
       "      <td>9</td>\n",
       "      <td>3</td>\n",
       "      <td>Medical</td>\n",
       "      <td>Female</td>\n",
       "      <td>Manufacturing Director</td>\n",
       "      <td>Married</td>\n",
       "      <td>28990</td>\n",
       "      <td>1.0</td>\n",
       "      <td>17</td>\n",
       "      <td>8</td>\n",
       "      <td>0</td>\n",
       "      <td>15.0</td>\n",
       "      <td>3</td>\n",
       "      <td>15</td>\n",
       "      <td>5</td>\n",
       "      <td>7</td>\n",
       "      <td>0</td>\n",
       "    </tr>\n",
       "    <tr>\n",
       "      <th>576</th>\n",
       "      <td>34</td>\n",
       "      <td>Travel_Rarely</td>\n",
       "      <td>Sales</td>\n",
       "      <td>1</td>\n",
       "      <td>1</td>\n",
       "      <td>Marketing</td>\n",
       "      <td>Female</td>\n",
       "      <td>Laboratory Technician</td>\n",
       "      <td>Married</td>\n",
       "      <td>24760</td>\n",
       "      <td>1.0</td>\n",
       "      <td>19</td>\n",
       "      <td>8</td>\n",
       "      <td>0</td>\n",
       "      <td>6.0</td>\n",
       "      <td>2</td>\n",
       "      <td>6</td>\n",
       "      <td>1</td>\n",
       "      <td>3</td>\n",
       "      <td>0</td>\n",
       "    </tr>\n",
       "    <tr>\n",
       "      <th>1984</th>\n",
       "      <td>56</td>\n",
       "      <td>Travel_Frequently</td>\n",
       "      <td>Research &amp; Development</td>\n",
       "      <td>1</td>\n",
       "      <td>2</td>\n",
       "      <td>Life Sciences</td>\n",
       "      <td>Female</td>\n",
       "      <td>Manufacturing Director</td>\n",
       "      <td>Married</td>\n",
       "      <td>52280</td>\n",
       "      <td>2.0</td>\n",
       "      <td>11</td>\n",
       "      <td>8</td>\n",
       "      <td>0</td>\n",
       "      <td>18.0</td>\n",
       "      <td>4</td>\n",
       "      <td>5</td>\n",
       "      <td>0</td>\n",
       "      <td>3</td>\n",
       "      <td>0</td>\n",
       "    </tr>\n",
       "    <tr>\n",
       "      <th>2984</th>\n",
       "      <td>28</td>\n",
       "      <td>Travel_Rarely</td>\n",
       "      <td>Research &amp; Development</td>\n",
       "      <td>9</td>\n",
       "      <td>3</td>\n",
       "      <td>Medical</td>\n",
       "      <td>Male</td>\n",
       "      <td>Sales Representative</td>\n",
       "      <td>Single</td>\n",
       "      <td>46480</td>\n",
       "      <td>0.0</td>\n",
       "      <td>23</td>\n",
       "      <td>8</td>\n",
       "      <td>2</td>\n",
       "      <td>9.0</td>\n",
       "      <td>2</td>\n",
       "      <td>8</td>\n",
       "      <td>0</td>\n",
       "      <td>7</td>\n",
       "      <td>0</td>\n",
       "    </tr>\n",
       "    <tr>\n",
       "      <th>2942</th>\n",
       "      <td>32</td>\n",
       "      <td>Travel_Frequently</td>\n",
       "      <td>Research &amp; Development</td>\n",
       "      <td>17</td>\n",
       "      <td>4</td>\n",
       "      <td>Other</td>\n",
       "      <td>Male</td>\n",
       "      <td>Sales Executive</td>\n",
       "      <td>Married</td>\n",
       "      <td>193280</td>\n",
       "      <td>1.0</td>\n",
       "      <td>15</td>\n",
       "      <td>8</td>\n",
       "      <td>3</td>\n",
       "      <td>5.0</td>\n",
       "      <td>2</td>\n",
       "      <td>5</td>\n",
       "      <td>0</td>\n",
       "      <td>3</td>\n",
       "      <td>0</td>\n",
       "    </tr>\n",
       "    <tr>\n",
       "      <th>43</th>\n",
       "      <td>18</td>\n",
       "      <td>Travel_Rarely</td>\n",
       "      <td>Sales</td>\n",
       "      <td>7</td>\n",
       "      <td>3</td>\n",
       "      <td>Life Sciences</td>\n",
       "      <td>Male</td>\n",
       "      <td>Research Scientist</td>\n",
       "      <td>Single</td>\n",
       "      <td>38120</td>\n",
       "      <td>1.0</td>\n",
       "      <td>15</td>\n",
       "      <td>8</td>\n",
       "      <td>0</td>\n",
       "      <td>0.0</td>\n",
       "      <td>3</td>\n",
       "      <td>0</td>\n",
       "      <td>0</td>\n",
       "      <td>0</td>\n",
       "      <td>0</td>\n",
       "    </tr>\n",
       "    <tr>\n",
       "      <th>2880</th>\n",
       "      <td>38</td>\n",
       "      <td>Travel_Rarely</td>\n",
       "      <td>Sales</td>\n",
       "      <td>8</td>\n",
       "      <td>2</td>\n",
       "      <td>Marketing</td>\n",
       "      <td>Male</td>\n",
       "      <td>Research Scientist</td>\n",
       "      <td>Married</td>\n",
       "      <td>49300</td>\n",
       "      <td>9.0</td>\n",
       "      <td>14</td>\n",
       "      <td>8</td>\n",
       "      <td>0</td>\n",
       "      <td>14.0</td>\n",
       "      <td>0</td>\n",
       "      <td>1</td>\n",
       "      <td>0</td>\n",
       "      <td>0</td>\n",
       "      <td>0</td>\n",
       "    </tr>\n",
       "  </tbody>\n",
       "</table>\n",
       "</div>"
      ],
      "text/plain": [
       "      Age     BusinessTravel              Department  DistanceFromHome  \\\n",
       "1930   45         Non-Travel                   Sales                 2   \n",
       "909    35      Travel_Rarely  Research & Development                 9   \n",
       "222    30  Travel_Frequently  Research & Development                 9   \n",
       "2307   33      Travel_Rarely  Research & Development                 9   \n",
       "576    34      Travel_Rarely                   Sales                 1   \n",
       "1984   56  Travel_Frequently  Research & Development                 1   \n",
       "2984   28      Travel_Rarely  Research & Development                 9   \n",
       "2942   32  Travel_Frequently  Research & Development                17   \n",
       "43     18      Travel_Rarely                   Sales                 7   \n",
       "2880   38      Travel_Rarely                   Sales                 8   \n",
       "\n",
       "      Education EducationField  Gender                    JobRole  \\\n",
       "1930          3        Medical  Female            Sales Executive   \n",
       "909           3  Life Sciences    Male                    Manager   \n",
       "222           3          Other    Male  Healthcare Representative   \n",
       "2307          3        Medical  Female     Manufacturing Director   \n",
       "576           1      Marketing  Female      Laboratory Technician   \n",
       "1984          2  Life Sciences  Female     Manufacturing Director   \n",
       "2984          3        Medical    Male       Sales Representative   \n",
       "2942          4          Other    Male            Sales Executive   \n",
       "43            3  Life Sciences    Male         Research Scientist   \n",
       "2880          2      Marketing    Male         Research Scientist   \n",
       "\n",
       "     MaritalStatus  MonthlyIncome  NumCompaniesWorked  PercentSalaryHike  \\\n",
       "1930       Married          66440                 1.0                 12   \n",
       "909       Divorced         173990                 6.0                 12   \n",
       "222        Married          68250                 1.0                 14   \n",
       "2307       Married          28990                 1.0                 17   \n",
       "576        Married          24760                 1.0                 19   \n",
       "1984       Married          52280                 2.0                 11   \n",
       "2984        Single          46480                 0.0                 23   \n",
       "2942       Married         193280                 1.0                 15   \n",
       "43          Single          38120                 1.0                 15   \n",
       "2880       Married          49300                 9.0                 14   \n",
       "\n",
       "      StandardHours  StockOptionLevel  TotalWorkingYears  \\\n",
       "1930              8                 0                9.0   \n",
       "909               8                 0                7.0   \n",
       "222               8                 0                1.0   \n",
       "2307              8                 0               15.0   \n",
       "576               8                 0                6.0   \n",
       "1984              8                 0               18.0   \n",
       "2984              8                 2                9.0   \n",
       "2942              8                 3                5.0   \n",
       "43                8                 0                0.0   \n",
       "2880              8                 0               14.0   \n",
       "\n",
       "      TrainingTimesLastYear  YearsAtCompany  YearsSinceLastPromotion  \\\n",
       "1930                      3               9                        0   \n",
       "909                       3               2                        2   \n",
       "222                       2               1                        0   \n",
       "2307                      3              15                        5   \n",
       "576                       2               6                        1   \n",
       "1984                      4               5                        0   \n",
       "2984                      2               8                        0   \n",
       "2942                      2               5                        0   \n",
       "43                        3               0                        0   \n",
       "2880                      0               1                        0   \n",
       "\n",
       "      YearsWithCurrManager  Attrition  \n",
       "1930                     8          0  \n",
       "909                      2          1  \n",
       "222                      0          1  \n",
       "2307                     7          0  \n",
       "576                      3          0  \n",
       "1984                     3          0  \n",
       "2984                     7          0  \n",
       "2942                     3          0  \n",
       "43                       0          0  \n",
       "2880                     0          0  "
      ]
     },
     "execution_count": 189,
     "metadata": {},
     "output_type": "execute_result"
    }
   ],
   "source": [
    "training_data.sample(10, random_state=123)"
   ]
  },
  {
   "cell_type": "markdown",
   "metadata": {
    "id": "vk_o4HxOyfiz"
   },
   "source": [
    "**Упражнение:** выведите на экран те строчки из таблицы `training_data`, для котрых возраст сотрудника (Age) не больше 35 и не меньше 25, для которых сотрудник мужчина(Male) и работает в отделе продаж (Sales). Также проверьте размерность полученной выборки"
   ]
  },
  {
   "cell_type": "code",
   "execution_count": 190,
   "metadata": {
    "colab": {
     "base_uri": "https://localhost:8080/",
     "height": 34
    },
    "id": "cM44RRdBzVNU",
    "outputId": "0584564b-5cf8-4b57-b344-700f137e1e11"
   },
   "outputs": [
    {
     "data": {
      "text/plain": [
       "(220, 20)"
      ]
     },
     "execution_count": 190,
     "metadata": {},
     "output_type": "execute_result"
    }
   ],
   "source": [
    "traning_data_mid_age_male_sales = training_data[(training_data['Age'] >= 25) & (training_data['Age'] <= 35)\n",
    "                                                & (training_data['Gender'] == 'Male') & (training_data['JobRole'].str.find('Sales') >= 0)]\n",
    "traning_data_mid_age_male_sales.shape"
   ]
  },
  {
   "cell_type": "code",
   "execution_count": 191,
   "metadata": {
    "colab": {
     "base_uri": "https://localhost:8080/",
     "height": 309
    },
    "id": "y8jvVTcQUULZ",
    "outputId": "58507dab-153f-49b4-b7be-05c15294034e"
   },
   "outputs": [
    {
     "data": {
      "text/html": [
       "<div>\n",
       "<style scoped>\n",
       "    .dataframe tbody tr th:only-of-type {\n",
       "        vertical-align: middle;\n",
       "    }\n",
       "\n",
       "    .dataframe tbody tr th {\n",
       "        vertical-align: top;\n",
       "    }\n",
       "\n",
       "    .dataframe thead th {\n",
       "        text-align: right;\n",
       "    }\n",
       "</style>\n",
       "<table border=\"1\" class=\"dataframe\">\n",
       "  <thead>\n",
       "    <tr style=\"text-align: right;\">\n",
       "      <th></th>\n",
       "      <th>Age</th>\n",
       "      <th>BusinessTravel</th>\n",
       "      <th>Department</th>\n",
       "      <th>DistanceFromHome</th>\n",
       "      <th>Education</th>\n",
       "      <th>EducationField</th>\n",
       "      <th>Gender</th>\n",
       "      <th>JobRole</th>\n",
       "      <th>MaritalStatus</th>\n",
       "      <th>MonthlyIncome</th>\n",
       "      <th>NumCompaniesWorked</th>\n",
       "      <th>PercentSalaryHike</th>\n",
       "      <th>StandardHours</th>\n",
       "      <th>StockOptionLevel</th>\n",
       "      <th>TotalWorkingYears</th>\n",
       "      <th>TrainingTimesLastYear</th>\n",
       "      <th>YearsAtCompany</th>\n",
       "      <th>YearsSinceLastPromotion</th>\n",
       "      <th>YearsWithCurrManager</th>\n",
       "      <th>Attrition</th>\n",
       "    </tr>\n",
       "  </thead>\n",
       "  <tbody>\n",
       "    <tr>\n",
       "      <th>2</th>\n",
       "      <td>32</td>\n",
       "      <td>Travel_Frequently</td>\n",
       "      <td>Research &amp; Development</td>\n",
       "      <td>17</td>\n",
       "      <td>4</td>\n",
       "      <td>Other</td>\n",
       "      <td>Male</td>\n",
       "      <td>Sales Executive</td>\n",
       "      <td>Married</td>\n",
       "      <td>193280</td>\n",
       "      <td>1.0</td>\n",
       "      <td>15</td>\n",
       "      <td>8</td>\n",
       "      <td>3</td>\n",
       "      <td>5.0</td>\n",
       "      <td>2</td>\n",
       "      <td>5</td>\n",
       "      <td>0</td>\n",
       "      <td>3</td>\n",
       "      <td>0</td>\n",
       "    </tr>\n",
       "    <tr>\n",
       "      <th>2245</th>\n",
       "      <td>31</td>\n",
       "      <td>Travel_Frequently</td>\n",
       "      <td>Sales</td>\n",
       "      <td>2</td>\n",
       "      <td>3</td>\n",
       "      <td>Medical</td>\n",
       "      <td>Male</td>\n",
       "      <td>Sales Executive</td>\n",
       "      <td>Single</td>\n",
       "      <td>25720</td>\n",
       "      <td>1.0</td>\n",
       "      <td>13</td>\n",
       "      <td>8</td>\n",
       "      <td>3</td>\n",
       "      <td>10.0</td>\n",
       "      <td>3</td>\n",
       "      <td>10</td>\n",
       "      <td>4</td>\n",
       "      <td>7</td>\n",
       "      <td>1</td>\n",
       "    </tr>\n",
       "    <tr>\n",
       "      <th>3261</th>\n",
       "      <td>34</td>\n",
       "      <td>Travel_Rarely</td>\n",
       "      <td>Sales</td>\n",
       "      <td>2</td>\n",
       "      <td>3</td>\n",
       "      <td>Marketing</td>\n",
       "      <td>Male</td>\n",
       "      <td>Sales Representative</td>\n",
       "      <td>Single</td>\n",
       "      <td>103120</td>\n",
       "      <td>1.0</td>\n",
       "      <td>12</td>\n",
       "      <td>8</td>\n",
       "      <td>0</td>\n",
       "      <td>6.0</td>\n",
       "      <td>2</td>\n",
       "      <td>6</td>\n",
       "      <td>1</td>\n",
       "      <td>3</td>\n",
       "      <td>0</td>\n",
       "    </tr>\n",
       "    <tr>\n",
       "      <th>1622</th>\n",
       "      <td>30</td>\n",
       "      <td>Travel_Rarely</td>\n",
       "      <td>Sales</td>\n",
       "      <td>25</td>\n",
       "      <td>3</td>\n",
       "      <td>Marketing</td>\n",
       "      <td>Male</td>\n",
       "      <td>Sales Executive</td>\n",
       "      <td>Single</td>\n",
       "      <td>24060</td>\n",
       "      <td>2.0</td>\n",
       "      <td>20</td>\n",
       "      <td>8</td>\n",
       "      <td>1</td>\n",
       "      <td>11.0</td>\n",
       "      <td>5</td>\n",
       "      <td>5</td>\n",
       "      <td>0</td>\n",
       "      <td>2</td>\n",
       "      <td>0</td>\n",
       "    </tr>\n",
       "    <tr>\n",
       "      <th>2594</th>\n",
       "      <td>31</td>\n",
       "      <td>Non-Travel</td>\n",
       "      <td>Sales</td>\n",
       "      <td>23</td>\n",
       "      <td>1</td>\n",
       "      <td>Medical</td>\n",
       "      <td>Male</td>\n",
       "      <td>Sales Executive</td>\n",
       "      <td>Divorced</td>\n",
       "      <td>38670</td>\n",
       "      <td>1.0</td>\n",
       "      <td>11</td>\n",
       "      <td>8</td>\n",
       "      <td>1</td>\n",
       "      <td>4.0</td>\n",
       "      <td>4</td>\n",
       "      <td>4</td>\n",
       "      <td>2</td>\n",
       "      <td>3</td>\n",
       "      <td>0</td>\n",
       "    </tr>\n",
       "  </tbody>\n",
       "</table>\n",
       "</div>"
      ],
      "text/plain": [
       "      Age     BusinessTravel              Department  DistanceFromHome  \\\n",
       "2      32  Travel_Frequently  Research & Development                17   \n",
       "2245   31  Travel_Frequently                   Sales                 2   \n",
       "3261   34      Travel_Rarely                   Sales                 2   \n",
       "1622   30      Travel_Rarely                   Sales                25   \n",
       "2594   31         Non-Travel                   Sales                23   \n",
       "\n",
       "      Education EducationField Gender               JobRole MaritalStatus  \\\n",
       "2             4          Other   Male       Sales Executive       Married   \n",
       "2245          3        Medical   Male       Sales Executive        Single   \n",
       "3261          3      Marketing   Male  Sales Representative        Single   \n",
       "1622          3      Marketing   Male       Sales Executive        Single   \n",
       "2594          1        Medical   Male       Sales Executive      Divorced   \n",
       "\n",
       "      MonthlyIncome  NumCompaniesWorked  PercentSalaryHike  StandardHours  \\\n",
       "2            193280                 1.0                 15              8   \n",
       "2245          25720                 1.0                 13              8   \n",
       "3261         103120                 1.0                 12              8   \n",
       "1622          24060                 2.0                 20              8   \n",
       "2594          38670                 1.0                 11              8   \n",
       "\n",
       "      StockOptionLevel  TotalWorkingYears  TrainingTimesLastYear  \\\n",
       "2                    3                5.0                      2   \n",
       "2245                 3               10.0                      3   \n",
       "3261                 0                6.0                      2   \n",
       "1622                 1               11.0                      5   \n",
       "2594                 1                4.0                      4   \n",
       "\n",
       "      YearsAtCompany  YearsSinceLastPromotion  YearsWithCurrManager  Attrition  \n",
       "2                  5                        0                     3          0  \n",
       "2245              10                        4                     7          1  \n",
       "3261               6                        1                     3          0  \n",
       "1622               5                        0                     2          0  \n",
       "2594               4                        2                     3          0  "
      ]
     },
     "execution_count": 191,
     "metadata": {},
     "output_type": "execute_result"
    }
   ],
   "source": [
    "traning_data_mid_age_male_sales.sample(5)"
   ]
  },
  {
   "cell_type": "markdown",
   "metadata": {
    "id": "7GUHTGCifkpc"
   },
   "source": [
    "**Шаг 1.3. Посмотрим общую статистику по данным**\n",
    "\n",
    "Посмотрим на технические параметры загруженных данных для обучения. Для этого вызовем метод **`describe()`** для набора данных *`training_data`*\n",
    "\n",
    "Для удобства отображения мы транспонируем результат: меняем местами столбцы и строки."
   ]
  },
  {
   "cell_type": "code",
   "execution_count": 192,
   "metadata": {
    "colab": {
     "base_uri": "https://localhost:8080/",
     "height": 483
    },
    "id": "QGUwuilbfkpd",
    "outputId": "baa26603-b089-4b99-8a07-11b6f20852c0",
    "scrolled": true
   },
   "outputs": [
    {
     "data": {
      "text/html": [
       "<div>\n",
       "<style scoped>\n",
       "    .dataframe tbody tr th:only-of-type {\n",
       "        vertical-align: middle;\n",
       "    }\n",
       "\n",
       "    .dataframe tbody tr th {\n",
       "        vertical-align: top;\n",
       "    }\n",
       "\n",
       "    .dataframe thead th {\n",
       "        text-align: right;\n",
       "    }\n",
       "</style>\n",
       "<table border=\"1\" class=\"dataframe\">\n",
       "  <thead>\n",
       "    <tr style=\"text-align: right;\">\n",
       "      <th></th>\n",
       "      <th>count</th>\n",
       "      <th>mean</th>\n",
       "      <th>std</th>\n",
       "      <th>min</th>\n",
       "      <th>25%</th>\n",
       "      <th>50%</th>\n",
       "      <th>75%</th>\n",
       "      <th>max</th>\n",
       "    </tr>\n",
       "  </thead>\n",
       "  <tbody>\n",
       "    <tr>\n",
       "      <th>Age</th>\n",
       "      <td>3308.0</td>\n",
       "      <td>36.879383</td>\n",
       "      <td>9.146506</td>\n",
       "      <td>18.0</td>\n",
       "      <td>30.0</td>\n",
       "      <td>36.0</td>\n",
       "      <td>43.0</td>\n",
       "      <td>60.0</td>\n",
       "    </tr>\n",
       "    <tr>\n",
       "      <th>DistanceFromHome</th>\n",
       "      <td>3308.0</td>\n",
       "      <td>9.201935</td>\n",
       "      <td>8.078147</td>\n",
       "      <td>1.0</td>\n",
       "      <td>2.0</td>\n",
       "      <td>7.0</td>\n",
       "      <td>14.0</td>\n",
       "      <td>29.0</td>\n",
       "    </tr>\n",
       "    <tr>\n",
       "      <th>Education</th>\n",
       "      <td>3308.0</td>\n",
       "      <td>2.918380</td>\n",
       "      <td>1.024933</td>\n",
       "      <td>1.0</td>\n",
       "      <td>2.0</td>\n",
       "      <td>3.0</td>\n",
       "      <td>4.0</td>\n",
       "      <td>5.0</td>\n",
       "    </tr>\n",
       "    <tr>\n",
       "      <th>MonthlyIncome</th>\n",
       "      <td>3308.0</td>\n",
       "      <td>64594.903265</td>\n",
       "      <td>46744.260986</td>\n",
       "      <td>10090.0</td>\n",
       "      <td>29040.0</td>\n",
       "      <td>49070.0</td>\n",
       "      <td>83210.0</td>\n",
       "      <td>199990.0</td>\n",
       "    </tr>\n",
       "    <tr>\n",
       "      <th>NumCompaniesWorked</th>\n",
       "      <td>3293.0</td>\n",
       "      <td>2.703310</td>\n",
       "      <td>2.506197</td>\n",
       "      <td>0.0</td>\n",
       "      <td>1.0</td>\n",
       "      <td>2.0</td>\n",
       "      <td>4.0</td>\n",
       "      <td>9.0</td>\n",
       "    </tr>\n",
       "    <tr>\n",
       "      <th>PercentSalaryHike</th>\n",
       "      <td>3308.0</td>\n",
       "      <td>15.230048</td>\n",
       "      <td>3.672812</td>\n",
       "      <td>11.0</td>\n",
       "      <td>12.0</td>\n",
       "      <td>14.0</td>\n",
       "      <td>18.0</td>\n",
       "      <td>25.0</td>\n",
       "    </tr>\n",
       "    <tr>\n",
       "      <th>StandardHours</th>\n",
       "      <td>3308.0</td>\n",
       "      <td>8.000000</td>\n",
       "      <td>0.000000</td>\n",
       "      <td>8.0</td>\n",
       "      <td>8.0</td>\n",
       "      <td>8.0</td>\n",
       "      <td>8.0</td>\n",
       "      <td>8.0</td>\n",
       "    </tr>\n",
       "    <tr>\n",
       "      <th>StockOptionLevel</th>\n",
       "      <td>3308.0</td>\n",
       "      <td>0.804716</td>\n",
       "      <td>0.860350</td>\n",
       "      <td>0.0</td>\n",
       "      <td>0.0</td>\n",
       "      <td>1.0</td>\n",
       "      <td>1.0</td>\n",
       "      <td>3.0</td>\n",
       "    </tr>\n",
       "    <tr>\n",
       "      <th>TotalWorkingYears</th>\n",
       "      <td>3301.0</td>\n",
       "      <td>11.283248</td>\n",
       "      <td>7.791024</td>\n",
       "      <td>0.0</td>\n",
       "      <td>6.0</td>\n",
       "      <td>10.0</td>\n",
       "      <td>15.0</td>\n",
       "      <td>40.0</td>\n",
       "    </tr>\n",
       "    <tr>\n",
       "      <th>TrainingTimesLastYear</th>\n",
       "      <td>3308.0</td>\n",
       "      <td>2.801995</td>\n",
       "      <td>1.290718</td>\n",
       "      <td>0.0</td>\n",
       "      <td>2.0</td>\n",
       "      <td>3.0</td>\n",
       "      <td>3.0</td>\n",
       "      <td>6.0</td>\n",
       "    </tr>\n",
       "    <tr>\n",
       "      <th>YearsAtCompany</th>\n",
       "      <td>3308.0</td>\n",
       "      <td>6.998791</td>\n",
       "      <td>6.135502</td>\n",
       "      <td>0.0</td>\n",
       "      <td>3.0</td>\n",
       "      <td>5.0</td>\n",
       "      <td>9.0</td>\n",
       "      <td>40.0</td>\n",
       "    </tr>\n",
       "    <tr>\n",
       "      <th>YearsSinceLastPromotion</th>\n",
       "      <td>3308.0</td>\n",
       "      <td>2.187122</td>\n",
       "      <td>3.217035</td>\n",
       "      <td>0.0</td>\n",
       "      <td>0.0</td>\n",
       "      <td>1.0</td>\n",
       "      <td>3.0</td>\n",
       "      <td>15.0</td>\n",
       "    </tr>\n",
       "    <tr>\n",
       "      <th>YearsWithCurrManager</th>\n",
       "      <td>3308.0</td>\n",
       "      <td>4.118501</td>\n",
       "      <td>3.560423</td>\n",
       "      <td>0.0</td>\n",
       "      <td>2.0</td>\n",
       "      <td>3.0</td>\n",
       "      <td>7.0</td>\n",
       "      <td>17.0</td>\n",
       "    </tr>\n",
       "    <tr>\n",
       "      <th>Attrition</th>\n",
       "      <td>3308.0</td>\n",
       "      <td>0.160218</td>\n",
       "      <td>0.366863</td>\n",
       "      <td>0.0</td>\n",
       "      <td>0.0</td>\n",
       "      <td>0.0</td>\n",
       "      <td>0.0</td>\n",
       "      <td>1.0</td>\n",
       "    </tr>\n",
       "  </tbody>\n",
       "</table>\n",
       "</div>"
      ],
      "text/plain": [
       "                          count          mean           std      min      25%  \\\n",
       "Age                      3308.0     36.879383      9.146506     18.0     30.0   \n",
       "DistanceFromHome         3308.0      9.201935      8.078147      1.0      2.0   \n",
       "Education                3308.0      2.918380      1.024933      1.0      2.0   \n",
       "MonthlyIncome            3308.0  64594.903265  46744.260986  10090.0  29040.0   \n",
       "NumCompaniesWorked       3293.0      2.703310      2.506197      0.0      1.0   \n",
       "PercentSalaryHike        3308.0     15.230048      3.672812     11.0     12.0   \n",
       "StandardHours            3308.0      8.000000      0.000000      8.0      8.0   \n",
       "StockOptionLevel         3308.0      0.804716      0.860350      0.0      0.0   \n",
       "TotalWorkingYears        3301.0     11.283248      7.791024      0.0      6.0   \n",
       "TrainingTimesLastYear    3308.0      2.801995      1.290718      0.0      2.0   \n",
       "YearsAtCompany           3308.0      6.998791      6.135502      0.0      3.0   \n",
       "YearsSinceLastPromotion  3308.0      2.187122      3.217035      0.0      0.0   \n",
       "YearsWithCurrManager     3308.0      4.118501      3.560423      0.0      2.0   \n",
       "Attrition                3308.0      0.160218      0.366863      0.0      0.0   \n",
       "\n",
       "                             50%      75%       max  \n",
       "Age                         36.0     43.0      60.0  \n",
       "DistanceFromHome             7.0     14.0      29.0  \n",
       "Education                    3.0      4.0       5.0  \n",
       "MonthlyIncome            49070.0  83210.0  199990.0  \n",
       "NumCompaniesWorked           2.0      4.0       9.0  \n",
       "PercentSalaryHike           14.0     18.0      25.0  \n",
       "StandardHours                8.0      8.0       8.0  \n",
       "StockOptionLevel             1.0      1.0       3.0  \n",
       "TotalWorkingYears           10.0     15.0      40.0  \n",
       "TrainingTimesLastYear        3.0      3.0       6.0  \n",
       "YearsAtCompany               5.0      9.0      40.0  \n",
       "YearsSinceLastPromotion      1.0      3.0      15.0  \n",
       "YearsWithCurrManager         3.0      7.0      17.0  \n",
       "Attrition                    0.0      0.0       1.0  "
      ]
     },
     "execution_count": 192,
     "metadata": {},
     "output_type": "execute_result"
    }
   ],
   "source": [
    "training_data.describe().T"
   ]
  },
  {
   "cell_type": "markdown",
   "metadata": {
    "id": "TbMHhrB6fkph"
   },
   "source": [
    "Обратим внимание на общие статистики показателей в данных:\n",
    "* **count** -- количество значений, которые не являются пропущенными (`NaN`);\n",
    "* **mean**, **std** -- среднее и разброс данных в соответствующем поле;\n",
    "* остальные статистики -- минимальное и максимальное значения, и квантили."
   ]
  },
  {
   "cell_type": "markdown",
   "metadata": {
    "id": "sdURPuwafkph"
   },
   "source": [
    "Из таких характеристик столбцов мы уже можем извлечь некоторую информацию о данных:\n",
    "* У столбца **Attrition** среднее 0.160. Значит, в нашей выборке только 16% сотрудников ушли из компании.\n",
    "* У столбца **MonthlyIncome** существенно отличается масштаб значений: минимальное значение дохода - 10090, максимальное - 199990.\n",
    "* У столбцов **NumCompaniesWorked** и **TotalWorkingYears** есть пропуски."
   ]
  },
  {
   "cell_type": "markdown",
   "metadata": {
    "id": "h8EEwRAYfkpi"
   },
   "source": [
    "## 2. Обработать данные перед обучением модели"
   ]
  },
  {
   "cell_type": "markdown",
   "metadata": {
    "id": "-J1tB8wIfkpj"
   },
   "source": [
    "**Шаг 2.1. Проверяем данные на наличие пропусков и типов переменных**\n",
    "\n",
    "Начнем с проверки общей информации о данных.\n",
    "Для того чтобы это сделать, нужно обратиться вызвать у переменной *training_data* метод **info()**.\n",
    "\n",
    "Напомним, что в конце необходимо поставить скобочки."
   ]
  },
  {
   "cell_type": "code",
   "execution_count": 193,
   "metadata": {
    "colab": {
     "base_uri": "https://localhost:8080/",
     "height": 476
    },
    "id": "AF7d9q9_fkpj",
    "outputId": "cbccccad-7b90-431e-9054-50668c65e253"
   },
   "outputs": [
    {
     "name": "stdout",
     "output_type": "stream",
     "text": [
      "<class 'pandas.core.frame.DataFrame'>\n",
      "RangeIndex: 3308 entries, 0 to 3307\n",
      "Data columns (total 20 columns):\n",
      " #   Column                   Non-Null Count  Dtype  \n",
      "---  ------                   --------------  -----  \n",
      " 0   Age                      3308 non-null   int64  \n",
      " 1   BusinessTravel           3308 non-null   object \n",
      " 2   Department               3308 non-null   object \n",
      " 3   DistanceFromHome         3308 non-null   int64  \n",
      " 4   Education                3308 non-null   int64  \n",
      " 5   EducationField           3308 non-null   object \n",
      " 6   Gender                   3308 non-null   object \n",
      " 7   JobRole                  3308 non-null   object \n",
      " 8   MaritalStatus            3308 non-null   object \n",
      " 9   MonthlyIncome            3308 non-null   int64  \n",
      " 10  NumCompaniesWorked       3293 non-null   float64\n",
      " 11  PercentSalaryHike        3308 non-null   int64  \n",
      " 12  StandardHours            3308 non-null   int64  \n",
      " 13  StockOptionLevel         3308 non-null   int64  \n",
      " 14  TotalWorkingYears        3301 non-null   float64\n",
      " 15  TrainingTimesLastYear    3308 non-null   int64  \n",
      " 16  YearsAtCompany           3308 non-null   int64  \n",
      " 17  YearsSinceLastPromotion  3308 non-null   int64  \n",
      " 18  YearsWithCurrManager     3308 non-null   int64  \n",
      " 19  Attrition                3308 non-null   int64  \n",
      "dtypes: float64(2), int64(12), object(6)\n",
      "memory usage: 517.0+ KB\n"
     ]
    }
   ],
   "source": [
    "training_data.info()"
   ]
  },
  {
   "cell_type": "markdown",
   "metadata": {
    "id": "qiaPNczsfkpm"
   },
   "source": [
    "Как мы уже видели, пропусков в данных не так много: только у столбцов  **NumCompaniesWorked** и **TotalWorkingYears**. "
   ]
  },
  {
   "cell_type": "markdown",
   "metadata": {
    "id": "MpMfawl1fkpo"
   },
   "source": [
    "**Шаг 2.2. Заполнение пропусков**\n",
    "\n",
    "Рассчитаем средние значения признаков в обучающей выборке, и заполним полученными\n",
    "числами пропуски как в **тестовом наборе** данных, так и в **самой обучающей выборке**.\n",
    "\n",
    "Мы будем заполнять средними значениями из обучающей выборки, так как при решении реальной задачи нам будут доступны только данные для обучения.\n",
    "\n",
    "Для получения средних значений вызовем метод **`mean()`**. По умолчанию метод считает средним значения по столбцам. После выполнения ячейки средние значения записаны в переменной *`train_mean`*\n",
    "\n"
   ]
  },
  {
   "cell_type": "code",
   "execution_count": 194,
   "metadata": {
    "colab": {
     "base_uri": "https://localhost:8080/",
     "height": 272
    },
    "id": "Qk6_zy1ffkpo",
    "outputId": "bd099734-253c-4616-fbda-3bb4eb089d6f"
   },
   "outputs": [
    {
     "data": {
      "text/plain": [
       "Age                           36.879383\n",
       "DistanceFromHome               9.201935\n",
       "Education                      2.918380\n",
       "MonthlyIncome              64594.903265\n",
       "NumCompaniesWorked             2.703310\n",
       "PercentSalaryHike             15.230048\n",
       "StandardHours                  8.000000\n",
       "StockOptionLevel               0.804716\n",
       "TotalWorkingYears             11.283248\n",
       "TrainingTimesLastYear          2.801995\n",
       "YearsAtCompany                 6.998791\n",
       "YearsSinceLastPromotion        2.187122\n",
       "YearsWithCurrManager           4.118501\n",
       "Attrition                      0.160218\n",
       "dtype: float64"
      ]
     },
     "execution_count": 194,
     "metadata": {},
     "output_type": "execute_result"
    }
   ],
   "source": [
    "train_mean = training_data.mean()\n",
    "train_mean"
   ]
  },
  {
   "cell_type": "markdown",
   "metadata": {
    "id": "L8-US770w7IC"
   },
   "source": [
    "**Упражнение:** Найдите среднее значение переменной \"Кол-во компаний, в которых работал сотрудник\"(NumCompaniesWorked) среди тех сотрудников, у которых месячный доход (MonthlyIncome) находится между 80000 и 120000"
   ]
  },
  {
   "cell_type": "code",
   "execution_count": 195,
   "metadata": {
    "colab": {
     "base_uri": "https://localhost:8080/",
     "height": 34
    },
    "id": "d-RaYKbZw6X6",
    "outputId": "7715fa32-7e88-4d26-8769-546a1f1ced0f"
   },
   "outputs": [
    {
     "data": {
      "text/plain": [
       "2.1947115384615383"
      ]
     },
     "execution_count": 195,
     "metadata": {},
     "output_type": "execute_result"
    }
   ],
   "source": [
    "training_data.loc[\n",
    "  (training_data['MonthlyIncome'] >= 80000) \n",
    "  & (training_data['MonthlyIncome'] <= 120000), \n",
    "  'NumCompaniesWorked'\n",
    "].mean()"
   ]
  },
  {
   "cell_type": "markdown",
   "metadata": {
    "id": "WKl_GvqYfkpr"
   },
   "source": [
    "Пропуски в данных можно заполнять и разными методами:\n",
    "* выборочной статистикой (среднее, медиана);\n",
    "* прогнозами регрессии по известным признакам;\n",
    "* случайными значениями.\n",
    "\n",
    "Если относительно небольшая доля наблюдению имеет пропуски, то можно\n",
    "вовсе исключить неполные наблюдения с пропущенными значениями из выборки.\n",
    "\n",
    "Для заполнения средним значением, передадим на вход методу **`fillna()`** полученный ранее набор средних значений для каждого столбца. Опция `inplace=True` говорит, что мы запишем изменения прямо в существующий массив, а не создадим новый."
   ]
  },
  {
   "cell_type": "code",
   "execution_count": 196,
   "metadata": {
    "id": "2wXGqQ3Tfkpr"
   },
   "outputs": [],
   "source": [
    "training_data.fillna(train_mean, inplace=True)"
   ]
  },
  {
   "cell_type": "markdown",
   "metadata": {
    "id": "0YErevvOfkpt"
   },
   "source": [
    "Убедимся, что пропусков больше нет"
   ]
  },
  {
   "cell_type": "code",
   "execution_count": 197,
   "metadata": {
    "colab": {
     "base_uri": "https://localhost:8080/",
     "height": 476
    },
    "id": "jgotMFeNfkpv",
    "outputId": "71f7b413-2633-4b29-feba-1757a88bbbe7"
   },
   "outputs": [
    {
     "name": "stdout",
     "output_type": "stream",
     "text": [
      "<class 'pandas.core.frame.DataFrame'>\n",
      "RangeIndex: 3308 entries, 0 to 3307\n",
      "Data columns (total 20 columns):\n",
      " #   Column                   Non-Null Count  Dtype  \n",
      "---  ------                   --------------  -----  \n",
      " 0   Age                      3308 non-null   int64  \n",
      " 1   BusinessTravel           3308 non-null   object \n",
      " 2   Department               3308 non-null   object \n",
      " 3   DistanceFromHome         3308 non-null   int64  \n",
      " 4   Education                3308 non-null   int64  \n",
      " 5   EducationField           3308 non-null   object \n",
      " 6   Gender                   3308 non-null   object \n",
      " 7   JobRole                  3308 non-null   object \n",
      " 8   MaritalStatus            3308 non-null   object \n",
      " 9   MonthlyIncome            3308 non-null   int64  \n",
      " 10  NumCompaniesWorked       3308 non-null   float64\n",
      " 11  PercentSalaryHike        3308 non-null   int64  \n",
      " 12  StandardHours            3308 non-null   int64  \n",
      " 13  StockOptionLevel         3308 non-null   int64  \n",
      " 14  TotalWorkingYears        3308 non-null   float64\n",
      " 15  TrainingTimesLastYear    3308 non-null   int64  \n",
      " 16  YearsAtCompany           3308 non-null   int64  \n",
      " 17  YearsSinceLastPromotion  3308 non-null   int64  \n",
      " 18  YearsWithCurrManager     3308 non-null   int64  \n",
      " 19  Attrition                3308 non-null   int64  \n",
      "dtypes: float64(2), int64(12), object(6)\n",
      "memory usage: 517.0+ KB\n"
     ]
    }
   ],
   "source": [
    "training_data.info()"
   ]
  },
  {
   "cell_type": "markdown",
   "metadata": {
    "id": "4rxdUB8Rfkp0"
   },
   "source": [
    "**Шаг 2.3. Работаем с целевой переменной**\n",
    "\n",
    "*Какая переменная целевая?*\n",
    "\n",
    "В данном случае по условию задачи мы должны прогнозировать уход сотрудника, поэтому целевая переменная - это Attrition, факт ухода или не ухода сотрудника. "
   ]
  },
  {
   "cell_type": "markdown",
   "metadata": {
    "id": "_feUDAA1fkp1"
   },
   "source": [
    "Нам нужно выделить в отдельную переменную *training_values* столбец из нашей таблицы, который соответствует определенной выше целевой переменной. Для этого мы у таблицы *training_data* в квадратных скобках указываем имя нужного столбца. В нашем случае это имя записано в переменной *target_variable_name*. "
   ]
  },
  {
   "cell_type": "code",
   "execution_count": 198,
   "metadata": {
    "id": "YQGmNPwCfkp2"
   },
   "outputs": [],
   "source": [
    "target_variable_name = 'Attrition'"
   ]
  },
  {
   "cell_type": "code",
   "execution_count": 199,
   "metadata": {
    "id": "AVqbJaXrfkp5"
   },
   "outputs": [],
   "source": [
    "training_values = training_data[target_variable_name]"
   ]
  },
  {
   "cell_type": "markdown",
   "metadata": {
    "id": "hB44V7tmfkp7"
   },
   "source": [
    "Чтобы посчитать количество сотрудников, которые уволились (значение переменной **Attrition** равно единице) и сотрудников, которые остались (значение **Attrition** равно нулю) вызовем метод **`value_counts()`**"
   ]
  },
  {
   "cell_type": "code",
   "execution_count": 200,
   "metadata": {
    "colab": {
     "base_uri": "https://localhost:8080/",
     "height": 68
    },
    "id": "48jPMfyrfkp7",
    "outputId": "336cecbc-6b94-458e-c810-41a95127da45"
   },
   "outputs": [
    {
     "data": {
      "text/plain": [
       "0    2778\n",
       "1     530\n",
       "Name: Attrition, dtype: int64"
      ]
     },
     "execution_count": 200,
     "metadata": {},
     "output_type": "execute_result"
    }
   ],
   "source": [
    "training_values.value_counts()"
   ]
  },
  {
   "cell_type": "markdown",
   "metadata": {
    "id": "EnZXq2F1GW9O"
   },
   "source": [
    "**Упражнение:** посчитайте количество значений в других столбцах датафрейма training_data с помощью метода value_counts()."
   ]
  },
  {
   "cell_type": "code",
   "execution_count": 201,
   "metadata": {
    "id": "-3UtyAIDGdfW"
   },
   "outputs": [
    {
     "data": {
      "text/plain": [
       "StockOptionLevel           1\n",
       "YearsSinceLastPromotion    1\n",
       "Attrition                  1\n",
       "Department                 1\n",
       "JobRole                    1\n",
       "PercentSalaryHike          1\n",
       "NumCompaniesWorked         1\n",
       "YearsWithCurrManager       1\n",
       "StandardHours              1\n",
       "Age                        1\n",
       "Gender                     1\n",
       "DistanceFromHome           1\n",
       "TrainingTimesLastYear      1\n",
       "BusinessTravel             1\n",
       "MonthlyIncome              1\n",
       "EducationField             1\n",
       "TotalWorkingYears          1\n",
       "MaritalStatus              1\n",
       "YearsAtCompany             1\n",
       "Education                  1\n",
       "dtype: int64"
      ]
     },
     "execution_count": 201,
     "metadata": {},
     "output_type": "execute_result"
    }
   ],
   "source": [
    "training_data.columns.value_counts()"
   ]
  },
  {
   "cell_type": "markdown",
   "metadata": {
    "id": "c-PQEy-mfkp-"
   },
   "source": [
    "Отделим входные переменные от выходной (целевой), чтобы можно было построить модель предсказания целевой переменной по входным. Для это нужно у переменной *`training_data`* вызвать метод **`drop()`**."
   ]
  },
  {
   "cell_type": "code",
   "execution_count": 202,
   "metadata": {
    "id": "Z7lMkoLyfkp_"
   },
   "outputs": [],
   "source": [
    "training_points = training_data.drop(target_variable_name, axis=1)"
   ]
  },
  {
   "cell_type": "code",
   "execution_count": 203,
   "metadata": {
    "colab": {
     "base_uri": "https://localhost:8080/",
     "height": 34
    },
    "id": "Tgt3CbZbfkqB",
    "outputId": "81d2e90b-4288-485c-f2fa-fc7d5c1e77e4"
   },
   "outputs": [
    {
     "data": {
      "text/plain": [
       "(3308, 19)"
      ]
     },
     "execution_count": 203,
     "metadata": {},
     "output_type": "execute_result"
    }
   ],
   "source": [
    "training_points.shape"
   ]
  },
  {
   "cell_type": "code",
   "execution_count": 204,
   "metadata": {},
   "outputs": [
    {
     "ename": "SyntaxError",
     "evalue": "invalid syntax (<ipython-input-204-49d1598574ab>, line 1)",
     "output_type": "error",
     "traceback": [
      "\u001b[1;36m  File \u001b[1;32m\"<ipython-input-204-49d1598574ab>\"\u001b[1;36m, line \u001b[1;32m1\u001b[0m\n\u001b[1;33m    построить матрицу корреляций\u001b[0m\n\u001b[1;37m                    ^\u001b[0m\n\u001b[1;31mSyntaxError\u001b[0m\u001b[1;31m:\u001b[0m invalid syntax\n"
     ]
    }
   ],
   "source": [
    "построить матрицу корреляций\n",
    "Балансировка"
   ]
  },
  {
   "cell_type": "code",
   "execution_count": 205,
   "metadata": {},
   "outputs": [
    {
     "data": {
      "text/plain": [
       "<matplotlib.image.AxesImage at 0x13375861448>"
      ]
     },
     "execution_count": 205,
     "metadata": {},
     "output_type": "execute_result"
    },
    {
     "data": {
      "image/png": "[encoded data removed]",
      "text/plain": [
       "<Figure size 288x288 with 1 Axes>"
      ]
     },
     "metadata": {},
     "output_type": "display_data"
    }
   ],
   "source": [
    "import matplotlib.pyplot as plt\n",
    "\n",
    "plt.matshow(training_data.corr())"
   ]
  },
  {
   "cell_type": "code",
   "execution_count": 206,
   "metadata": {},
   "outputs": [
    {
     "data": {
      "text/plain": [
       "<matplotlib.axes._subplots.AxesSubplot at 0x13376edecc8>"
      ]
     },
     "execution_count": 206,
     "metadata": {},
     "output_type": "execute_result"
    },
    {
     "data": {
      "image/png": "[encoded data removed]",
      "text/plain": [
       "<Figure size 1368x1368 with 2 Axes>"
      ]
     },
     "metadata": {},
     "output_type": "display_data"
    }
   ],
   "source": [
    "plt.figure(figsize=(19,19))\n",
    "sns.heatmap(training_data.corr())"
   ]
  },
  {
   "cell_type": "code",
   "execution_count": 207,
   "metadata": {},
   "outputs": [
    {
     "name": "stdout",
     "output_type": "stream",
     "text": [
      "2778 530\n"
     ]
    }
   ],
   "source": [
    "num_0 = len(training_data[training_data['Attrition']==0])\n",
    "num_1 = len(training_data[training_data['Attrition']==1])\n",
    "print(num_0,num_1)\n",
    "# random undersample"
   ]
  },
  {
   "cell_type": "code",
   "execution_count": 208,
   "metadata": {},
   "outputs": [],
   "source": [
    "df_majority = training_data.loc[training_data.Attrition==0]\n",
    "df_minority = training_data.loc[training_data.Attrition==1]"
   ]
  },
  {
   "cell_type": "markdown",
   "metadata": {
    "id": "7bDIqioIfkqG"
   },
   "source": [
    "Видно, что столбца действительно нет, а количество строк не изменилось. "
   ]
  },
  {
   "cell_type": "code",
   "execution_count": 209,
   "metadata": {},
   "outputs": [
    {
     "name": "stdout",
     "output_type": "stream",
     "text": [
      "['Age', 'BusinessTravel', 'Department', 'DistanceFromHome', 'Education', 'EducationField', 'Gender', 'JobRole', 'MaritalStatus', 'MonthlyIncome', 'NumCompaniesWorked', 'PercentSalaryHike', 'StandardHours', 'StockOptionLevel', 'TotalWorkingYears', 'TrainingTimesLastYear', 'YearsAtCompany', 'YearsSinceLastPromotion', 'YearsWithCurrManager', 'Attrition']\n"
     ]
    }
   ],
   "source": [
    "print(training_data.columns.tolist())"
   ]
  },
  {
   "cell_type": "code",
   "execution_count": 241,
   "metadata": {},
   "outputs": [],
   "source": [
    "from sklearn.utils import resample\n",
    "# Separate majority and minority classes\n",
    "df_majority = training_data.loc[training_data.Attrition==0]\n",
    "df_minority = training_data.loc[training_data.Attrition==1]\n",
    " \n",
    "# Upsample majority class\n",
    "df_majority_upsampled = resample(df_majority, \n",
    "                                 replace=True,     # sample with replacement\n",
    "                                 n_samples=530,    # to match minority class\n",
    "                                 random_state=1) # reproducible results\n",
    "\n",
    "# Combine majority class with upsampled minority class\n",
    "df_upsampled = pd.concat([df_minority, df_majority_upsampled])"
   ]
  },
  {
   "cell_type": "code",
   "execution_count": 242,
   "metadata": {},
   "outputs": [
    {
     "name": "stdout",
     "output_type": "stream",
     "text": [
      "<class 'pandas.core.frame.DataFrame'>\n",
      "Int64Index: 1060 entries, 1 to 2102\n",
      "Data columns (total 20 columns):\n",
      " #   Column                   Non-Null Count  Dtype  \n",
      "---  ------                   --------------  -----  \n",
      " 0   Age                      1060 non-null   int64  \n",
      " 1   BusinessTravel           1060 non-null   object \n",
      " 2   Department               1060 non-null   object \n",
      " 3   DistanceFromHome         1060 non-null   int64  \n",
      " 4   Education                1060 non-null   int64  \n",
      " 5   EducationField           1060 non-null   object \n",
      " 6   Gender                   1060 non-null   object \n",
      " 7   JobRole                  1060 non-null   object \n",
      " 8   MaritalStatus            1060 non-null   object \n",
      " 9   MonthlyIncome            1060 non-null   int64  \n",
      " 10  NumCompaniesWorked       1060 non-null   float64\n",
      " 11  PercentSalaryHike        1060 non-null   int64  \n",
      " 12  StandardHours            1060 non-null   int64  \n",
      " 13  StockOptionLevel         1060 non-null   int64  \n",
      " 14  TotalWorkingYears        1060 non-null   float64\n",
      " 15  TrainingTimesLastYear    1060 non-null   int64  \n",
      " 16  YearsAtCompany           1060 non-null   int64  \n",
      " 17  YearsSinceLastPromotion  1060 non-null   int64  \n",
      " 18  YearsWithCurrManager     1060 non-null   int64  \n",
      " 19  Attrition                1060 non-null   int64  \n",
      "dtypes: float64(2), int64(12), object(6)\n",
      "memory usage: 173.9+ KB\n"
     ]
    }
   ],
   "source": [
    "df_upsampled.info()"
   ]
  },
  {
   "cell_type": "code",
   "execution_count": 243,
   "metadata": {},
   "outputs": [
    {
     "data": {
      "text/plain": [
       "1    530\n",
       "0    530\n",
       "Name: Attrition, dtype: int64"
      ]
     },
     "execution_count": 243,
     "metadata": {},
     "output_type": "execute_result"
    }
   ],
   "source": [
    "target_variable_name = 'Attrition'\n",
    "training_values = df_upsampled[target_variable_name]\n",
    "training_values.value_counts()"
   ]
  },
  {
   "cell_type": "code",
   "execution_count": null,
   "metadata": {},
   "outputs": [],
   "source": []
  },
  {
   "cell_type": "code",
   "execution_count": null,
   "metadata": {},
   "outputs": [],
   "source": []
  },
  {
   "cell_type": "code",
   "execution_count": 244,
   "metadata": {},
   "outputs": [
    {
     "data": {
      "text/plain": [
       "(1060, 19)"
      ]
     },
     "execution_count": 244,
     "metadata": {},
     "output_type": "execute_result"
    }
   ],
   "source": [
    "training_points = df_upsampled.drop(target_variable_name, axis=1)\n",
    "training_points.shape"
   ]
  },
  {
   "cell_type": "markdown",
   "metadata": {
    "id": "A22kexYWfkqI"
   },
   "source": [
    "## 3. Загрузить и предобработать данные для тестирования"
   ]
  },
  {
   "cell_type": "code",
   "execution_count": null,
   "metadata": {},
   "outputs": [],
   "source": []
  },
  {
   "cell_type": "markdown",
   "metadata": {
    "id": "yBEqN7sVfkqI"
   },
   "source": [
    "**Шаг 3.1. Загрузим данные для тестирования**\n",
    "\n",
    "Наши данные в формате `csv` - comma separated values, значения, разделенные точкой. Обычно data scientists работают с табличными данными, которые представлены именно в таком виде. Чтобы загрузить такие данные, будем использовать функцию **`pd.read_csv()`** из библиотеки `pandas`."
   ]
  },
  {
   "cell_type": "code",
   "execution_count": 245,
   "metadata": {
    "colab": {
     "base_uri": "https://localhost:8080/",
     "height": 483
    },
    "id": "FFKj49vvfkqJ",
    "outputId": "a1516369-a1ca-4a32-d24b-cb1a7d8824d9"
   },
   "outputs": [
    {
     "data": {
      "text/html": [
       "<div>\n",
       "<style scoped>\n",
       "    .dataframe tbody tr th:only-of-type {\n",
       "        vertical-align: middle;\n",
       "    }\n",
       "\n",
       "    .dataframe tbody tr th {\n",
       "        vertical-align: top;\n",
       "    }\n",
       "\n",
       "    .dataframe thead th {\n",
       "        text-align: right;\n",
       "    }\n",
       "</style>\n",
       "<table border=\"1\" class=\"dataframe\">\n",
       "  <thead>\n",
       "    <tr style=\"text-align: right;\">\n",
       "      <th></th>\n",
       "      <th>count</th>\n",
       "      <th>mean</th>\n",
       "      <th>std</th>\n",
       "      <th>min</th>\n",
       "      <th>25%</th>\n",
       "      <th>50%</th>\n",
       "      <th>75%</th>\n",
       "      <th>max</th>\n",
       "    </tr>\n",
       "  </thead>\n",
       "  <tbody>\n",
       "    <tr>\n",
       "      <th>Age</th>\n",
       "      <td>1102.0</td>\n",
       "      <td>37.057169</td>\n",
       "      <td>9.096386</td>\n",
       "      <td>18.0</td>\n",
       "      <td>30.0</td>\n",
       "      <td>36.0</td>\n",
       "      <td>43.0</td>\n",
       "      <td>60.0</td>\n",
       "    </tr>\n",
       "    <tr>\n",
       "      <th>DistanceFromHome</th>\n",
       "      <td>1102.0</td>\n",
       "      <td>9.164247</td>\n",
       "      <td>8.188807</td>\n",
       "      <td>1.0</td>\n",
       "      <td>2.0</td>\n",
       "      <td>7.0</td>\n",
       "      <td>14.0</td>\n",
       "      <td>29.0</td>\n",
       "    </tr>\n",
       "    <tr>\n",
       "      <th>Education</th>\n",
       "      <td>1102.0</td>\n",
       "      <td>2.896552</td>\n",
       "      <td>1.021213</td>\n",
       "      <td>1.0</td>\n",
       "      <td>2.0</td>\n",
       "      <td>3.0</td>\n",
       "      <td>4.0</td>\n",
       "      <td>5.0</td>\n",
       "    </tr>\n",
       "    <tr>\n",
       "      <th>MonthlyIncome</th>\n",
       "      <td>1102.0</td>\n",
       "      <td>66333.330309</td>\n",
       "      <td>48028.087236</td>\n",
       "      <td>10090.0</td>\n",
       "      <td>29730.0</td>\n",
       "      <td>49385.0</td>\n",
       "      <td>84712.5</td>\n",
       "      <td>199990.0</td>\n",
       "    </tr>\n",
       "    <tr>\n",
       "      <th>NumCompaniesWorked</th>\n",
       "      <td>1098.0</td>\n",
       "      <td>2.669399</td>\n",
       "      <td>2.477794</td>\n",
       "      <td>0.0</td>\n",
       "      <td>1.0</td>\n",
       "      <td>2.0</td>\n",
       "      <td>4.0</td>\n",
       "      <td>9.0</td>\n",
       "    </tr>\n",
       "    <tr>\n",
       "      <th>PercentSalaryHike</th>\n",
       "      <td>1102.0</td>\n",
       "      <td>15.147913</td>\n",
       "      <td>3.618613</td>\n",
       "      <td>11.0</td>\n",
       "      <td>12.0</td>\n",
       "      <td>14.0</td>\n",
       "      <td>18.0</td>\n",
       "      <td>25.0</td>\n",
       "    </tr>\n",
       "    <tr>\n",
       "      <th>StandardHours</th>\n",
       "      <td>1102.0</td>\n",
       "      <td>8.000000</td>\n",
       "      <td>0.000000</td>\n",
       "      <td>8.0</td>\n",
       "      <td>8.0</td>\n",
       "      <td>8.0</td>\n",
       "      <td>8.0</td>\n",
       "      <td>8.0</td>\n",
       "    </tr>\n",
       "    <tr>\n",
       "      <th>StockOptionLevel</th>\n",
       "      <td>1102.0</td>\n",
       "      <td>0.761343</td>\n",
       "      <td>0.825476</td>\n",
       "      <td>0.0</td>\n",
       "      <td>0.0</td>\n",
       "      <td>1.0</td>\n",
       "      <td>1.0</td>\n",
       "      <td>3.0</td>\n",
       "    </tr>\n",
       "    <tr>\n",
       "      <th>TotalWorkingYears</th>\n",
       "      <td>1100.0</td>\n",
       "      <td>11.270000</td>\n",
       "      <td>7.759277</td>\n",
       "      <td>0.0</td>\n",
       "      <td>6.0</td>\n",
       "      <td>10.0</td>\n",
       "      <td>15.0</td>\n",
       "      <td>40.0</td>\n",
       "    </tr>\n",
       "    <tr>\n",
       "      <th>TrainingTimesLastYear</th>\n",
       "      <td>1102.0</td>\n",
       "      <td>2.791289</td>\n",
       "      <td>1.284292</td>\n",
       "      <td>0.0</td>\n",
       "      <td>2.0</td>\n",
       "      <td>3.0</td>\n",
       "      <td>3.0</td>\n",
       "      <td>6.0</td>\n",
       "    </tr>\n",
       "    <tr>\n",
       "      <th>YearsAtCompany</th>\n",
       "      <td>1102.0</td>\n",
       "      <td>7.036298</td>\n",
       "      <td>6.096600</td>\n",
       "      <td>0.0</td>\n",
       "      <td>3.0</td>\n",
       "      <td>5.0</td>\n",
       "      <td>10.0</td>\n",
       "      <td>40.0</td>\n",
       "    </tr>\n",
       "    <tr>\n",
       "      <th>YearsSinceLastPromotion</th>\n",
       "      <td>1102.0</td>\n",
       "      <td>2.189655</td>\n",
       "      <td>3.237126</td>\n",
       "      <td>0.0</td>\n",
       "      <td>0.0</td>\n",
       "      <td>1.0</td>\n",
       "      <td>3.0</td>\n",
       "      <td>15.0</td>\n",
       "    </tr>\n",
       "    <tr>\n",
       "      <th>YearsWithCurrManager</th>\n",
       "      <td>1102.0</td>\n",
       "      <td>4.137024</td>\n",
       "      <td>3.589559</td>\n",
       "      <td>0.0</td>\n",
       "      <td>2.0</td>\n",
       "      <td>3.0</td>\n",
       "      <td>7.0</td>\n",
       "      <td>17.0</td>\n",
       "    </tr>\n",
       "    <tr>\n",
       "      <th>Attrition</th>\n",
       "      <td>1102.0</td>\n",
       "      <td>0.164247</td>\n",
       "      <td>0.370668</td>\n",
       "      <td>0.0</td>\n",
       "      <td>0.0</td>\n",
       "      <td>0.0</td>\n",
       "      <td>0.0</td>\n",
       "      <td>1.0</td>\n",
       "    </tr>\n",
       "  </tbody>\n",
       "</table>\n",
       "</div>"
      ],
      "text/plain": [
       "                          count          mean           std      min      25%  \\\n",
       "Age                      1102.0     37.057169      9.096386     18.0     30.0   \n",
       "DistanceFromHome         1102.0      9.164247      8.188807      1.0      2.0   \n",
       "Education                1102.0      2.896552      1.021213      1.0      2.0   \n",
       "MonthlyIncome            1102.0  66333.330309  48028.087236  10090.0  29730.0   \n",
       "NumCompaniesWorked       1098.0      2.669399      2.477794      0.0      1.0   \n",
       "PercentSalaryHike        1102.0     15.147913      3.618613     11.0     12.0   \n",
       "StandardHours            1102.0      8.000000      0.000000      8.0      8.0   \n",
       "StockOptionLevel         1102.0      0.761343      0.825476      0.0      0.0   \n",
       "TotalWorkingYears        1100.0     11.270000      7.759277      0.0      6.0   \n",
       "TrainingTimesLastYear    1102.0      2.791289      1.284292      0.0      2.0   \n",
       "YearsAtCompany           1102.0      7.036298      6.096600      0.0      3.0   \n",
       "YearsSinceLastPromotion  1102.0      2.189655      3.237126      0.0      0.0   \n",
       "YearsWithCurrManager     1102.0      4.137024      3.589559      0.0      2.0   \n",
       "Attrition                1102.0      0.164247      0.370668      0.0      0.0   \n",
       "\n",
       "                             50%      75%       max  \n",
       "Age                         36.0     43.0      60.0  \n",
       "DistanceFromHome             7.0     14.0      29.0  \n",
       "Education                    3.0      4.0       5.0  \n",
       "MonthlyIncome            49385.0  84712.5  199990.0  \n",
       "NumCompaniesWorked           2.0      4.0       9.0  \n",
       "PercentSalaryHike           14.0     18.0      25.0  \n",
       "StandardHours                8.0      8.0       8.0  \n",
       "StockOptionLevel             1.0      1.0       3.0  \n",
       "TotalWorkingYears           10.0     15.0      40.0  \n",
       "TrainingTimesLastYear        3.0      3.0       6.0  \n",
       "YearsAtCompany               5.0     10.0      40.0  \n",
       "YearsSinceLastPromotion      1.0      3.0      15.0  \n",
       "YearsWithCurrManager         3.0      7.0      17.0  \n",
       "Attrition                    0.0      0.0       1.0  "
      ]
     },
     "execution_count": 245,
     "metadata": {},
     "output_type": "execute_result"
    }
   ],
   "source": [
    "test_data = pd.read_csv('test_data_employee.csv')\n",
    "test_data.describe().T"
   ]
  },
  {
   "cell_type": "markdown",
   "metadata": {
    "id": "cruGxub-fkqL"
   },
   "source": [
    "**Шаг 3.2. Предобработка данных для тестирования**"
   ]
  },
  {
   "cell_type": "markdown",
   "metadata": {
    "id": "KmrfWhyffkqM"
   },
   "source": [
    "Тестовые данные нужно предобработать аналогично обучающим. Поэтому заполним сперва пропуски в данных.\n",
    "\n",
    "Для заполнения средним значеним, передадим на вход методу **`fillna()`** полученный ранее набор средних значений для каждого столбца. Опция `inplace=True` говорит, что мы запишем изменения прямо в существующий массив, а не создадим новы"
   ]
  },
  {
   "cell_type": "code",
   "execution_count": 246,
   "metadata": {
    "colab": {
     "base_uri": "https://localhost:8080/",
     "height": 476
    },
    "id": "WfmyiPzifkqQ",
    "outputId": "ab853ea2-47f9-45f3-d2d3-5a3b5714898a"
   },
   "outputs": [
    {
     "name": "stdout",
     "output_type": "stream",
     "text": [
      "<class 'pandas.core.frame.DataFrame'>\n",
      "RangeIndex: 1102 entries, 0 to 1101\n",
      "Data columns (total 20 columns):\n",
      " #   Column                   Non-Null Count  Dtype  \n",
      "---  ------                   --------------  -----  \n",
      " 0   Age                      1102 non-null   int64  \n",
      " 1   BusinessTravel           1102 non-null   object \n",
      " 2   Department               1102 non-null   object \n",
      " 3   DistanceFromHome         1102 non-null   int64  \n",
      " 4   Education                1102 non-null   int64  \n",
      " 5   EducationField           1102 non-null   object \n",
      " 6   Gender                   1102 non-null   object \n",
      " 7   JobRole                  1102 non-null   object \n",
      " 8   MaritalStatus            1102 non-null   object \n",
      " 9   MonthlyIncome            1102 non-null   int64  \n",
      " 10  NumCompaniesWorked       1102 non-null   float64\n",
      " 11  PercentSalaryHike        1102 non-null   int64  \n",
      " 12  StandardHours            1102 non-null   int64  \n",
      " 13  StockOptionLevel         1102 non-null   int64  \n",
      " 14  TotalWorkingYears        1102 non-null   float64\n",
      " 15  TrainingTimesLastYear    1102 non-null   int64  \n",
      " 16  YearsAtCompany           1102 non-null   int64  \n",
      " 17  YearsSinceLastPromotion  1102 non-null   int64  \n",
      " 18  YearsWithCurrManager     1102 non-null   int64  \n",
      " 19  Attrition                1102 non-null   int64  \n",
      "dtypes: float64(2), int64(12), object(6)\n",
      "memory usage: 172.3+ KB\n"
     ]
    }
   ],
   "source": [
    "test_data.fillna(train_mean, inplace=True)\n",
    "test_data.info()"
   ]
  },
  {
   "cell_type": "markdown",
   "metadata": {
    "id": "Xx2-CrccfkqV"
   },
   "source": [
    "**Шаг 3.3. Отделяем целевую переменную**"
   ]
  },
  {
   "cell_type": "markdown",
   "metadata": {
    "id": "fjoojbMAfkqW"
   },
   "source": [
    "Нам нужно выделить в отдельную переменную *test_values* столбец из нашей таблицы, который соответствует определенной выше целевой переменной. Для этого мы у таблицы *test_data* в квадратных скобках указываем имя нужного столбца. В нашем случае это имя записано в переменной *target_variable_name*. "
   ]
  },
  {
   "cell_type": "code",
   "execution_count": 247,
   "metadata": {
    "id": "ep1ujJ9FfkqW"
   },
   "outputs": [],
   "source": [
    "test_values = test_data[target_variable_name]"
   ]
  },
  {
   "cell_type": "markdown",
   "metadata": {
    "id": "g_BinfOVfkqY"
   },
   "source": [
    "Отделим переменные для модели от выходной переменной (целевой). Для это нужно у переменной *`test_data`* нужно вызвать метод **`drop()`**."
   ]
  },
  {
   "cell_type": "code",
   "execution_count": 248,
   "metadata": {
    "id": "svutkZjEfkqZ"
   },
   "outputs": [],
   "source": [
    "test_points = test_data.drop(target_variable_name, axis=1)"
   ]
  },
  {
   "cell_type": "markdown",
   "metadata": {
    "id": "s8CpUOVrfkqb"
   },
   "source": [
    "И проверяем результат записанный в test_points"
   ]
  },
  {
   "cell_type": "code",
   "execution_count": 249,
   "metadata": {
    "colab": {
     "base_uri": "https://localhost:8080/",
     "height": 309
    },
    "id": "z5iTKcrbfkqb",
    "outputId": "616c4a22-933e-4169-8bcc-79a50232a0cf"
   },
   "outputs": [
    {
     "data": {
      "text/html": [
       "<div>\n",
       "<style scoped>\n",
       "    .dataframe tbody tr th:only-of-type {\n",
       "        vertical-align: middle;\n",
       "    }\n",
       "\n",
       "    .dataframe tbody tr th {\n",
       "        vertical-align: top;\n",
       "    }\n",
       "\n",
       "    .dataframe thead th {\n",
       "        text-align: right;\n",
       "    }\n",
       "</style>\n",
       "<table border=\"1\" class=\"dataframe\">\n",
       "  <thead>\n",
       "    <tr style=\"text-align: right;\">\n",
       "      <th></th>\n",
       "      <th>Age</th>\n",
       "      <th>BusinessTravel</th>\n",
       "      <th>Department</th>\n",
       "      <th>DistanceFromHome</th>\n",
       "      <th>Education</th>\n",
       "      <th>EducationField</th>\n",
       "      <th>Gender</th>\n",
       "      <th>JobRole</th>\n",
       "      <th>MaritalStatus</th>\n",
       "      <th>MonthlyIncome</th>\n",
       "      <th>NumCompaniesWorked</th>\n",
       "      <th>PercentSalaryHike</th>\n",
       "      <th>StandardHours</th>\n",
       "      <th>StockOptionLevel</th>\n",
       "      <th>TotalWorkingYears</th>\n",
       "      <th>TrainingTimesLastYear</th>\n",
       "      <th>YearsAtCompany</th>\n",
       "      <th>YearsSinceLastPromotion</th>\n",
       "      <th>YearsWithCurrManager</th>\n",
       "    </tr>\n",
       "  </thead>\n",
       "  <tbody>\n",
       "    <tr>\n",
       "      <th>0</th>\n",
       "      <td>32</td>\n",
       "      <td>Travel_Rarely</td>\n",
       "      <td>Sales</td>\n",
       "      <td>10</td>\n",
       "      <td>3</td>\n",
       "      <td>Marketing</td>\n",
       "      <td>Female</td>\n",
       "      <td>Human Resources</td>\n",
       "      <td>Married</td>\n",
       "      <td>30720</td>\n",
       "      <td>5.0</td>\n",
       "      <td>12</td>\n",
       "      <td>8</td>\n",
       "      <td>0</td>\n",
       "      <td>9.0</td>\n",
       "      <td>4</td>\n",
       "      <td>5</td>\n",
       "      <td>1</td>\n",
       "      <td>3</td>\n",
       "    </tr>\n",
       "    <tr>\n",
       "      <th>1</th>\n",
       "      <td>52</td>\n",
       "      <td>Travel_Frequently</td>\n",
       "      <td>Research &amp; Development</td>\n",
       "      <td>1</td>\n",
       "      <td>1</td>\n",
       "      <td>Life Sciences</td>\n",
       "      <td>Male</td>\n",
       "      <td>Laboratory Technician</td>\n",
       "      <td>Married</td>\n",
       "      <td>50060</td>\n",
       "      <td>3.0</td>\n",
       "      <td>16</td>\n",
       "      <td>8</td>\n",
       "      <td>1</td>\n",
       "      <td>31.0</td>\n",
       "      <td>2</td>\n",
       "      <td>9</td>\n",
       "      <td>0</td>\n",
       "      <td>0</td>\n",
       "    </tr>\n",
       "    <tr>\n",
       "      <th>2</th>\n",
       "      <td>37</td>\n",
       "      <td>Travel_Rarely</td>\n",
       "      <td>Sales</td>\n",
       "      <td>24</td>\n",
       "      <td>2</td>\n",
       "      <td>Life Sciences</td>\n",
       "      <td>Female</td>\n",
       "      <td>Laboratory Technician</td>\n",
       "      <td>Divorced</td>\n",
       "      <td>42570</td>\n",
       "      <td>4.0</td>\n",
       "      <td>15</td>\n",
       "      <td>8</td>\n",
       "      <td>0</td>\n",
       "      <td>9.0</td>\n",
       "      <td>2</td>\n",
       "      <td>1</td>\n",
       "      <td>0</td>\n",
       "      <td>0</td>\n",
       "    </tr>\n",
       "    <tr>\n",
       "      <th>3</th>\n",
       "      <td>28</td>\n",
       "      <td>Travel_Rarely</td>\n",
       "      <td>Research &amp; Development</td>\n",
       "      <td>21</td>\n",
       "      <td>4</td>\n",
       "      <td>Life Sciences</td>\n",
       "      <td>Female</td>\n",
       "      <td>Healthcare Representative</td>\n",
       "      <td>Divorced</td>\n",
       "      <td>25000</td>\n",
       "      <td>1.0</td>\n",
       "      <td>16</td>\n",
       "      <td>8</td>\n",
       "      <td>2</td>\n",
       "      <td>6.0</td>\n",
       "      <td>3</td>\n",
       "      <td>5</td>\n",
       "      <td>0</td>\n",
       "      <td>4</td>\n",
       "    </tr>\n",
       "    <tr>\n",
       "      <th>4</th>\n",
       "      <td>22</td>\n",
       "      <td>Travel_Rarely</td>\n",
       "      <td>Research &amp; Development</td>\n",
       "      <td>2</td>\n",
       "      <td>2</td>\n",
       "      <td>Life Sciences</td>\n",
       "      <td>Male</td>\n",
       "      <td>Sales Representative</td>\n",
       "      <td>Married</td>\n",
       "      <td>11020</td>\n",
       "      <td>6.0</td>\n",
       "      <td>19</td>\n",
       "      <td>8</td>\n",
       "      <td>0</td>\n",
       "      <td>4.0</td>\n",
       "      <td>3</td>\n",
       "      <td>2</td>\n",
       "      <td>2</td>\n",
       "      <td>2</td>\n",
       "    </tr>\n",
       "  </tbody>\n",
       "</table>\n",
       "</div>"
      ],
      "text/plain": [
       "   Age     BusinessTravel              Department  DistanceFromHome  \\\n",
       "0   32      Travel_Rarely                   Sales                10   \n",
       "1   52  Travel_Frequently  Research & Development                 1   \n",
       "2   37      Travel_Rarely                   Sales                24   \n",
       "3   28      Travel_Rarely  Research & Development                21   \n",
       "4   22      Travel_Rarely  Research & Development                 2   \n",
       "\n",
       "   Education EducationField  Gender                    JobRole MaritalStatus  \\\n",
       "0          3      Marketing  Female            Human Resources       Married   \n",
       "1          1  Life Sciences    Male      Laboratory Technician       Married   \n",
       "2          2  Life Sciences  Female      Laboratory Technician      Divorced   \n",
       "3          4  Life Sciences  Female  Healthcare Representative      Divorced   \n",
       "4          2  Life Sciences    Male       Sales Representative       Married   \n",
       "\n",
       "   MonthlyIncome  NumCompaniesWorked  PercentSalaryHike  StandardHours  \\\n",
       "0          30720                 5.0                 12              8   \n",
       "1          50060                 3.0                 16              8   \n",
       "2          42570                 4.0                 15              8   \n",
       "3          25000                 1.0                 16              8   \n",
       "4          11020                 6.0                 19              8   \n",
       "\n",
       "   StockOptionLevel  TotalWorkingYears  TrainingTimesLastYear  YearsAtCompany  \\\n",
       "0                 0                9.0                      4               5   \n",
       "1                 1               31.0                      2               9   \n",
       "2                 0                9.0                      2               1   \n",
       "3                 2                6.0                      3               5   \n",
       "4                 0                4.0                      3               2   \n",
       "\n",
       "   YearsSinceLastPromotion  YearsWithCurrManager  \n",
       "0                        1                     3  \n",
       "1                        0                     0  \n",
       "2                        0                     0  \n",
       "3                        0                     4  \n",
       "4                        2                     2  "
      ]
     },
     "execution_count": 249,
     "metadata": {},
     "output_type": "execute_result"
    }
   ],
   "source": [
    "test_points.head(5)"
   ]
  },
  {
   "cell_type": "markdown",
   "metadata": {
    "id": "XOVwKAaPfkqd"
   },
   "source": [
    "## Шаг 4.  Обработать текстовые переменные"
   ]
  },
  {
   "cell_type": "markdown",
   "metadata": {
    "id": "7kqa17cZfkqe"
   },
   "source": [
    "В наших данных 6 столбцов имеют значения типа object. В нашем случае, это текстовые признаки. Чтобы можно было подавать их на вход алгоритму, нам необходимо закодировать их.  "
   ]
  },
  {
   "cell_type": "markdown",
   "metadata": {
    "id": "GpZ_flCgfkqe"
   },
   "source": [
    "Мы рассмотрим два популярных метода кодирования категориальных признаков:\n",
    "*  метод **get_dummies()** из библиотеки **pandas**\n",
    "*  метод **LabelEncoder()** из библиотеки **sklearn**"
   ]
  },
  {
   "cell_type": "markdown",
   "metadata": {
    "id": "Rp0QrqD6fkqf"
   },
   "source": [
    "Для начала нам необходимо определить какие из признаков категориальные"
   ]
  },
  {
   "cell_type": "code",
   "execution_count": 250,
   "metadata": {
    "id": "gIiv4-eUfkqg"
   },
   "outputs": [],
   "source": [
    "text_features = ['BusinessTravel', 'Department', 'EducationField', 'Gender', 'JobRole', 'MaritalStatus']"
   ]
  },
  {
   "cell_type": "markdown",
   "metadata": {
    "id": "4pVvxZ3Ffkqj"
   },
   "source": [
    "Далее нам необходимо преобразовать значения в выбранных колонках к числам, потому что наши алгоритмы не умеют работать с текстом."
   ]
  },
  {
   "cell_type": "markdown",
   "metadata": {
    "id": "0Pc1lOHVfkqj"
   },
   "source": [
    "Первый способ заключается в том, чтобы заменить признаки типа: \n",
    "\n",
    "|                 |       Отдел                   |  \n",
    "|-----------------|-------------------------------|\n",
    "|**Сотрудник 1**  |       Sales                   | \n",
    "|**Сотрудник 2**  |       RnD                     | \n",
    "|**Сотрудник 3**  |       HR                      | \n",
    "\n",
    "Признаками типа:\n",
    "\n",
    "|                 | Отдел - Sales ? | Отдел - Rnd ? | Отдел - HR ? |\n",
    "|-----------------|-----------------|---------------|--------------|\n",
    "|**Сотрудник 1**  |       Да  (1)   |      Нет (0)  |      Нет (0) |\n",
    "|**Сотрудник 2**  |       Нет (0)   |      Да  (1)  |      Нет (0) |\n",
    "|**Сотрудник 3**  |       Нет (0)   |      Нет (0)  |      Да  (1) |\n",
    "\n",
    "Таким образом, наши новые признаки говорят относится ли сотрудник к определённому отделу или нет. При таком подходе для каждого категориального признака появляется столько новых колонок, сколько есть возможных категорий. Одна из колонок будет заполнена `1`, а остальные `0`."
   ]
  },
  {
   "cell_type": "code",
   "execution_count": 251,
   "metadata": {
    "id": "oSGDmz8Sfkqk"
   },
   "outputs": [],
   "source": [
    "dummies = pd.get_dummies(data=training_points, columns=text_features)"
   ]
  },
  {
   "cell_type": "markdown",
   "metadata": {
    "id": "HyIqSXYqfkqn"
   },
   "source": [
    "В функцию **get_dummies()** в качестве параметров передаём:\n",
    "*  **data** - исходные данные\n",
    "*  **columns** - имена колонок, в которых находятся кагегориальные признаки"
   ]
  },
  {
   "cell_type": "code",
   "execution_count": 252,
   "metadata": {
    "colab": {
     "base_uri": "https://localhost:8080/",
     "height": 241
    },
    "id": "5W8cmQYqfkqo",
    "outputId": "b47ef2fd-ddac-4433-c740-7690b8d0c751"
   },
   "outputs": [
    {
     "data": {
      "text/html": [
       "<div>\n",
       "<style scoped>\n",
       "    .dataframe tbody tr th:only-of-type {\n",
       "        vertical-align: middle;\n",
       "    }\n",
       "\n",
       "    .dataframe tbody tr th {\n",
       "        vertical-align: top;\n",
       "    }\n",
       "\n",
       "    .dataframe thead th {\n",
       "        text-align: right;\n",
       "    }\n",
       "</style>\n",
       "<table border=\"1\" class=\"dataframe\">\n",
       "  <thead>\n",
       "    <tr style=\"text-align: right;\">\n",
       "      <th></th>\n",
       "      <th>Age</th>\n",
       "      <th>DistanceFromHome</th>\n",
       "      <th>Education</th>\n",
       "      <th>MonthlyIncome</th>\n",
       "      <th>NumCompaniesWorked</th>\n",
       "      <th>PercentSalaryHike</th>\n",
       "      <th>StandardHours</th>\n",
       "      <th>StockOptionLevel</th>\n",
       "      <th>TotalWorkingYears</th>\n",
       "      <th>TrainingTimesLastYear</th>\n",
       "      <th>...</th>\n",
       "      <th>JobRole_Laboratory Technician</th>\n",
       "      <th>JobRole_Manager</th>\n",
       "      <th>JobRole_Manufacturing Director</th>\n",
       "      <th>JobRole_Research Director</th>\n",
       "      <th>JobRole_Research Scientist</th>\n",
       "      <th>JobRole_Sales Executive</th>\n",
       "      <th>JobRole_Sales Representative</th>\n",
       "      <th>MaritalStatus_Divorced</th>\n",
       "      <th>MaritalStatus_Married</th>\n",
       "      <th>MaritalStatus_Single</th>\n",
       "    </tr>\n",
       "  </thead>\n",
       "  <tbody>\n",
       "    <tr>\n",
       "      <th>1</th>\n",
       "      <td>31</td>\n",
       "      <td>10</td>\n",
       "      <td>1</td>\n",
       "      <td>41890</td>\n",
       "      <td>0.0</td>\n",
       "      <td>23</td>\n",
       "      <td>8</td>\n",
       "      <td>1</td>\n",
       "      <td>6.0</td>\n",
       "      <td>3</td>\n",
       "      <td>...</td>\n",
       "      <td>0</td>\n",
       "      <td>0</td>\n",
       "      <td>0</td>\n",
       "      <td>0</td>\n",
       "      <td>1</td>\n",
       "      <td>0</td>\n",
       "      <td>0</td>\n",
       "      <td>0</td>\n",
       "      <td>0</td>\n",
       "      <td>1</td>\n",
       "    </tr>\n",
       "    <tr>\n",
       "      <th>6</th>\n",
       "      <td>28</td>\n",
       "      <td>11</td>\n",
       "      <td>2</td>\n",
       "      <td>58130</td>\n",
       "      <td>2.0</td>\n",
       "      <td>20</td>\n",
       "      <td>8</td>\n",
       "      <td>1</td>\n",
       "      <td>5.0</td>\n",
       "      <td>2</td>\n",
       "      <td>...</td>\n",
       "      <td>0</td>\n",
       "      <td>0</td>\n",
       "      <td>0</td>\n",
       "      <td>0</td>\n",
       "      <td>0</td>\n",
       "      <td>1</td>\n",
       "      <td>0</td>\n",
       "      <td>0</td>\n",
       "      <td>0</td>\n",
       "      <td>1</td>\n",
       "    </tr>\n",
       "    <tr>\n",
       "      <th>13</th>\n",
       "      <td>47</td>\n",
       "      <td>1</td>\n",
       "      <td>1</td>\n",
       "      <td>57620</td>\n",
       "      <td>1.0</td>\n",
       "      <td>11</td>\n",
       "      <td>8</td>\n",
       "      <td>2</td>\n",
       "      <td>10.0</td>\n",
       "      <td>4</td>\n",
       "      <td>...</td>\n",
       "      <td>0</td>\n",
       "      <td>0</td>\n",
       "      <td>0</td>\n",
       "      <td>0</td>\n",
       "      <td>1</td>\n",
       "      <td>0</td>\n",
       "      <td>0</td>\n",
       "      <td>0</td>\n",
       "      <td>1</td>\n",
       "      <td>0</td>\n",
       "    </tr>\n",
       "    <tr>\n",
       "      <th>28</th>\n",
       "      <td>44</td>\n",
       "      <td>1</td>\n",
       "      <td>2</td>\n",
       "      <td>103330</td>\n",
       "      <td>3.0</td>\n",
       "      <td>14</td>\n",
       "      <td>8</td>\n",
       "      <td>1</td>\n",
       "      <td>19.0</td>\n",
       "      <td>2</td>\n",
       "      <td>...</td>\n",
       "      <td>0</td>\n",
       "      <td>0</td>\n",
       "      <td>0</td>\n",
       "      <td>0</td>\n",
       "      <td>1</td>\n",
       "      <td>0</td>\n",
       "      <td>0</td>\n",
       "      <td>1</td>\n",
       "      <td>0</td>\n",
       "      <td>0</td>\n",
       "    </tr>\n",
       "    <tr>\n",
       "      <th>30</th>\n",
       "      <td>26</td>\n",
       "      <td>4</td>\n",
       "      <td>3</td>\n",
       "      <td>68540</td>\n",
       "      <td>2.0</td>\n",
       "      <td>11</td>\n",
       "      <td>8</td>\n",
       "      <td>0</td>\n",
       "      <td>5.0</td>\n",
       "      <td>5</td>\n",
       "      <td>...</td>\n",
       "      <td>0</td>\n",
       "      <td>0</td>\n",
       "      <td>0</td>\n",
       "      <td>0</td>\n",
       "      <td>1</td>\n",
       "      <td>0</td>\n",
       "      <td>0</td>\n",
       "      <td>1</td>\n",
       "      <td>0</td>\n",
       "      <td>0</td>\n",
       "    </tr>\n",
       "  </tbody>\n",
       "</table>\n",
       "<p>5 rows × 39 columns</p>\n",
       "</div>"
      ],
      "text/plain": [
       "    Age  DistanceFromHome  Education  MonthlyIncome  NumCompaniesWorked  \\\n",
       "1    31                10          1          41890                 0.0   \n",
       "6    28                11          2          58130                 2.0   \n",
       "13   47                 1          1          57620                 1.0   \n",
       "28   44                 1          2         103330                 3.0   \n",
       "30   26                 4          3          68540                 2.0   \n",
       "\n",
       "    PercentSalaryHike  StandardHours  StockOptionLevel  TotalWorkingYears  \\\n",
       "1                  23              8                 1                6.0   \n",
       "6                  20              8                 1                5.0   \n",
       "13                 11              8                 2               10.0   \n",
       "28                 14              8                 1               19.0   \n",
       "30                 11              8                 0                5.0   \n",
       "\n",
       "    TrainingTimesLastYear  ...  JobRole_Laboratory Technician  \\\n",
       "1                       3  ...                              0   \n",
       "6                       2  ...                              0   \n",
       "13                      4  ...                              0   \n",
       "28                      2  ...                              0   \n",
       "30                      5  ...                              0   \n",
       "\n",
       "    JobRole_Manager  JobRole_Manufacturing Director  \\\n",
       "1                 0                               0   \n",
       "6                 0                               0   \n",
       "13                0                               0   \n",
       "28                0                               0   \n",
       "30                0                               0   \n",
       "\n",
       "    JobRole_Research Director  JobRole_Research Scientist  \\\n",
       "1                           0                           1   \n",
       "6                           0                           0   \n",
       "13                          0                           1   \n",
       "28                          0                           1   \n",
       "30                          0                           1   \n",
       "\n",
       "    JobRole_Sales Executive  JobRole_Sales Representative  \\\n",
       "1                         0                             0   \n",
       "6                         1                             0   \n",
       "13                        0                             0   \n",
       "28                        0                             0   \n",
       "30                        0                             0   \n",
       "\n",
       "    MaritalStatus_Divorced  MaritalStatus_Married  MaritalStatus_Single  \n",
       "1                        0                      0                     1  \n",
       "6                        0                      0                     1  \n",
       "13                       0                      1                     0  \n",
       "28                       1                      0                     0  \n",
       "30                       1                      0                     0  \n",
       "\n",
       "[5 rows x 39 columns]"
      ]
     },
     "execution_count": 252,
     "metadata": {},
     "output_type": "execute_result"
    }
   ],
   "source": [
    "dummies.head()"
   ]
  },
  {
   "cell_type": "markdown",
   "metadata": {
    "id": "w8AK-b_afkqq"
   },
   "source": [
    "Как видим, после кодирования у нас получилось на 20 признаков больше (39 вместо 19)."
   ]
  },
  {
   "cell_type": "code",
   "execution_count": 253,
   "metadata": {
    "colab": {
     "base_uri": "https://localhost:8080/",
     "height": 34
    },
    "id": "wNKis67Gfkqr",
    "outputId": "42b7458f-6d0f-427c-fc8c-a9d66b0b2ace"
   },
   "outputs": [
    {
     "data": {
      "text/plain": [
       "(1060, 19)"
      ]
     },
     "execution_count": 253,
     "metadata": {},
     "output_type": "execute_result"
    }
   ],
   "source": [
    "training_points.shape"
   ]
  },
  {
   "cell_type": "code",
   "execution_count": 254,
   "metadata": {
    "colab": {
     "base_uri": "https://localhost:8080/",
     "height": 34
    },
    "id": "kY-OCBiJfkqu",
    "outputId": "12fa5d56-58c3-4d9c-de99-caadd9e1d6a0"
   },
   "outputs": [
    {
     "data": {
      "text/plain": [
       "(1060, 39)"
      ]
     },
     "execution_count": 254,
     "metadata": {},
     "output_type": "execute_result"
    }
   ],
   "source": [
    "dummies.shape"
   ]
  },
  {
   "cell_type": "markdown",
   "metadata": {
    "id": "JckWL4OHfkqy"
   },
   "source": [
    "Второй способ кодирования категориальных признаков заключается в том, чтобы просто присвоить каждой категории уникальный номер, и заменить значения признаков на соответствующие номера.\n",
    "Например, вместо таблицы:\n",
    "\n",
    "|                 |       Отдел                   |  \n",
    "|-----------------|-------------------------------|\n",
    "|**Сотрудник 1**  |       Sales                   | \n",
    "|**Сотрудник 2**  |       RnD                     |\n",
    "|**Сотрудник 3**  |       RnD                     |\n",
    "|**Сотрудник 4**  |       Sales                   |\n",
    "|**Сотрудник 5**  |       HR                      |\n",
    "|**Сотрудник 6**  |       RnD                     | \n",
    "\n",
    "Получаем:\n",
    "\n",
    "|                 |       Отдел                   |  \n",
    "|-----------------|-------------------------------|\n",
    "|**Сотрудник 1**  |       1                       | \n",
    "|**Сотрудник 2**  |       2                       | \n",
    "|**Сотрудник 3**  |       2                       |\n",
    "|**Сотрудник 4**  |       1                       |\n",
    "|**Сотрудник 5**  |       3                       |\n",
    "|**Сотрудник 6**  |       2                       |\n",
    "\n",
    "Здесь все значения **Sales** заменены на `1`, **RnD** заменены на `2`, **HR** заменены на `3`."
   ]
  },
  {
   "cell_type": "code",
   "execution_count": 255,
   "metadata": {
    "id": "To8KiouUfkqz"
   },
   "outputs": [],
   "source": [
    "from sklearn.preprocessing import LabelEncoder"
   ]
  },
  {
   "cell_type": "markdown",
   "metadata": {
    "id": "8eg45UU7fkq0"
   },
   "source": [
    "Сперва создаем прототип кодировщика: "
   ]
  },
  {
   "cell_type": "code",
   "execution_count": 225,
   "metadata": {
    "id": "KwN3cY37fkq2"
   },
   "outputs": [],
   "source": [
    "label_encoder = LabelEncoder()"
   ]
  },
  {
   "cell_type": "markdown",
   "metadata": {
    "id": "I3jsNGMtfkq5"
   },
   "source": [
    "Так как нам нужно закодировать сразу список признаков, мы будем делать это в цикле. Рассматриваем каждый текстовый признак из списка *text_categor_cols*, далее:\n",
    "1. методу **fit_transform()** передаем в качестве аргумента этот признак у обучающей выборки\n",
    "2. методу **transform()** передаем в качестве аргумента этот признак у тестовой выборки\n",
    "\n",
    "К полученным числовым представлениям признака будем прибавлять единичку, чтобы кодирование начиналось с 1, а не с 0. Затем результат будем записывать в табличку. "
   ]
  },
  {
   "cell_type": "code",
   "execution_count": 256,
   "metadata": {
    "id": "wZN_DNYSfkq6"
   },
   "outputs": [],
   "source": [
    "for col in text_features:\n",
    "    training_points[col] = label_encoder.fit_transform(training_points[col]) + 1\n",
    "    test_points[col] = label_encoder.transform(test_points[col]) + 1"
   ]
  },
  {
   "cell_type": "markdown",
   "metadata": {
    "id": "wJHNlgdKfkq8"
   },
   "source": [
    "Посмотрим на данные теперь:"
   ]
  },
  {
   "cell_type": "code",
   "execution_count": 257,
   "metadata": {
    "colab": {
     "base_uri": "https://localhost:8080/",
     "height": 224
    },
    "id": "nRL9j9LCfkq9",
    "outputId": "8226a5dd-1c35-4098-c536-93ba1235417a"
   },
   "outputs": [
    {
     "data": {
      "text/html": [
       "<div>\n",
       "<style scoped>\n",
       "    .dataframe tbody tr th:only-of-type {\n",
       "        vertical-align: middle;\n",
       "    }\n",
       "\n",
       "    .dataframe tbody tr th {\n",
       "        vertical-align: top;\n",
       "    }\n",
       "\n",
       "    .dataframe thead th {\n",
       "        text-align: right;\n",
       "    }\n",
       "</style>\n",
       "<table border=\"1\" class=\"dataframe\">\n",
       "  <thead>\n",
       "    <tr style=\"text-align: right;\">\n",
       "      <th></th>\n",
       "      <th>Age</th>\n",
       "      <th>BusinessTravel</th>\n",
       "      <th>Department</th>\n",
       "      <th>DistanceFromHome</th>\n",
       "      <th>Education</th>\n",
       "      <th>EducationField</th>\n",
       "      <th>Gender</th>\n",
       "      <th>JobRole</th>\n",
       "      <th>MaritalStatus</th>\n",
       "      <th>MonthlyIncome</th>\n",
       "      <th>NumCompaniesWorked</th>\n",
       "      <th>PercentSalaryHike</th>\n",
       "      <th>StandardHours</th>\n",
       "      <th>StockOptionLevel</th>\n",
       "      <th>TotalWorkingYears</th>\n",
       "      <th>TrainingTimesLastYear</th>\n",
       "      <th>YearsAtCompany</th>\n",
       "      <th>YearsSinceLastPromotion</th>\n",
       "      <th>YearsWithCurrManager</th>\n",
       "    </tr>\n",
       "  </thead>\n",
       "  <tbody>\n",
       "    <tr>\n",
       "      <th>1</th>\n",
       "      <td>31</td>\n",
       "      <td>2</td>\n",
       "      <td>2</td>\n",
       "      <td>10</td>\n",
       "      <td>1</td>\n",
       "      <td>2</td>\n",
       "      <td>1</td>\n",
       "      <td>7</td>\n",
       "      <td>3</td>\n",
       "      <td>41890</td>\n",
       "      <td>0.0</td>\n",
       "      <td>23</td>\n",
       "      <td>8</td>\n",
       "      <td>1</td>\n",
       "      <td>6.0</td>\n",
       "      <td>3</td>\n",
       "      <td>5</td>\n",
       "      <td>1</td>\n",
       "      <td>4</td>\n",
       "    </tr>\n",
       "    <tr>\n",
       "      <th>6</th>\n",
       "      <td>28</td>\n",
       "      <td>3</td>\n",
       "      <td>2</td>\n",
       "      <td>11</td>\n",
       "      <td>2</td>\n",
       "      <td>4</td>\n",
       "      <td>2</td>\n",
       "      <td>8</td>\n",
       "      <td>3</td>\n",
       "      <td>58130</td>\n",
       "      <td>2.0</td>\n",
       "      <td>20</td>\n",
       "      <td>8</td>\n",
       "      <td>1</td>\n",
       "      <td>5.0</td>\n",
       "      <td>2</td>\n",
       "      <td>0</td>\n",
       "      <td>0</td>\n",
       "      <td>0</td>\n",
       "    </tr>\n",
       "    <tr>\n",
       "      <th>13</th>\n",
       "      <td>47</td>\n",
       "      <td>1</td>\n",
       "      <td>2</td>\n",
       "      <td>1</td>\n",
       "      <td>1</td>\n",
       "      <td>4</td>\n",
       "      <td>2</td>\n",
       "      <td>7</td>\n",
       "      <td>2</td>\n",
       "      <td>57620</td>\n",
       "      <td>1.0</td>\n",
       "      <td>11</td>\n",
       "      <td>8</td>\n",
       "      <td>2</td>\n",
       "      <td>10.0</td>\n",
       "      <td>4</td>\n",
       "      <td>10</td>\n",
       "      <td>9</td>\n",
       "      <td>9</td>\n",
       "    </tr>\n",
       "    <tr>\n",
       "      <th>28</th>\n",
       "      <td>44</td>\n",
       "      <td>2</td>\n",
       "      <td>2</td>\n",
       "      <td>1</td>\n",
       "      <td>2</td>\n",
       "      <td>4</td>\n",
       "      <td>2</td>\n",
       "      <td>7</td>\n",
       "      <td>1</td>\n",
       "      <td>103330</td>\n",
       "      <td>3.0</td>\n",
       "      <td>14</td>\n",
       "      <td>8</td>\n",
       "      <td>1</td>\n",
       "      <td>19.0</td>\n",
       "      <td>2</td>\n",
       "      <td>1</td>\n",
       "      <td>0</td>\n",
       "      <td>0</td>\n",
       "    </tr>\n",
       "    <tr>\n",
       "      <th>30</th>\n",
       "      <td>26</td>\n",
       "      <td>3</td>\n",
       "      <td>2</td>\n",
       "      <td>4</td>\n",
       "      <td>3</td>\n",
       "      <td>4</td>\n",
       "      <td>2</td>\n",
       "      <td>7</td>\n",
       "      <td>1</td>\n",
       "      <td>68540</td>\n",
       "      <td>2.0</td>\n",
       "      <td>11</td>\n",
       "      <td>8</td>\n",
       "      <td>0</td>\n",
       "      <td>5.0</td>\n",
       "      <td>5</td>\n",
       "      <td>3</td>\n",
       "      <td>0</td>\n",
       "      <td>2</td>\n",
       "    </tr>\n",
       "  </tbody>\n",
       "</table>\n",
       "</div>"
      ],
      "text/plain": [
       "    Age  BusinessTravel  Department  DistanceFromHome  Education  \\\n",
       "1    31               2           2                10          1   \n",
       "6    28               3           2                11          2   \n",
       "13   47               1           2                 1          1   \n",
       "28   44               2           2                 1          2   \n",
       "30   26               3           2                 4          3   \n",
       "\n",
       "    EducationField  Gender  JobRole  MaritalStatus  MonthlyIncome  \\\n",
       "1                2       1        7              3          41890   \n",
       "6                4       2        8              3          58130   \n",
       "13               4       2        7              2          57620   \n",
       "28               4       2        7              1         103330   \n",
       "30               4       2        7              1          68540   \n",
       "\n",
       "    NumCompaniesWorked  PercentSalaryHike  StandardHours  StockOptionLevel  \\\n",
       "1                  0.0                 23              8                 1   \n",
       "6                  2.0                 20              8                 1   \n",
       "13                 1.0                 11              8                 2   \n",
       "28                 3.0                 14              8                 1   \n",
       "30                 2.0                 11              8                 0   \n",
       "\n",
       "    TotalWorkingYears  TrainingTimesLastYear  YearsAtCompany  \\\n",
       "1                 6.0                      3               5   \n",
       "6                 5.0                      2               0   \n",
       "13               10.0                      4              10   \n",
       "28               19.0                      2               1   \n",
       "30                5.0                      5               3   \n",
       "\n",
       "    YearsSinceLastPromotion  YearsWithCurrManager  \n",
       "1                         1                     4  \n",
       "6                         0                     0  \n",
       "13                        9                     9  \n",
       "28                        0                     0  \n",
       "30                        0                     2  "
      ]
     },
     "execution_count": 257,
     "metadata": {},
     "output_type": "execute_result"
    }
   ],
   "source": [
    "training_points.head()"
   ]
  },
  {
   "cell_type": "code",
   "execution_count": 258,
   "metadata": {
    "colab": {
     "base_uri": "https://localhost:8080/",
     "height": 34
    },
    "id": "ea86PaQ5fkq-",
    "outputId": "2cf235bf-303c-4dea-b8f9-f08e133839d7"
   },
   "outputs": [
    {
     "data": {
      "text/plain": [
       "(1060, 19)"
      ]
     },
     "execution_count": 258,
     "metadata": {},
     "output_type": "execute_result"
    }
   ],
   "source": [
    "training_points.shape"
   ]
  },
  {
   "cell_type": "code",
   "execution_count": 259,
   "metadata": {},
   "outputs": [
    {
     "data": {
      "text/plain": [
       "(1102, 19)"
      ]
     },
     "execution_count": 259,
     "metadata": {},
     "output_type": "execute_result"
    }
   ],
   "source": [
    "test_points.shape"
   ]
  },
  {
   "cell_type": "markdown",
   "metadata": {
    "id": "D1i7_ZclfkrA"
   },
   "source": [
    "При таком способе кодирования количество признаков не меняется."
   ]
  },
  {
   "cell_type": "markdown",
   "metadata": {
    "id": "b_XlOaRifkrB"
   },
   "source": [
    "Чем может быть обусловлен выбор метода кодирования признаков?"
   ]
  },
  {
   "cell_type": "markdown",
   "metadata": {
    "id": "Hl6jVBRvfkrC"
   },
   "source": [
    "##   5. Обучить модель на обучающей выборке"
   ]
  },
  {
   "cell_type": "markdown",
   "metadata": {
    "id": "NIgW6Fr8fkrC"
   },
   "source": [
    "**Шаг 5.1. Выбираем метод, который будем использовать**\n",
    "\n",
    "Мы воспользуемся двумя методами для построения моделей классификации и сравним их между собой:\n",
    "* Логистическая регрессия *logistic regression*\n",
    "\n",
    "\n",
    "Логистическая регрессия - \"адаптация\" линейной регрессии для решения задачи классификации. Она принадлежит к классу обобщенных линейных моделей.\n"
   ]
  },
  {
   "cell_type": "markdown",
   "metadata": {
    "id": "7UgpB60FfkrF"
   },
   "source": [
    "Для корректной работы с методами построения моделей в python требуется загрузить специальную библиотеку\n",
    "**sklearn**, программную библиотеку на языке python для для машинного обучения и анализа данных.\n",
    "\n",
    "Мы импортируем один модуль из этой библиотеки:\n",
    " * *linear_model* - тут находятся все линейные *и обобщенные линейные* модели, в том числе модель логистической регрессии."
   ]
  },
  {
   "cell_type": "code",
   "execution_count": 260,
   "metadata": {
    "id": "PUZSFJm3fkrG"
   },
   "outputs": [],
   "source": [
    "from sklearn import linear_model"
   ]
  },
  {
   "cell_type": "markdown",
   "metadata": {
    "id": "VY6kfMJCfkrQ"
   },
   "source": [
    "Чтобы создать модель логистической регресии, пишем имя модуля 'linear_model', затем точку, затем название модели.\n",
    "\n",
    "Для этого нужно выполнить следующий код:\n",
    "\n",
    "```python\n",
    "logistic_regression_model = linear_model.logistic_regression_model()\n",
    "logistic_regression_model\n",
    "```"
   ]
  },
  {
   "cell_type": "code",
   "execution_count": 261,
   "metadata": {
    "id": "udsDoZbMfkrR"
   },
   "outputs": [],
   "source": [
    "logistic_regression_model = linear_model.LogisticRegression() # создаем модель"
   ]
  },
  {
   "cell_type": "markdown",
   "metadata": {
    "id": "kPZKCFtSfkrU"
   },
   "source": [
    "Результат выполнения должен быть следующим:\n",
    "\n",
    "```python\n",
    "LogisticRegression(C=1.0, class_weight=None, dual=False, \n",
    "          fit_intercept=True, intercept_scaling=1, \n",
    "          max_iter=100, multi_class='warn', n_jobs=None, \n",
    "          penalty='l2', random_state=None, solver='warn',\n",
    "          tol=0.0001, verbose=0, warm_start=False)\n",
    "```"
   ]
  },
  {
   "cell_type": "code",
   "execution_count": 262,
   "metadata": {
    "colab": {
     "base_uri": "https://localhost:8080/",
     "height": 102
    },
    "id": "GT-t7FCFfkrV",
    "outputId": "c7be4aa6-9eee-4108-c6e5-9936384955c3"
   },
   "outputs": [
    {
     "data": {
      "text/plain": [
       "LogisticRegression(C=1.0, class_weight=None, dual=False, fit_intercept=True,\n",
       "                   intercept_scaling=1, l1_ratio=None, max_iter=100,\n",
       "                   multi_class='auto', n_jobs=None, penalty='l2',\n",
       "                   random_state=None, solver='lbfgs', tol=0.0001, verbose=0,\n",
       "                   warm_start=False)"
      ]
     },
     "execution_count": 262,
     "metadata": {},
     "output_type": "execute_result"
    }
   ],
   "source": [
    "logistic_regression_model # смотрим, что получилось"
   ]
  },
  {
   "cell_type": "markdown",
   "metadata": {
    "id": "H9bG6M2Tfkre"
   },
   "source": [
    "**Шаг 5.2. Обучить модель**\n",
    "\n",
    "Теперь, когда мы создали прототипы обеих моделей, можем их обучить с помощью обучающей выборки. \n",
    "\n",
    "Для этого вызываем метод **fit()** у каждой модели и передаем ему на вход два аргумента: \n",
    "таблицу входных признаков и столбец значений целевой переменной - (training_points, training_values)"
   ]
  },
  {
   "cell_type": "code",
   "execution_count": 263,
   "metadata": {
    "colab": {
     "base_uri": "https://localhost:8080/",
     "height": 102
    },
    "id": "PLB7Dslyfkrf",
    "outputId": "6c0b7082-1fc4-4a0d-a8d7-fa3b73ac9209"
   },
   "outputs": [
    {
     "data": {
      "text/plain": [
       "LogisticRegression(C=1.0, class_weight=None, dual=False, fit_intercept=True,\n",
       "                   intercept_scaling=1, l1_ratio=None, max_iter=100,\n",
       "                   multi_class='auto', n_jobs=None, penalty='l2',\n",
       "                   random_state=None, solver='lbfgs', tol=0.0001, verbose=0,\n",
       "                   warm_start=False)"
      ]
     },
     "execution_count": 263,
     "metadata": {},
     "output_type": "execute_result"
    }
   ],
   "source": [
    "logistic_regression_model.fit(training_points, training_values)"
   ]
  },
  {
   "cell_type": "markdown",
   "metadata": {
    "id": "rBmTuKmPfkrn"
   },
   "source": [
    "\n",
    "* Теперь необходимо провалидировать модели на новых тестовых данных, которые не использовались при обучении модели."
   ]
  },
  {
   "cell_type": "markdown",
   "metadata": {
    "id": "--22CS30fkrq"
   },
   "source": [
    "# 6. Провалидировать модель на тестовой выборке"
   ]
  },
  {
   "cell_type": "markdown",
   "metadata": {
    "id": "1W2Aks_bfkrr"
   },
   "source": [
    "Сначала получим прогноз модели на тестовых данных `test_points` с помощью моделей логистической регрессии \n",
    "Для этого для таких моделей запустим метод `predict`."
   ]
  },
  {
   "cell_type": "code",
   "execution_count": 264,
   "metadata": {
    "id": "F5agd7Xqfkrs",
    "outputId": "796c8e15-7ff5-4383-da49-39096ac150b5"
   },
   "outputs": [
    {
     "data": {
      "text/plain": [
       "array([0, 0, 1, ..., 1, 0, 0], dtype=int64)"
      ]
     },
     "execution_count": 264,
     "metadata": {},
     "output_type": "execute_result"
    }
   ],
   "source": [
    "test_predictions_logistic_regression = logistic_regression_model.predict(test_points)\n",
    "test_predictions_logistic_regression"
   ]
  },
  {
   "cell_type": "markdown",
   "metadata": {
    "id": "bW5H14vUfkrz"
   },
   "source": [
    "### Шаг 6.1. Точность прогноза"
   ]
  },
  {
   "cell_type": "markdown",
   "metadata": {
    "id": "__1QHI2Pfkr0"
   },
   "source": [
    "Посчитаем точность (accuracy) работы моделей. Напомним, что точность отражает, сколько в процентном соотношении от размера тестовой выборки модель угадала единичек и сколько угадала ноликов."
   ]
  },
  {
   "cell_type": "markdown",
   "metadata": {
    "id": "jumUSqEXfkr1"
   },
   "source": [
    "Функция для подсчета точности реализована в библиотеке **sklearn** и называется **`accuracy_score()`**. Импортируем её. "
   ]
  },
  {
   "cell_type": "code",
   "execution_count": 265,
   "metadata": {
    "id": "PeVHGZAifkr2"
   },
   "outputs": [],
   "source": [
    "from sklearn.metrics import accuracy_score"
   ]
  },
  {
   "cell_type": "markdown",
   "metadata": {
    "id": "OdO7dYE0fkr-"
   },
   "source": [
    "В функцию **`accuracy_score()`** необходимо передать два аргумента:\n",
    "* истинные значения меток - *test_values*\n",
    "* предсказания модели - *test_predictions_logistic_regression* или *test_predictions_random_forest*"
   ]
  },
  {
   "cell_type": "code",
   "execution_count": 266,
   "metadata": {
    "colab": {
     "base_uri": "https://localhost:8080/",
     "height": 53
    },
    "id": "Fh-MGTvsfksA",
    "outputId": "db01d9dc-84e6-47fc-88b3-8b0c4b04507b"
   },
   "outputs": [
    {
     "name": "stdout",
     "output_type": "stream",
     "text": [
      "0.5862068965517241\n"
     ]
    }
   ],
   "source": [
    "print(accuracy_score(test_values, test_predictions_logistic_regression))\n"
   ]
  },
  {
   "cell_type": "markdown",
   "metadata": {
    "id": "AqYKNlqJfksF"
   },
   "source": [
    "Сравним значения точности для наших моделей с точностью для константного классификатора, модели, которая всегда бы предсказывала больший класс, в нашем случае 0. \n",
    "Для этого можно в функцию **`accuracy_score()`** в качестве второго аргумента передать массив нулей такого же размера, как и *test_values*. Это делается с помощью функции **`zeros_like()`** из библиотеки pandas, у которой один аргумент - *test_values*, массив с размером которого будет создан массив нулей. "
   ]
  },
  {
   "cell_type": "code",
   "execution_count": 267,
   "metadata": {
    "colab": {
     "base_uri": "https://localhost:8080/",
     "height": 35
    },
    "id": "Ci83rfINfksG",
    "outputId": "7ee29ab2-78d2-4741-d355-f53b3105f57f"
   },
   "outputs": [
    {
     "name": "stdout",
     "output_type": "stream",
     "text": [
      "0.8357531760435571\n"
     ]
    }
   ],
   "source": [
    "print(accuracy_score(test_values, np.zeros_like(test_values)))"
   ]
  },
  {
   "cell_type": "markdown",
   "metadata": {
    "id": "fq2jcND2fksI"
   },
   "source": [
    "Как видно, значения точности для логистической регрессии равно точности для контстантного классификатора. И на самом деле, модель логистической регресси предсказывает только класс 0:"
   ]
  },
  {
   "cell_type": "code",
   "execution_count": 268,
   "metadata": {
    "colab": {
     "base_uri": "https://localhost:8080/",
     "height": 53
    },
    "id": "8RocT_VpfksI",
    "outputId": "06519072-7813-401e-c8f4-a248352392ac"
   },
   "outputs": [
    {
     "data": {
      "text/plain": [
       "0    599\n",
       "1    503\n",
       "dtype: int64"
      ]
     },
     "execution_count": 268,
     "metadata": {},
     "output_type": "execute_result"
    }
   ],
   "source": [
    "pd.value_counts(test_predictions_logistic_regression)"
   ]
  },
  {
   "cell_type": "markdown",
   "metadata": {
    "id": "hCk7hNEwfksK"
   },
   "source": [
    "### Шаг 6.2. Таблица сопряженности модели классификации"
   ]
  },
  {
   "cell_type": "markdown",
   "metadata": {
    "id": "1vq89Cv4fksL"
   },
   "source": [
    "Напоминм, что **таблица сопряжённости** (матрица неточности, или Confusion matrix) содержит сводные показатели качества работы классификатора. **Строки** этой таблицы соответствуют **фактическим классам** тестового набора, а **столбцы** - **предсказанным** классификатором меткам.\n",
    "\n",
    "Импортируем функцию для построения таблицы сопряженности из библиотеки **`sklearn`**."
   ]
  },
  {
   "cell_type": "code",
   "execution_count": 269,
   "metadata": {
    "id": "EeZufTfJfksL"
   },
   "outputs": [],
   "source": [
    "from sklearn.metrics import confusion_matrix"
   ]
  },
  {
   "cell_type": "markdown",
   "metadata": {
    "id": "KicFOOWgfksO"
   },
   "source": [
    "Таблица содержит четыре сводных показателя, каждый из которых отражает количество объектов в одной и четырех\n",
    "категорий: \n",
    "* **истинно позитивный** (*True positive*, **TP**) -- объект\n",
    "класса `1` был верно помечен меткой `1`;\n",
    "* **ложно позитивный** (*False positive*, **FP**) -- объект\n",
    "фактически принадлежит классу `0`, но помечен меткой `1`;\n",
    "* **истинно отрицательный** (*True negative*, **TN**) -- классификатор\n",
    "верно определил, что объект класса `0` принадлежит классу `0`;\n",
    "* **ложно отрицательный** (*False negative*, **FN**) -- классификатор\n",
    "пометил объект меткой `0`, однако на самом деле объект принадлежит классу `1`.\n",
    "\n",
    "\n",
    "Замечание: ошибки False positive часто называют **ложной тревогой**, а False negative - **пропуском цели**. "
   ]
  },
  {
   "cell_type": "markdown",
   "metadata": {
    "id": "hv1zRMibfksO"
   },
   "source": [
    "|                   |  Предсказано `0` |  Предсказано `1` |\n",
    "|:-------------------|:------------------|:------------------|\n",
    "|**Фактически** `0`  |       TN         |       FP         |\n",
    "|**Фактически** `1`  |       FN         |       TP         | "
   ]
  },
  {
   "cell_type": "markdown",
   "metadata": {
    "id": "g5aCd_EofksP"
   },
   "source": [
    "Посмотрим на таблицу сопряженности для градиентного бустинга. Для этого в функцию **`confusion_matrix()`** необходимо передать два аргумента:\n",
    "* истинные значения меток - *test_values*\n",
    "* предсказания модели - *test_predictions_xgboost*\n",
    "\n",
    "Далее для удобства мы запишем полученную матрицу в удобный табличный вид, воспользовавшись функцией **`DataFrame()`** из библиотеки **pandas**. "
   ]
  },
  {
   "cell_type": "code",
   "execution_count": 270,
   "metadata": {
    "colab": {
     "base_uri": "https://localhost:8080/",
     "height": 111
    },
    "id": "ePfeHroafksP",
    "outputId": "0bb0ef57-e3e7-47da-b614-940ba83bc23f",
    "scrolled": true
   },
   "outputs": [
    {
     "data": {
      "text/html": [
       "<div>\n",
       "<style scoped>\n",
       "    .dataframe tbody tr th:only-of-type {\n",
       "        vertical-align: middle;\n",
       "    }\n",
       "\n",
       "    .dataframe tbody tr th {\n",
       "        vertical-align: top;\n",
       "    }\n",
       "\n",
       "    .dataframe thead th {\n",
       "        text-align: right;\n",
       "    }\n",
       "</style>\n",
       "<table border=\"1\" class=\"dataframe\">\n",
       "  <thead>\n",
       "    <tr style=\"text-align: right;\">\n",
       "      <th></th>\n",
       "      <th>0</th>\n",
       "      <th>1</th>\n",
       "    </tr>\n",
       "  </thead>\n",
       "  <tbody>\n",
       "    <tr>\n",
       "      <th>0</th>\n",
       "      <td>532</td>\n",
       "      <td>389</td>\n",
       "    </tr>\n",
       "    <tr>\n",
       "      <th>1</th>\n",
       "      <td>67</td>\n",
       "      <td>114</td>\n",
       "    </tr>\n",
       "  </tbody>\n",
       "</table>\n",
       "</div>"
      ],
      "text/plain": [
       "     0    1\n",
       "0  532  389\n",
       "1   67  114"
      ]
     },
     "execution_count": 270,
     "metadata": {},
     "output_type": "execute_result"
    }
   ],
   "source": [
    "reg_confusion_matrix = confusion_matrix(test_values, test_predictions_logistic_regression)\n",
    "reg_confusion_matrix = pd.DataFrame(reg_confusion_matrix)\n",
    "\n",
    "reg_confusion_matrix"
   ]
  },
  {
   "cell_type": "markdown",
   "metadata": {
    "id": "SnvNuH74fksR"
   },
   "source": [
    "### Шаг 6.3. Прогноз вероятности принадлежности к классу\n",
    "\n",
    "Вместо прогноза меток классов модель может с помощью метода **`predict_proba()`** выдавать метки вероятности принадлежности к классам.\n",
    "Так как класса у нас 2: сотрудники, которые ушли и которые продолжили работать, то матрица будет размером **(количество объектов в тестовой выборке, 2)**."
   ]
  },
  {
   "cell_type": "code",
   "execution_count": 271,
   "metadata": {
    "id": "Hg5_hn44fksS"
   },
   "outputs": [],
   "source": [
    "test_probabilities = logistic_regression_model.predict_proba(test_points)"
   ]
  },
  {
   "cell_type": "markdown",
   "metadata": {
    "id": "ORG5t6MKfksU"
   },
   "source": [
    "Посмотрим на первые пять значений этой матрицу: "
   ]
  },
  {
   "cell_type": "code",
   "execution_count": 272,
   "metadata": {
    "colab": {
     "base_uri": "https://localhost:8080/",
     "height": 107
    },
    "id": "d4k9kGbmfksV",
    "outputId": "29bfd812-31df-440c-a521-97afceef5518"
   },
   "outputs": [
    {
     "data": {
      "text/plain": [
       "array([[0.51143489, 0.48856511],\n",
       "       [0.76267353, 0.23732647],\n",
       "       [0.4163813 , 0.5836187 ],\n",
       "       [0.42794092, 0.57205908],\n",
       "       [0.36133891, 0.63866109]])"
      ]
     },
     "execution_count": 272,
     "metadata": {},
     "output_type": "execute_result"
    }
   ],
   "source": [
    "test_probabilities[:5, :]"
   ]
  },
  {
   "cell_type": "markdown",
   "metadata": {
    "id": "fD-b5oTdfksY"
   },
   "source": [
    "Вероятность принадлежности ко второму классу - во втором столбце матрицы вероятностей."
   ]
  },
  {
   "cell_type": "code",
   "execution_count": 273,
   "metadata": {
    "id": "geVV3ig4fksZ"
   },
   "outputs": [],
   "source": [
    "test_probabilities = test_probabilities[:, 1]"
   ]
  },
  {
   "cell_type": "markdown",
   "metadata": {
    "id": "AmSo-KVFfksa"
   },
   "source": [
    "Посмотрим на распределение предсказанной классификатором вероятности ухода сотрудника, метки `1`."
   ]
  },
  {
   "cell_type": "code",
   "execution_count": 274,
   "metadata": {
    "colab": {
     "base_uri": "https://localhost:8080/",
     "height": 343
    },
    "id": "f9bYXlW9fksb",
    "outputId": "edc621a8-00c8-4a5d-81ce-78928c5833f5"
   },
   "outputs": [
    {
     "data": {
      "image/png": "[encoded data removed]",
      "text/plain": [
       "<Figure size 576x360 with 1 Axes>"
      ]
     },
     "metadata": {},
     "output_type": "display_data"
    }
   ],
   "source": [
    "plt.figure(figsize=(8, 5))\n",
    "\n",
    "plt.hist(test_probabilities, bins=100)\n",
    "plt.vlines(0.5, 0, 100)\n",
    "\n",
    "plt.xlabel('Предсказанная вероятность ухода сотрудника', fontsize=20)\n",
    "plt.ylabel('Количество сотрудников', fontsize=20);"
   ]
  },
  {
   "cell_type": "markdown",
   "metadata": {
    "id": "tg0rO1DKfksh"
   },
   "source": [
    "Распределение сконцентрировано на отрезке от `0` до `0.4` и лишь незначительная часть вероятностей превышает порог `0.5`. Из\n",
    "этого можно предположить, что классификатор склонен классифицировать все\n",
    "объекты скорее как `0`, игнорируя метку `1`. Это происходит потому, что меток `1` в обучающей выборке сильно меньше, чем меток `0`."
   ]
  },
  {
   "cell_type": "markdown",
   "metadata": {
    "id": "N-OTtW-9fksi"
   },
   "source": [
    "## *Бонус: Точность и полнота"
   ]
  },
  {
   "cell_type": "markdown",
   "metadata": {
    "id": "D71o1Sjufksj"
   },
   "source": [
    "Метрики **Точность** (*Precision*) и **Полнота** (*Recall*) позволяют по-другому взглянуть на качество работы классификатора. Обе метрики рассчитываются на основе значений **таблицы сопряжённости**."
   ]
  },
  {
   "cell_type": "markdown",
   "metadata": {
    "id": "eDmhVY5bfksj"
   },
   "source": [
    "<a href=\"https://drive.google.com/uc?id=1jAZLpihYxu_FPvN9PIJ1G4S_KvO_6Ku6\n",
    "\" target=\"_blank\"><img src=\"https://drive.google.com/uc?id=1Q3zfGLnyEYJmZbfVxKXoxpsndmoLwd7K\" \n",
    "alt=\"IMAGE ALT TEXT HERE\" width=\"500\" border=\"0\" /></a>\n"
   ]
  },
  {
   "cell_type": "markdown",
   "metadata": {
    "id": "drq41XiCfksk"
   },
   "source": [
    "Несмотря на то, что в английском языке слова *accuracy* и *precision*\n",
    "синонимы, они соответствуют принципиально разным метрикам. В русском языке\n",
    "оба слова переводятся как \"точность\"."
   ]
  },
  {
   "cell_type": "markdown",
   "metadata": {
    "id": "cD98iZjwfksm"
   },
   "source": [
    "Для начала получим матрицу сопряженности для классификатора на основе случайного леса:"
   ]
  },
  {
   "cell_type": "code",
   "execution_count": 275,
   "metadata": {
    "id": "e1jW1TEYfksn"
   },
   "outputs": [],
   "source": [
    "confusion_matrix_reg = confusion_matrix(test_values,  test_predictions_logistic_regression)"
   ]
  },
  {
   "cell_type": "markdown",
   "metadata": {
    "id": "f5JmcbJ8fksp"
   },
   "source": [
    "|                   |  Предсказано `0` |  Предсказано `1` |\n",
    "|-------------------|------------------|------------------|\n",
    "|**Фактически** `0` |       TN         |       FP         |\n",
    "|**Фактически** `1` |       FN         |       TP         | "
   ]
  },
  {
   "cell_type": "markdown",
   "metadata": {
    "id": "drTwkeuKfksq"
   },
   "source": [
    "Выделим каждое значение в отдельную переменную:"
   ]
  },
  {
   "cell_type": "code",
   "execution_count": 276,
   "metadata": {
    "id": "0ZIqAPtAfksq"
   },
   "outputs": [],
   "source": [
    "TN, FP = confusion_matrix_reg[0, 0], confusion_matrix_reg[0, 1]\n",
    "\n",
    "FN, TP = confusion_matrix_reg[1, 0], confusion_matrix_reg[1, 1]"
   ]
  },
  {
   "cell_type": "markdown",
   "metadata": {
    "id": "N6tJCANtfksu"
   },
   "source": [
    "Полнота (**Recall**) классификатора равна доли истинно положительных срабатываний **TPR**\n",
    "(отношение $\\frac{TP}{TP + FN}$). Эту характеристику можно интерпретировать, как\n",
    "\"чувствительность\" классификатора к объектам класса `1`. Чем ближе к $100\\%$, тем\n",
    "реже классификатор \"пропускает\" положительный объект (в данном случае истинного класса `1`)."
   ]
  },
  {
   "cell_type": "code",
   "execution_count": 277,
   "metadata": {
    "colab": {
     "base_uri": "https://localhost:8080/",
     "height": 35
    },
    "id": "pNuAeE9-fksv",
    "outputId": "d47c825b-1065-418a-de8a-384af2f639f8"
   },
   "outputs": [
    {
     "name": "stdout",
     "output_type": "stream",
     "text": [
      "Полнота: 62.98%\n"
     ]
    }
   ],
   "source": [
    "recall = TP / (TP + FN)\n",
    "\n",
    "print(\"Полнота: %.2f%%\" % (100 * recall))"
   ]
  },
  {
   "cell_type": "markdown",
   "metadata": {
    "id": "tObSm5WCfksx"
   },
   "source": [
    "Точность классификатора (**Precision**) -- это отношение $\\frac{TP}{TP + FP}$. Оно отражает,\n",
    "насколько разборчиво классификатор присваивает метки положительного класса `1`. Чем выше этот показатель,\n",
    "тем \"реже\" объекты, помеченные как `1`, являются на самом деле примерами из класса `0`."
   ]
  },
  {
   "cell_type": "code",
   "execution_count": 278,
   "metadata": {
    "colab": {
     "base_uri": "https://localhost:8080/",
     "height": 35
    },
    "id": "C37JGziifksx",
    "outputId": "3ee4c860-c30f-4414-aee8-6a4b4f6ae742"
   },
   "outputs": [
    {
     "name": "stdout",
     "output_type": "stream",
     "text": [
      "Точность: 22.66%\n"
     ]
    }
   ],
   "source": [
    "precision = TP / (TP + FP)\n",
    "\n",
    "print(\"Точность: %.2f%%\" % (100 * precision))"
   ]
  },
  {
   "cell_type": "markdown",
   "metadata": {
    "id": "83-WDV-nfksz"
   },
   "source": [
    "Классификатор с высокой полнотой, но низкой точностью срабатывает очень\n",
    "часто, однако при этом большинство результатов ошибочны (много ложных\n",
    "срабатываний)."
   ]
  },
  {
   "cell_type": "markdown",
   "metadata": {
    "id": "Y2y1KJ5qfks0"
   },
   "source": [
    "Наоборот, если у классификатора низкая полнота, но высокая точность,\n",
    "то он срабатывает достаточно редко, но при этом почти безошибочно определяет\n",
    "объекты класса `1` (много пропущенных объектов, ложное \"бездействие\")."
   ]
  },
  {
   "cell_type": "markdown",
   "metadata": {
    "id": "c7X1pUX4fks0"
   },
   "source": [
    "### Кривая precision-recall"
   ]
  },
  {
   "cell_type": "markdown",
   "metadata": {
    "id": "urVRqgfKfks0"
   },
   "source": [
    "В пространстве **precision-recall** можно построить кривую, аналогичную **ROC**-кривой. Она также отражает зависимость метрик от порога классификации и косвенно друг от друга. В **sklearn** для построения этой кривой есть функция **precision_recall_curve()**<br/>"
   ]
  },
  {
   "cell_type": "markdown",
   "metadata": {
    "id": "WTME_dROfks1"
   },
   "source": [
    "Получим координаты точек кривой **PR** для тестового набора данных, для этого функции **precision_recall_curve()** нужно передать два аргумента: \n",
    "* истинные значения - *test_values*\n",
    "* предсказанные вероятности - *test_probabilities*"
   ]
  },
  {
   "cell_type": "code",
   "execution_count": 279,
   "metadata": {
    "id": "aqAK97h-fks4"
   },
   "outputs": [
    {
     "ename": "ValueError",
     "evalue": "too many values to unpack (expected 2)",
     "output_type": "error",
     "traceback": [
      "\u001b[1;31m---------------------------------------------------------------------------\u001b[0m",
      "\u001b[1;31mValueError\u001b[0m                                Traceback (most recent call last)",
      "\u001b[1;32m<ipython-input-279-21ff808e93f2>\u001b[0m in \u001b[0;36m<module>\u001b[1;34m\u001b[0m\n\u001b[1;32m----> 1\u001b[1;33m \u001b[0mprecision\u001b[0m\u001b[1;33m,\u001b[0m \u001b[0mrecall\u001b[0m \u001b[1;33m=\u001b[0m \u001b[0mprecision_recall_curve\u001b[0m\u001b[1;33m(\u001b[0m\u001b[0mtest_values\u001b[0m\u001b[1;33m,\u001b[0m \u001b[0mtest_probabilities\u001b[0m\u001b[1;33m)\u001b[0m\u001b[1;33m\u001b[0m\u001b[1;33m\u001b[0m\u001b[0m\n\u001b[0m",
      "\u001b[1;31mValueError\u001b[0m: too many values to unpack (expected 2)"
     ]
    }
   ],
   "source": [
    "precision, recall = precision_recall_curve(test_values, test_probabilities)"
   ]
  },
  {
   "cell_type": "markdown",
   "metadata": {
    "id": "2AMdCg4Bfks6"
   },
   "source": [
    "Нарисуем кривую precision-recall:"
   ]
  },
  {
   "cell_type": "code",
   "execution_count": 280,
   "metadata": {
    "colab": {
     "base_uri": "https://localhost:8080/",
     "height": 467
    },
    "id": "TKefJMDxfks7",
    "outputId": "0bf2892b-02ad-49fd-827a-7e7d117acd07"
   },
   "outputs": [
    {
     "data": {
      "image/png": "[encoded data removed]",
      "text/plain": [
       "<Figure size 504x504 with 1 Axes>"
      ]
     },
     "metadata": {},
     "output_type": "display_data"
    }
   ],
   "source": [
    "plt.figure(figsize=(7, 7))\n",
    "\n",
    "plt.plot(precision, recall, color='darkorange')\n",
    "\n",
    "plt.title('Precision-Recall curve', fontsize=18)\n",
    "plt.xlabel('Полнота (Recall)', fontsize=16)\n",
    "plt.ylabel('Точность (Precision)', fontsize=16)\n",
    "\n",
    "plt.show()"
   ]
  },
  {
   "cell_type": "markdown",
   "metadata": {
    "id": "UzV2koTJfks_"
   },
   "source": [
    "Чем ближе кривая **PR** к **правому верхнему** углу тем лучше качество классификации."
   ]
  },
  {
   "cell_type": "markdown",
   "metadata": {
    "id": "rT6I59Vvfks_"
   },
   "source": [
    "Площадь под **precision-recall** рассчитывается отдельной функцией **average_precision_score()**:"
   ]
  },
  {
   "cell_type": "code",
   "execution_count": 281,
   "metadata": {
    "colab": {
     "base_uri": "https://localhost:8080/",
     "height": 35
    },
    "id": "C8UYHKR_fktA",
    "outputId": "92f8751f-5251-473c-9df1-ffe32416c21e"
   },
   "outputs": [
    {
     "name": "stdout",
     "output_type": "stream",
     "text": [
      "PR-AUC на тестовой выборке: 0.29895080568926713\n"
     ]
    }
   ],
   "source": [
    "pr_auc_value = average_precision_score(test_values, test_probabilities)\n",
    "\n",
    "print(\"PR-AUC на тестовой выборке:\", pr_auc_value) "
   ]
  },
  {
   "cell_type": "markdown",
   "metadata": {
    "id": "xfSwwDzdfktC"
   },
   "source": [
    "Большая площадь под кривой отражает высокие метрики точности и полноты,\n",
    "что означает низкое число ложных срабатываний, и низкое число пропущенных\n",
    "объектов интересующего нас класса `1`."
   ]
  },
  {
   "cell_type": "markdown",
   "metadata": {
    "id": "V7rUxaRvfktD"
   },
   "source": [
    "Также нарисуем ROC кривую классификатора."
   ]
  },
  {
   "cell_type": "code",
   "execution_count": 282,
   "metadata": {
    "id": "biLKJb7ifktD"
   },
   "outputs": [],
   "source": [
    "false_positive_rates, true_positive_rates, threshold = roc_curve(test_values, test_probabilities)"
   ]
  },
  {
   "cell_type": "code",
   "execution_count": 283,
   "metadata": {
    "colab": {
     "base_uri": "https://localhost:8080/",
     "height": 458
    },
    "id": "eAOS1rm9fktG",
    "outputId": "7e0c7cbc-d94b-4898-98a6-272e49865ce7"
   },
   "outputs": [
    {
     "data": {
      "image/png": "[encoded data removed]",
      "text/plain": [
       "<Figure size 504x504 with 1 Axes>"
      ]
     },
     "metadata": {},
     "output_type": "display_data"
    }
   ],
   "source": [
    "# создаём график\n",
    "plt.figure(figsize=(7, 7))\n",
    "\n",
    "# рисуем кривую\n",
    "plt.plot(false_positive_rates, true_positive_rates, label='Сглаженные значения ROC-AUC')\n",
    "\n",
    "# кривая, соответствующая случайному угадыванию\n",
    "plt.plot([0, 1], [0, 1], color='k', lw=2, linestyle=':', label='Модель, выдающая случайное значение')\n",
    "\n",
    "plt.title('ROC curve')\n",
    "plt.xlabel('False Positive Rate')\n",
    "plt.ylabel('True Positive Rate')\n",
    "\n",
    "plt.fill_between(false_positive_rates, true_positive_rates, step=\"mid\", alpha=0.4, label='площадь под кривой (ROC-AUC)')\n",
    "plt.legend()\n",
    "plt.show()"
   ]
  },
  {
   "cell_type": "code",
   "execution_count": 284,
   "metadata": {
    "id": "kTTTouahfktI"
   },
   "outputs": [],
   "source": [
    "from sklearn.metrics import roc_auc_score"
   ]
  },
  {
   "cell_type": "code",
   "execution_count": 285,
   "metadata": {
    "colab": {
     "base_uri": "https://localhost:8080/",
     "height": 35
    },
    "id": "vfkmIeCTfktJ",
    "outputId": "ec5a685a-124f-4995-dec2-7af2d52588fd"
   },
   "outputs": [
    {
     "name": "stdout",
     "output_type": "stream",
     "text": [
      "ROC-AUC на тестовой выборке: 0.6472186729533717\n"
     ]
    }
   ],
   "source": [
    "roc_auc_value = roc_auc_score(test_values, test_probabilities)\n",
    "\n",
    "print(\"ROC-AUC на тестовой выборке:\", roc_auc_value) "
   ]
  },
  {
   "cell_type": "markdown",
   "metadata": {
    "id": "pnwXcdwdfktK"
   },
   "source": [
    "Типичная шкала для **ROC-AUC** (часто все зависит от задачи):\n",
    "* $0.90$ - $1.00$ отлично;\n",
    "* $0.80$ - $0.90$ хорошо;\n",
    "* $0.70$ - $0.80$ удовлетворительно;\n",
    "* $0.60$ - $0.70$ плохо;\n",
    "* $0.50$ - $0.60$ очень плохо;\n",
    "* $0.00$ - $0.50$ классификатор перепутал метки."
   ]
  },
  {
   "cell_type": "markdown",
   "metadata": {
    "id": "MvdJb6KHfktL"
   },
   "source": [
    "## *Бонус 2: Определение важности признаков"
   ]
  },
  {
   "cell_type": "markdown",
   "metadata": {
    "id": "afRFaXcjfktM"
   },
   "source": [
    "Очевидно, что не все собранные признаки будут одинаково полезны. После обучения алгоритма мы можем посмотреть какие из признаков больше влияют на результат. Если в наборе данных окажутся бесполезные признаки, то их можно удалить, чтобы уменьшить время обучения. В алгоритмах библиотеки **sklearn** посмотреть на важность признаков можно с помощью свойства **feature_importances_**"
   ]
  },
  {
   "cell_type": "code",
   "execution_count": 286,
   "metadata": {
    "id": "HFB9l-ojich5"
   },
   "outputs": [],
   "source": [
    "importances = logistic_regression_model.coef_.flatten()\n",
    "indices = np.argsort(importances)[::-1]"
   ]
  },
  {
   "cell_type": "code",
   "execution_count": 287,
   "metadata": {
    "colab": {
     "base_uri": "https://localhost:8080/",
     "height": 627
    },
    "id": "uGJgdHJ3jrBF",
    "outputId": "ccbc6bcc-4f19-4ee4-d63e-bc2b44c6d77e"
   },
   "outputs": [
    {
     "data": {
      "image/png": "[encoded data removed]",
      "text/plain": [
       "<Figure size 576x576 with 1 Axes>"
      ]
     },
     "metadata": {},
     "output_type": "display_data"
    }
   ],
   "source": [
    "plt.figure(figsize=(8, 8))\n",
    "\n",
    "plt.title('Важность признаков')\n",
    "plt.ylabel('Важность (полезность)')\n",
    "plt.xlabel('Название признака')\n",
    "\n",
    "plt.bar(training_points.columns[indices], importances[indices])\n",
    "plt.xticks(rotation=90)\n",
    "plt.show()"
   ]
  },
  {
   "cell_type": "code",
   "execution_count": 104,
   "metadata": {
    "id": "B-PA8I3Oj3dS"
   },
   "outputs": [],
   "source": [
    "### Попробуем сбалансировать выборку"
   ]
  },
  {
   "cell_type": "code",
   "execution_count": 291,
   "metadata": {
    "id": "UCfm1lVx4WqM",
    "outputId": "12ad09a2-fbd4-4881-87c9-e87bd95e3d3e"
   },
   "outputs": [
    {
     "data": {
      "text/html": [
       "<div>\n",
       "<style scoped>\n",
       "    .dataframe tbody tr th:only-of-type {\n",
       "        vertical-align: middle;\n",
       "    }\n",
       "\n",
       "    .dataframe tbody tr th {\n",
       "        vertical-align: top;\n",
       "    }\n",
       "\n",
       "    .dataframe thead th {\n",
       "        text-align: right;\n",
       "    }\n",
       "</style>\n",
       "<table border=\"1\" class=\"dataframe\">\n",
       "  <thead>\n",
       "    <tr style=\"text-align: right;\">\n",
       "      <th></th>\n",
       "      <th>Age</th>\n",
       "      <th>BusinessTravel</th>\n",
       "      <th>Department</th>\n",
       "      <th>DistanceFromHome</th>\n",
       "      <th>Education</th>\n",
       "      <th>EducationField</th>\n",
       "      <th>Gender</th>\n",
       "      <th>JobRole</th>\n",
       "      <th>MaritalStatus</th>\n",
       "      <th>MonthlyIncome</th>\n",
       "      <th>NumCompaniesWorked</th>\n",
       "      <th>PercentSalaryHike</th>\n",
       "      <th>StandardHours</th>\n",
       "      <th>StockOptionLevel</th>\n",
       "      <th>TotalWorkingYears</th>\n",
       "      <th>TrainingTimesLastYear</th>\n",
       "      <th>YearsAtCompany</th>\n",
       "      <th>YearsSinceLastPromotion</th>\n",
       "      <th>YearsWithCurrManager</th>\n",
       "      <th>Attrition</th>\n",
       "    </tr>\n",
       "  </thead>\n",
       "  <tbody>\n",
       "    <tr>\n",
       "      <th>0</th>\n",
       "      <td>51</td>\n",
       "      <td>Travel_Rarely</td>\n",
       "      <td>Sales</td>\n",
       "      <td>6</td>\n",
       "      <td>2</td>\n",
       "      <td>Life Sciences</td>\n",
       "      <td>Female</td>\n",
       "      <td>Healthcare Representative</td>\n",
       "      <td>Married</td>\n",
       "      <td>131160</td>\n",
       "      <td>1.0</td>\n",
       "      <td>11</td>\n",
       "      <td>8</td>\n",
       "      <td>0</td>\n",
       "      <td>1.0</td>\n",
       "      <td>6</td>\n",
       "      <td>1</td>\n",
       "      <td>0</td>\n",
       "      <td>0</td>\n",
       "      <td>0</td>\n",
       "    </tr>\n",
       "    <tr>\n",
       "      <th>2</th>\n",
       "      <td>32</td>\n",
       "      <td>Travel_Frequently</td>\n",
       "      <td>Research &amp; Development</td>\n",
       "      <td>17</td>\n",
       "      <td>4</td>\n",
       "      <td>Other</td>\n",
       "      <td>Male</td>\n",
       "      <td>Sales Executive</td>\n",
       "      <td>Married</td>\n",
       "      <td>193280</td>\n",
       "      <td>1.0</td>\n",
       "      <td>15</td>\n",
       "      <td>8</td>\n",
       "      <td>3</td>\n",
       "      <td>5.0</td>\n",
       "      <td>2</td>\n",
       "      <td>5</td>\n",
       "      <td>0</td>\n",
       "      <td>3</td>\n",
       "      <td>0</td>\n",
       "    </tr>\n",
       "    <tr>\n",
       "      <th>3</th>\n",
       "      <td>38</td>\n",
       "      <td>Non-Travel</td>\n",
       "      <td>Research &amp; Development</td>\n",
       "      <td>2</td>\n",
       "      <td>5</td>\n",
       "      <td>Life Sciences</td>\n",
       "      <td>Male</td>\n",
       "      <td>Human Resources</td>\n",
       "      <td>Married</td>\n",
       "      <td>83210</td>\n",
       "      <td>3.0</td>\n",
       "      <td>11</td>\n",
       "      <td>8</td>\n",
       "      <td>3</td>\n",
       "      <td>13.0</td>\n",
       "      <td>5</td>\n",
       "      <td>8</td>\n",
       "      <td>7</td>\n",
       "      <td>5</td>\n",
       "      <td>0</td>\n",
       "    </tr>\n",
       "    <tr>\n",
       "      <th>4</th>\n",
       "      <td>32</td>\n",
       "      <td>Travel_Rarely</td>\n",
       "      <td>Research &amp; Development</td>\n",
       "      <td>10</td>\n",
       "      <td>1</td>\n",
       "      <td>Medical</td>\n",
       "      <td>Male</td>\n",
       "      <td>Sales Executive</td>\n",
       "      <td>Single</td>\n",
       "      <td>23420</td>\n",
       "      <td>4.0</td>\n",
       "      <td>12</td>\n",
       "      <td>8</td>\n",
       "      <td>2</td>\n",
       "      <td>9.0</td>\n",
       "      <td>2</td>\n",
       "      <td>6</td>\n",
       "      <td>0</td>\n",
       "      <td>4</td>\n",
       "      <td>0</td>\n",
       "    </tr>\n",
       "    <tr>\n",
       "      <th>5</th>\n",
       "      <td>46</td>\n",
       "      <td>Travel_Rarely</td>\n",
       "      <td>Research &amp; Development</td>\n",
       "      <td>8</td>\n",
       "      <td>3</td>\n",
       "      <td>Life Sciences</td>\n",
       "      <td>Female</td>\n",
       "      <td>Research Director</td>\n",
       "      <td>Married</td>\n",
       "      <td>40710</td>\n",
       "      <td>3.0</td>\n",
       "      <td>13</td>\n",
       "      <td>8</td>\n",
       "      <td>0</td>\n",
       "      <td>28.0</td>\n",
       "      <td>5</td>\n",
       "      <td>7</td>\n",
       "      <td>7</td>\n",
       "      <td>7</td>\n",
       "      <td>0</td>\n",
       "    </tr>\n",
       "    <tr>\n",
       "      <th>...</th>\n",
       "      <td>...</td>\n",
       "      <td>...</td>\n",
       "      <td>...</td>\n",
       "      <td>...</td>\n",
       "      <td>...</td>\n",
       "      <td>...</td>\n",
       "      <td>...</td>\n",
       "      <td>...</td>\n",
       "      <td>...</td>\n",
       "      <td>...</td>\n",
       "      <td>...</td>\n",
       "      <td>...</td>\n",
       "      <td>...</td>\n",
       "      <td>...</td>\n",
       "      <td>...</td>\n",
       "      <td>...</td>\n",
       "      <td>...</td>\n",
       "      <td>...</td>\n",
       "      <td>...</td>\n",
       "      <td>...</td>\n",
       "    </tr>\n",
       "    <tr>\n",
       "      <th>3303</th>\n",
       "      <td>36</td>\n",
       "      <td>Travel_Rarely</td>\n",
       "      <td>Sales</td>\n",
       "      <td>10</td>\n",
       "      <td>4</td>\n",
       "      <td>Marketing</td>\n",
       "      <td>Male</td>\n",
       "      <td>Manager</td>\n",
       "      <td>Married</td>\n",
       "      <td>86860</td>\n",
       "      <td>1.0</td>\n",
       "      <td>13</td>\n",
       "      <td>8</td>\n",
       "      <td>0</td>\n",
       "      <td>18.0</td>\n",
       "      <td>2</td>\n",
       "      <td>18</td>\n",
       "      <td>4</td>\n",
       "      <td>11</td>\n",
       "      <td>0</td>\n",
       "    </tr>\n",
       "    <tr>\n",
       "      <th>3304</th>\n",
       "      <td>32</td>\n",
       "      <td>Travel_Rarely</td>\n",
       "      <td>Research &amp; Development</td>\n",
       "      <td>3</td>\n",
       "      <td>4</td>\n",
       "      <td>Medical</td>\n",
       "      <td>Female</td>\n",
       "      <td>Sales Executive</td>\n",
       "      <td>Divorced</td>\n",
       "      <td>30380</td>\n",
       "      <td>2.0</td>\n",
       "      <td>20</td>\n",
       "      <td>8</td>\n",
       "      <td>0</td>\n",
       "      <td>8.0</td>\n",
       "      <td>3</td>\n",
       "      <td>5</td>\n",
       "      <td>0</td>\n",
       "      <td>3</td>\n",
       "      <td>0</td>\n",
       "    </tr>\n",
       "    <tr>\n",
       "      <th>3305</th>\n",
       "      <td>30</td>\n",
       "      <td>Travel_Frequently</td>\n",
       "      <td>Research &amp; Development</td>\n",
       "      <td>4</td>\n",
       "      <td>5</td>\n",
       "      <td>Medical</td>\n",
       "      <td>Male</td>\n",
       "      <td>Sales Representative</td>\n",
       "      <td>Divorced</td>\n",
       "      <td>30580</td>\n",
       "      <td>9.0</td>\n",
       "      <td>14</td>\n",
       "      <td>8</td>\n",
       "      <td>1</td>\n",
       "      <td>10.0</td>\n",
       "      <td>2</td>\n",
       "      <td>5</td>\n",
       "      <td>0</td>\n",
       "      <td>3</td>\n",
       "      <td>0</td>\n",
       "    </tr>\n",
       "    <tr>\n",
       "      <th>3306</th>\n",
       "      <td>53</td>\n",
       "      <td>Travel_Rarely</td>\n",
       "      <td>Sales</td>\n",
       "      <td>6</td>\n",
       "      <td>3</td>\n",
       "      <td>Marketing</td>\n",
       "      <td>Male</td>\n",
       "      <td>Sales Executive</td>\n",
       "      <td>Married</td>\n",
       "      <td>23250</td>\n",
       "      <td>7.0</td>\n",
       "      <td>18</td>\n",
       "      <td>8</td>\n",
       "      <td>1</td>\n",
       "      <td>35.0</td>\n",
       "      <td>1</td>\n",
       "      <td>5</td>\n",
       "      <td>0</td>\n",
       "      <td>4</td>\n",
       "      <td>0</td>\n",
       "    </tr>\n",
       "    <tr>\n",
       "      <th>3307</th>\n",
       "      <td>45</td>\n",
       "      <td>Travel_Rarely</td>\n",
       "      <td>Research &amp; Development</td>\n",
       "      <td>1</td>\n",
       "      <td>5</td>\n",
       "      <td>Technical Degree</td>\n",
       "      <td>Male</td>\n",
       "      <td>Healthcare Representative</td>\n",
       "      <td>Divorced</td>\n",
       "      <td>20880</td>\n",
       "      <td>4.0</td>\n",
       "      <td>15</td>\n",
       "      <td>8</td>\n",
       "      <td>3</td>\n",
       "      <td>18.0</td>\n",
       "      <td>2</td>\n",
       "      <td>5</td>\n",
       "      <td>0</td>\n",
       "      <td>2</td>\n",
       "      <td>0</td>\n",
       "    </tr>\n",
       "  </tbody>\n",
       "</table>\n",
       "<p>2778 rows × 20 columns</p>\n",
       "</div>"
      ],
      "text/plain": [
       "      Age     BusinessTravel              Department  DistanceFromHome  \\\n",
       "0      51      Travel_Rarely                   Sales                 6   \n",
       "2      32  Travel_Frequently  Research & Development                17   \n",
       "3      38         Non-Travel  Research & Development                 2   \n",
       "4      32      Travel_Rarely  Research & Development                10   \n",
       "5      46      Travel_Rarely  Research & Development                 8   \n",
       "...   ...                ...                     ...               ...   \n",
       "3303   36      Travel_Rarely                   Sales                10   \n",
       "3304   32      Travel_Rarely  Research & Development                 3   \n",
       "3305   30  Travel_Frequently  Research & Development                 4   \n",
       "3306   53      Travel_Rarely                   Sales                 6   \n",
       "3307   45      Travel_Rarely  Research & Development                 1   \n",
       "\n",
       "      Education    EducationField  Gender                    JobRole  \\\n",
       "0             2     Life Sciences  Female  Healthcare Representative   \n",
       "2             4             Other    Male            Sales Executive   \n",
       "3             5     Life Sciences    Male            Human Resources   \n",
       "4             1           Medical    Male            Sales Executive   \n",
       "5             3     Life Sciences  Female          Research Director   \n",
       "...         ...               ...     ...                        ...   \n",
       "3303          4         Marketing    Male                    Manager   \n",
       "3304          4           Medical  Female            Sales Executive   \n",
       "3305          5           Medical    Male       Sales Representative   \n",
       "3306          3         Marketing    Male            Sales Executive   \n",
       "3307          5  Technical Degree    Male  Healthcare Representative   \n",
       "\n",
       "     MaritalStatus  MonthlyIncome  NumCompaniesWorked  PercentSalaryHike  \\\n",
       "0          Married         131160                 1.0                 11   \n",
       "2          Married         193280                 1.0                 15   \n",
       "3          Married          83210                 3.0                 11   \n",
       "4           Single          23420                 4.0                 12   \n",
       "5          Married          40710                 3.0                 13   \n",
       "...            ...            ...                 ...                ...   \n",
       "3303       Married          86860                 1.0                 13   \n",
       "3304      Divorced          30380                 2.0                 20   \n",
       "3305      Divorced          30580                 9.0                 14   \n",
       "3306       Married          23250                 7.0                 18   \n",
       "3307      Divorced          20880                 4.0                 15   \n",
       "\n",
       "      StandardHours  StockOptionLevel  TotalWorkingYears  \\\n",
       "0                 8                 0                1.0   \n",
       "2                 8                 3                5.0   \n",
       "3                 8                 3               13.0   \n",
       "4                 8                 2                9.0   \n",
       "5                 8                 0               28.0   \n",
       "...             ...               ...                ...   \n",
       "3303              8                 0               18.0   \n",
       "3304              8                 0                8.0   \n",
       "3305              8                 1               10.0   \n",
       "3306              8                 1               35.0   \n",
       "3307              8                 3               18.0   \n",
       "\n",
       "      TrainingTimesLastYear  YearsAtCompany  YearsSinceLastPromotion  \\\n",
       "0                         6               1                        0   \n",
       "2                         2               5                        0   \n",
       "3                         5               8                        7   \n",
       "4                         2               6                        0   \n",
       "5                         5               7                        7   \n",
       "...                     ...             ...                      ...   \n",
       "3303                      2              18                        4   \n",
       "3304                      3               5                        0   \n",
       "3305                      2               5                        0   \n",
       "3306                      1               5                        0   \n",
       "3307                      2               5                        0   \n",
       "\n",
       "      YearsWithCurrManager  Attrition  \n",
       "0                        0          0  \n",
       "2                        3          0  \n",
       "3                        5          0  \n",
       "4                        4          0  \n",
       "5                        7          0  \n",
       "...                    ...        ...  \n",
       "3303                    11          0  \n",
       "3304                     3          0  \n",
       "3305                     3          0  \n",
       "3306                     4          0  \n",
       "3307                     2          0  \n",
       "\n",
       "[2778 rows x 20 columns]"
      ]
     },
     "execution_count": 291,
     "metadata": {},
     "output_type": "execute_result"
    }
   ],
   "source": [
    "df_majority = training_data.loc[training_data.Attrition==0]\n",
    "df_minority = training_data.loc[training_data.Attrition==1]\n",
    "df_majority"
   ]
  },
  {
   "cell_type": "code",
   "execution_count": 289,
   "metadata": {
    "id": "lNH8B6Ul0E_K",
    "outputId": "619b2b75-c403-48e4-cc5b-fc06c0912cb4"
   },
   "outputs": [
    {
     "name": "stdout",
     "output_type": "stream",
     "text": [
      "['Age', 'BusinessTravel', 'Department', 'DistanceFromHome', 'Education', 'EducationField', 'Gender', 'JobRole', 'MaritalStatus', 'MonthlyIncome', 'NumCompaniesWorked', 'PercentSalaryHike', 'StandardHours', 'StockOptionLevel', 'TotalWorkingYears', 'TrainingTimesLastYear', 'YearsAtCompany', 'YearsSinceLastPromotion', 'YearsWithCurrManager', 'Attrition']\n"
     ]
    }
   ],
   "source": [
    "print(training_data.columns.tolist())"
   ]
  },
  {
   "cell_type": "code",
   "execution_count": 290,
   "metadata": {
    "id": "hGJ7cZxn0E_L",
    "outputId": "edb5860f-ec54-46fa-b777-a70d6c8058f1"
   },
   "outputs": [
    {
     "data": {
      "text/html": [
       "<div>\n",
       "<style scoped>\n",
       "    .dataframe tbody tr th:only-of-type {\n",
       "        vertical-align: middle;\n",
       "    }\n",
       "\n",
       "    .dataframe tbody tr th {\n",
       "        vertical-align: top;\n",
       "    }\n",
       "\n",
       "    .dataframe thead th {\n",
       "        text-align: right;\n",
       "    }\n",
       "</style>\n",
       "<table border=\"1\" class=\"dataframe\">\n",
       "  <thead>\n",
       "    <tr style=\"text-align: right;\">\n",
       "      <th></th>\n",
       "      <th>Age</th>\n",
       "      <th>BusinessTravel</th>\n",
       "      <th>Department</th>\n",
       "      <th>DistanceFromHome</th>\n",
       "      <th>Education</th>\n",
       "      <th>EducationField</th>\n",
       "      <th>Gender</th>\n",
       "      <th>JobRole</th>\n",
       "      <th>MaritalStatus</th>\n",
       "      <th>MonthlyIncome</th>\n",
       "      <th>NumCompaniesWorked</th>\n",
       "      <th>PercentSalaryHike</th>\n",
       "      <th>StandardHours</th>\n",
       "      <th>StockOptionLevel</th>\n",
       "      <th>TotalWorkingYears</th>\n",
       "      <th>TrainingTimesLastYear</th>\n",
       "      <th>YearsAtCompany</th>\n",
       "      <th>YearsSinceLastPromotion</th>\n",
       "      <th>YearsWithCurrManager</th>\n",
       "      <th>Attrition</th>\n",
       "    </tr>\n",
       "  </thead>\n",
       "  <tbody>\n",
       "    <tr>\n",
       "      <th>1</th>\n",
       "      <td>31</td>\n",
       "      <td>Travel_Frequently</td>\n",
       "      <td>Research &amp; Development</td>\n",
       "      <td>10</td>\n",
       "      <td>1</td>\n",
       "      <td>Life Sciences</td>\n",
       "      <td>Female</td>\n",
       "      <td>Research Scientist</td>\n",
       "      <td>Single</td>\n",
       "      <td>41890</td>\n",
       "      <td>0.0</td>\n",
       "      <td>23</td>\n",
       "      <td>8</td>\n",
       "      <td>1</td>\n",
       "      <td>6.0</td>\n",
       "      <td>3</td>\n",
       "      <td>5</td>\n",
       "      <td>1</td>\n",
       "      <td>4</td>\n",
       "      <td>1</td>\n",
       "    </tr>\n",
       "    <tr>\n",
       "      <th>6</th>\n",
       "      <td>28</td>\n",
       "      <td>Travel_Rarely</td>\n",
       "      <td>Research &amp; Development</td>\n",
       "      <td>11</td>\n",
       "      <td>2</td>\n",
       "      <td>Medical</td>\n",
       "      <td>Male</td>\n",
       "      <td>Sales Executive</td>\n",
       "      <td>Single</td>\n",
       "      <td>58130</td>\n",
       "      <td>2.0</td>\n",
       "      <td>20</td>\n",
       "      <td>8</td>\n",
       "      <td>1</td>\n",
       "      <td>5.0</td>\n",
       "      <td>2</td>\n",
       "      <td>0</td>\n",
       "      <td>0</td>\n",
       "      <td>0</td>\n",
       "      <td>1</td>\n",
       "    </tr>\n",
       "    <tr>\n",
       "      <th>13</th>\n",
       "      <td>47</td>\n",
       "      <td>Non-Travel</td>\n",
       "      <td>Research &amp; Development</td>\n",
       "      <td>1</td>\n",
       "      <td>1</td>\n",
       "      <td>Medical</td>\n",
       "      <td>Male</td>\n",
       "      <td>Research Scientist</td>\n",
       "      <td>Married</td>\n",
       "      <td>57620</td>\n",
       "      <td>1.0</td>\n",
       "      <td>11</td>\n",
       "      <td>8</td>\n",
       "      <td>2</td>\n",
       "      <td>10.0</td>\n",
       "      <td>4</td>\n",
       "      <td>10</td>\n",
       "      <td>9</td>\n",
       "      <td>9</td>\n",
       "      <td>1</td>\n",
       "    </tr>\n",
       "    <tr>\n",
       "      <th>28</th>\n",
       "      <td>44</td>\n",
       "      <td>Travel_Frequently</td>\n",
       "      <td>Research &amp; Development</td>\n",
       "      <td>1</td>\n",
       "      <td>2</td>\n",
       "      <td>Medical</td>\n",
       "      <td>Male</td>\n",
       "      <td>Research Scientist</td>\n",
       "      <td>Divorced</td>\n",
       "      <td>103330</td>\n",
       "      <td>3.0</td>\n",
       "      <td>14</td>\n",
       "      <td>8</td>\n",
       "      <td>1</td>\n",
       "      <td>19.0</td>\n",
       "      <td>2</td>\n",
       "      <td>1</td>\n",
       "      <td>0</td>\n",
       "      <td>0</td>\n",
       "      <td>1</td>\n",
       "    </tr>\n",
       "    <tr>\n",
       "      <th>30</th>\n",
       "      <td>26</td>\n",
       "      <td>Travel_Rarely</td>\n",
       "      <td>Research &amp; Development</td>\n",
       "      <td>4</td>\n",
       "      <td>3</td>\n",
       "      <td>Medical</td>\n",
       "      <td>Male</td>\n",
       "      <td>Research Scientist</td>\n",
       "      <td>Divorced</td>\n",
       "      <td>68540</td>\n",
       "      <td>2.0</td>\n",
       "      <td>11</td>\n",
       "      <td>8</td>\n",
       "      <td>0</td>\n",
       "      <td>5.0</td>\n",
       "      <td>5</td>\n",
       "      <td>3</td>\n",
       "      <td>0</td>\n",
       "      <td>2</td>\n",
       "      <td>1</td>\n",
       "    </tr>\n",
       "    <tr>\n",
       "      <th>...</th>\n",
       "      <td>...</td>\n",
       "      <td>...</td>\n",
       "      <td>...</td>\n",
       "      <td>...</td>\n",
       "      <td>...</td>\n",
       "      <td>...</td>\n",
       "      <td>...</td>\n",
       "      <td>...</td>\n",
       "      <td>...</td>\n",
       "      <td>...</td>\n",
       "      <td>...</td>\n",
       "      <td>...</td>\n",
       "      <td>...</td>\n",
       "      <td>...</td>\n",
       "      <td>...</td>\n",
       "      <td>...</td>\n",
       "      <td>...</td>\n",
       "      <td>...</td>\n",
       "      <td>...</td>\n",
       "      <td>...</td>\n",
       "    </tr>\n",
       "    <tr>\n",
       "      <th>3277</th>\n",
       "      <td>58</td>\n",
       "      <td>Travel_Rarely</td>\n",
       "      <td>Research &amp; Development</td>\n",
       "      <td>24</td>\n",
       "      <td>3</td>\n",
       "      <td>Other</td>\n",
       "      <td>Female</td>\n",
       "      <td>Research Scientist</td>\n",
       "      <td>Single</td>\n",
       "      <td>43170</td>\n",
       "      <td>7.0</td>\n",
       "      <td>17</td>\n",
       "      <td>8</td>\n",
       "      <td>0</td>\n",
       "      <td>40.0</td>\n",
       "      <td>2</td>\n",
       "      <td>31</td>\n",
       "      <td>13</td>\n",
       "      <td>8</td>\n",
       "      <td>1</td>\n",
       "    </tr>\n",
       "    <tr>\n",
       "      <th>3280</th>\n",
       "      <td>28</td>\n",
       "      <td>Travel_Rarely</td>\n",
       "      <td>Research &amp; Development</td>\n",
       "      <td>19</td>\n",
       "      <td>4</td>\n",
       "      <td>Medical</td>\n",
       "      <td>Female</td>\n",
       "      <td>Sales Executive</td>\n",
       "      <td>Single</td>\n",
       "      <td>32040</td>\n",
       "      <td>6.0</td>\n",
       "      <td>16</td>\n",
       "      <td>8</td>\n",
       "      <td>1</td>\n",
       "      <td>5.0</td>\n",
       "      <td>4</td>\n",
       "      <td>2</td>\n",
       "      <td>2</td>\n",
       "      <td>1</td>\n",
       "      <td>1</td>\n",
       "    </tr>\n",
       "    <tr>\n",
       "      <th>3289</th>\n",
       "      <td>49</td>\n",
       "      <td>Travel_Rarely</td>\n",
       "      <td>Sales</td>\n",
       "      <td>7</td>\n",
       "      <td>2</td>\n",
       "      <td>Life Sciences</td>\n",
       "      <td>Female</td>\n",
       "      <td>Healthcare Representative</td>\n",
       "      <td>Married</td>\n",
       "      <td>89980</td>\n",
       "      <td>1.0</td>\n",
       "      <td>14</td>\n",
       "      <td>8</td>\n",
       "      <td>2</td>\n",
       "      <td>9.0</td>\n",
       "      <td>2</td>\n",
       "      <td>9</td>\n",
       "      <td>7</td>\n",
       "      <td>7</td>\n",
       "      <td>1</td>\n",
       "    </tr>\n",
       "    <tr>\n",
       "      <th>3290</th>\n",
       "      <td>55</td>\n",
       "      <td>Travel_Rarely</td>\n",
       "      <td>Human Resources</td>\n",
       "      <td>16</td>\n",
       "      <td>3</td>\n",
       "      <td>Technical Degree</td>\n",
       "      <td>Male</td>\n",
       "      <td>Manufacturing Director</td>\n",
       "      <td>Single</td>\n",
       "      <td>43190</td>\n",
       "      <td>4.0</td>\n",
       "      <td>11</td>\n",
       "      <td>8</td>\n",
       "      <td>0</td>\n",
       "      <td>12.0</td>\n",
       "      <td>3</td>\n",
       "      <td>9</td>\n",
       "      <td>7</td>\n",
       "      <td>3</td>\n",
       "      <td>1</td>\n",
       "    </tr>\n",
       "    <tr>\n",
       "      <th>3296</th>\n",
       "      <td>26</td>\n",
       "      <td>Travel_Frequently</td>\n",
       "      <td>Research &amp; Development</td>\n",
       "      <td>22</td>\n",
       "      <td>4</td>\n",
       "      <td>Other</td>\n",
       "      <td>Female</td>\n",
       "      <td>Sales Executive</td>\n",
       "      <td>Married</td>\n",
       "      <td>20240</td>\n",
       "      <td>1.0</td>\n",
       "      <td>23</td>\n",
       "      <td>8</td>\n",
       "      <td>0</td>\n",
       "      <td>8.0</td>\n",
       "      <td>2</td>\n",
       "      <td>8</td>\n",
       "      <td>1</td>\n",
       "      <td>7</td>\n",
       "      <td>1</td>\n",
       "    </tr>\n",
       "  </tbody>\n",
       "</table>\n",
       "<p>530 rows × 20 columns</p>\n",
       "</div>"
      ],
      "text/plain": [
       "      Age     BusinessTravel              Department  DistanceFromHome  \\\n",
       "1      31  Travel_Frequently  Research & Development                10   \n",
       "6      28      Travel_Rarely  Research & Development                11   \n",
       "13     47         Non-Travel  Research & Development                 1   \n",
       "28     44  Travel_Frequently  Research & Development                 1   \n",
       "30     26      Travel_Rarely  Research & Development                 4   \n",
       "...   ...                ...                     ...               ...   \n",
       "3277   58      Travel_Rarely  Research & Development                24   \n",
       "3280   28      Travel_Rarely  Research & Development                19   \n",
       "3289   49      Travel_Rarely                   Sales                 7   \n",
       "3290   55      Travel_Rarely         Human Resources                16   \n",
       "3296   26  Travel_Frequently  Research & Development                22   \n",
       "\n",
       "      Education    EducationField  Gender                    JobRole  \\\n",
       "1             1     Life Sciences  Female         Research Scientist   \n",
       "6             2           Medical    Male            Sales Executive   \n",
       "13            1           Medical    Male         Research Scientist   \n",
       "28            2           Medical    Male         Research Scientist   \n",
       "30            3           Medical    Male         Research Scientist   \n",
       "...         ...               ...     ...                        ...   \n",
       "3277          3             Other  Female         Research Scientist   \n",
       "3280          4           Medical  Female            Sales Executive   \n",
       "3289          2     Life Sciences  Female  Healthcare Representative   \n",
       "3290          3  Technical Degree    Male     Manufacturing Director   \n",
       "3296          4             Other  Female            Sales Executive   \n",
       "\n",
       "     MaritalStatus  MonthlyIncome  NumCompaniesWorked  PercentSalaryHike  \\\n",
       "1           Single          41890                 0.0                 23   \n",
       "6           Single          58130                 2.0                 20   \n",
       "13         Married          57620                 1.0                 11   \n",
       "28        Divorced         103330                 3.0                 14   \n",
       "30        Divorced          68540                 2.0                 11   \n",
       "...            ...            ...                 ...                ...   \n",
       "3277        Single          43170                 7.0                 17   \n",
       "3280        Single          32040                 6.0                 16   \n",
       "3289       Married          89980                 1.0                 14   \n",
       "3290        Single          43190                 4.0                 11   \n",
       "3296       Married          20240                 1.0                 23   \n",
       "\n",
       "      StandardHours  StockOptionLevel  TotalWorkingYears  \\\n",
       "1                 8                 1                6.0   \n",
       "6                 8                 1                5.0   \n",
       "13                8                 2               10.0   \n",
       "28                8                 1               19.0   \n",
       "30                8                 0                5.0   \n",
       "...             ...               ...                ...   \n",
       "3277              8                 0               40.0   \n",
       "3280              8                 1                5.0   \n",
       "3289              8                 2                9.0   \n",
       "3290              8                 0               12.0   \n",
       "3296              8                 0                8.0   \n",
       "\n",
       "      TrainingTimesLastYear  YearsAtCompany  YearsSinceLastPromotion  \\\n",
       "1                         3               5                        1   \n",
       "6                         2               0                        0   \n",
       "13                        4              10                        9   \n",
       "28                        2               1                        0   \n",
       "30                        5               3                        0   \n",
       "...                     ...             ...                      ...   \n",
       "3277                      2              31                       13   \n",
       "3280                      4               2                        2   \n",
       "3289                      2               9                        7   \n",
       "3290                      3               9                        7   \n",
       "3296                      2               8                        1   \n",
       "\n",
       "      YearsWithCurrManager  Attrition  \n",
       "1                        4          1  \n",
       "6                        0          1  \n",
       "13                       9          1  \n",
       "28                       0          1  \n",
       "30                       2          1  \n",
       "...                    ...        ...  \n",
       "3277                     8          1  \n",
       "3280                     1          1  \n",
       "3289                     7          1  \n",
       "3290                     3          1  \n",
       "3296                     7          1  \n",
       "\n",
       "[530 rows x 20 columns]"
      ]
     },
     "execution_count": 290,
     "metadata": {},
     "output_type": "execute_result"
    }
   ],
   "source": [
    "df_minority"
   ]
  },
  {
   "cell_type": "code",
   "execution_count": 292,
   "metadata": {
    "id": "8R3dvRYi0E_M"
   },
   "outputs": [],
   "source": [
    "#Далее мы создадим новый DataFrame с улучшенным классом меньшинства. Вот шаги:\n",
    "\n",
    "#Сначала мы разделим наблюдения от каждого класса на разные фреймы данных.\n",
    "#Далее мы повторно сэмплируем класс меньшинства с заменой , установив количество выборок, соответствующее классу большинства.\n",
    "#Наконец, мы объединим класс меньшинства с повышенной дискретизацией DataFrame с исходным классом большинства DataFrame.\n",
    "\n",
    "\n",
    "from sklearn.utils import resample\n",
    "# Separate majority and minority classes\n",
    "df_majority = training_data.loc[training_data.Attrition==0]\n",
    "df_minority = training_data.loc[training_data.Attrition==1]\n",
    " \n",
    "# Upsample minority class\n",
    "df_minority_upsampled = resample(df_minority, \n",
    "                                 replace=True,     # sample with replacement\n",
    "                                 n_samples=2778,    # to match majority class\n",
    "                                 random_state=0) # reproducible results\n",
    " \n",
    "# Combine majority class with upsampled minority class\n",
    "df_upsampled2 = pd.concat([df_majority, df_minority_upsampled])\n"
   ]
  },
  {
   "cell_type": "code",
   "execution_count": 293,
   "metadata": {
    "id": "8kq-VDGW0E_N",
    "outputId": "faaabd68-d8fa-4c18-e52e-b6d60314c103"
   },
   "outputs": [
    {
     "data": {
      "text/html": [
       "<div>\n",
       "<style scoped>\n",
       "    .dataframe tbody tr th:only-of-type {\n",
       "        vertical-align: middle;\n",
       "    }\n",
       "\n",
       "    .dataframe tbody tr th {\n",
       "        vertical-align: top;\n",
       "    }\n",
       "\n",
       "    .dataframe thead th {\n",
       "        text-align: right;\n",
       "    }\n",
       "</style>\n",
       "<table border=\"1\" class=\"dataframe\">\n",
       "  <thead>\n",
       "    <tr style=\"text-align: right;\">\n",
       "      <th></th>\n",
       "      <th>Age</th>\n",
       "      <th>BusinessTravel</th>\n",
       "      <th>Department</th>\n",
       "      <th>DistanceFromHome</th>\n",
       "      <th>Education</th>\n",
       "      <th>EducationField</th>\n",
       "      <th>Gender</th>\n",
       "      <th>JobRole</th>\n",
       "      <th>MaritalStatus</th>\n",
       "      <th>MonthlyIncome</th>\n",
       "      <th>NumCompaniesWorked</th>\n",
       "      <th>PercentSalaryHike</th>\n",
       "      <th>StandardHours</th>\n",
       "      <th>StockOptionLevel</th>\n",
       "      <th>TotalWorkingYears</th>\n",
       "      <th>TrainingTimesLastYear</th>\n",
       "      <th>YearsAtCompany</th>\n",
       "      <th>YearsSinceLastPromotion</th>\n",
       "      <th>YearsWithCurrManager</th>\n",
       "      <th>Attrition</th>\n",
       "    </tr>\n",
       "  </thead>\n",
       "  <tbody>\n",
       "    <tr>\n",
       "      <th>0</th>\n",
       "      <td>51</td>\n",
       "      <td>Travel_Rarely</td>\n",
       "      <td>Sales</td>\n",
       "      <td>6</td>\n",
       "      <td>2</td>\n",
       "      <td>Life Sciences</td>\n",
       "      <td>Female</td>\n",
       "      <td>Healthcare Representative</td>\n",
       "      <td>Married</td>\n",
       "      <td>131160</td>\n",
       "      <td>1.0</td>\n",
       "      <td>11</td>\n",
       "      <td>8</td>\n",
       "      <td>0</td>\n",
       "      <td>1.0</td>\n",
       "      <td>6</td>\n",
       "      <td>1</td>\n",
       "      <td>0</td>\n",
       "      <td>0</td>\n",
       "      <td>0</td>\n",
       "    </tr>\n",
       "    <tr>\n",
       "      <th>2</th>\n",
       "      <td>32</td>\n",
       "      <td>Travel_Frequently</td>\n",
       "      <td>Research &amp; Development</td>\n",
       "      <td>17</td>\n",
       "      <td>4</td>\n",
       "      <td>Other</td>\n",
       "      <td>Male</td>\n",
       "      <td>Sales Executive</td>\n",
       "      <td>Married</td>\n",
       "      <td>193280</td>\n",
       "      <td>1.0</td>\n",
       "      <td>15</td>\n",
       "      <td>8</td>\n",
       "      <td>3</td>\n",
       "      <td>5.0</td>\n",
       "      <td>2</td>\n",
       "      <td>5</td>\n",
       "      <td>0</td>\n",
       "      <td>3</td>\n",
       "      <td>0</td>\n",
       "    </tr>\n",
       "    <tr>\n",
       "      <th>3</th>\n",
       "      <td>38</td>\n",
       "      <td>Non-Travel</td>\n",
       "      <td>Research &amp; Development</td>\n",
       "      <td>2</td>\n",
       "      <td>5</td>\n",
       "      <td>Life Sciences</td>\n",
       "      <td>Male</td>\n",
       "      <td>Human Resources</td>\n",
       "      <td>Married</td>\n",
       "      <td>83210</td>\n",
       "      <td>3.0</td>\n",
       "      <td>11</td>\n",
       "      <td>8</td>\n",
       "      <td>3</td>\n",
       "      <td>13.0</td>\n",
       "      <td>5</td>\n",
       "      <td>8</td>\n",
       "      <td>7</td>\n",
       "      <td>5</td>\n",
       "      <td>0</td>\n",
       "    </tr>\n",
       "    <tr>\n",
       "      <th>4</th>\n",
       "      <td>32</td>\n",
       "      <td>Travel_Rarely</td>\n",
       "      <td>Research &amp; Development</td>\n",
       "      <td>10</td>\n",
       "      <td>1</td>\n",
       "      <td>Medical</td>\n",
       "      <td>Male</td>\n",
       "      <td>Sales Executive</td>\n",
       "      <td>Single</td>\n",
       "      <td>23420</td>\n",
       "      <td>4.0</td>\n",
       "      <td>12</td>\n",
       "      <td>8</td>\n",
       "      <td>2</td>\n",
       "      <td>9.0</td>\n",
       "      <td>2</td>\n",
       "      <td>6</td>\n",
       "      <td>0</td>\n",
       "      <td>4</td>\n",
       "      <td>0</td>\n",
       "    </tr>\n",
       "    <tr>\n",
       "      <th>5</th>\n",
       "      <td>46</td>\n",
       "      <td>Travel_Rarely</td>\n",
       "      <td>Research &amp; Development</td>\n",
       "      <td>8</td>\n",
       "      <td>3</td>\n",
       "      <td>Life Sciences</td>\n",
       "      <td>Female</td>\n",
       "      <td>Research Director</td>\n",
       "      <td>Married</td>\n",
       "      <td>40710</td>\n",
       "      <td>3.0</td>\n",
       "      <td>13</td>\n",
       "      <td>8</td>\n",
       "      <td>0</td>\n",
       "      <td>28.0</td>\n",
       "      <td>5</td>\n",
       "      <td>7</td>\n",
       "      <td>7</td>\n",
       "      <td>7</td>\n",
       "      <td>0</td>\n",
       "    </tr>\n",
       "    <tr>\n",
       "      <th>...</th>\n",
       "      <td>...</td>\n",
       "      <td>...</td>\n",
       "      <td>...</td>\n",
       "      <td>...</td>\n",
       "      <td>...</td>\n",
       "      <td>...</td>\n",
       "      <td>...</td>\n",
       "      <td>...</td>\n",
       "      <td>...</td>\n",
       "      <td>...</td>\n",
       "      <td>...</td>\n",
       "      <td>...</td>\n",
       "      <td>...</td>\n",
       "      <td>...</td>\n",
       "      <td>...</td>\n",
       "      <td>...</td>\n",
       "      <td>...</td>\n",
       "      <td>...</td>\n",
       "      <td>...</td>\n",
       "      <td>...</td>\n",
       "    </tr>\n",
       "    <tr>\n",
       "      <th>2219</th>\n",
       "      <td>29</td>\n",
       "      <td>Travel_Frequently</td>\n",
       "      <td>Sales</td>\n",
       "      <td>3</td>\n",
       "      <td>2</td>\n",
       "      <td>Marketing</td>\n",
       "      <td>Female</td>\n",
       "      <td>Laboratory Technician</td>\n",
       "      <td>Single</td>\n",
       "      <td>68110</td>\n",
       "      <td>0.0</td>\n",
       "      <td>15</td>\n",
       "      <td>8</td>\n",
       "      <td>1</td>\n",
       "      <td>9.0</td>\n",
       "      <td>2</td>\n",
       "      <td>8</td>\n",
       "      <td>7</td>\n",
       "      <td>7</td>\n",
       "      <td>1</td>\n",
       "    </tr>\n",
       "    <tr>\n",
       "      <th>1245</th>\n",
       "      <td>39</td>\n",
       "      <td>Travel_Rarely</td>\n",
       "      <td>Human Resources</td>\n",
       "      <td>1</td>\n",
       "      <td>4</td>\n",
       "      <td>Medical</td>\n",
       "      <td>Male</td>\n",
       "      <td>Sales Executive</td>\n",
       "      <td>Married</td>\n",
       "      <td>36730</td>\n",
       "      <td>3.0</td>\n",
       "      <td>14</td>\n",
       "      <td>8</td>\n",
       "      <td>1</td>\n",
       "      <td>19.0</td>\n",
       "      <td>3</td>\n",
       "      <td>1</td>\n",
       "      <td>0</td>\n",
       "      <td>0</td>\n",
       "      <td>1</td>\n",
       "    </tr>\n",
       "    <tr>\n",
       "      <th>2607</th>\n",
       "      <td>31</td>\n",
       "      <td>Travel_Frequently</td>\n",
       "      <td>Research &amp; Development</td>\n",
       "      <td>2</td>\n",
       "      <td>1</td>\n",
       "      <td>Other</td>\n",
       "      <td>Male</td>\n",
       "      <td>Sales Executive</td>\n",
       "      <td>Married</td>\n",
       "      <td>70940</td>\n",
       "      <td>1.0</td>\n",
       "      <td>14</td>\n",
       "      <td>8</td>\n",
       "      <td>1</td>\n",
       "      <td>10.0</td>\n",
       "      <td>2</td>\n",
       "      <td>10</td>\n",
       "      <td>0</td>\n",
       "      <td>8</td>\n",
       "      <td>1</td>\n",
       "    </tr>\n",
       "    <tr>\n",
       "      <th>2886</th>\n",
       "      <td>38</td>\n",
       "      <td>Travel_Rarely</td>\n",
       "      <td>Sales</td>\n",
       "      <td>6</td>\n",
       "      <td>4</td>\n",
       "      <td>Life Sciences</td>\n",
       "      <td>Female</td>\n",
       "      <td>Research Scientist</td>\n",
       "      <td>Married</td>\n",
       "      <td>107480</td>\n",
       "      <td>7.0</td>\n",
       "      <td>15</td>\n",
       "      <td>8</td>\n",
       "      <td>0</td>\n",
       "      <td>17.0</td>\n",
       "      <td>3</td>\n",
       "      <td>1</td>\n",
       "      <td>0</td>\n",
       "      <td>0</td>\n",
       "      <td>1</td>\n",
       "    </tr>\n",
       "    <tr>\n",
       "      <th>2243</th>\n",
       "      <td>46</td>\n",
       "      <td>Travel_Rarely</td>\n",
       "      <td>Research &amp; Development</td>\n",
       "      <td>18</td>\n",
       "      <td>1</td>\n",
       "      <td>Medical</td>\n",
       "      <td>Male</td>\n",
       "      <td>Manufacturing Director</td>\n",
       "      <td>Divorced</td>\n",
       "      <td>59800</td>\n",
       "      <td>4.0</td>\n",
       "      <td>11</td>\n",
       "      <td>8</td>\n",
       "      <td>1</td>\n",
       "      <td>28.0</td>\n",
       "      <td>2</td>\n",
       "      <td>7</td>\n",
       "      <td>4</td>\n",
       "      <td>3</td>\n",
       "      <td>1</td>\n",
       "    </tr>\n",
       "  </tbody>\n",
       "</table>\n",
       "<p>5556 rows × 20 columns</p>\n",
       "</div>"
      ],
      "text/plain": [
       "      Age     BusinessTravel              Department  DistanceFromHome  \\\n",
       "0      51      Travel_Rarely                   Sales                 6   \n",
       "2      32  Travel_Frequently  Research & Development                17   \n",
       "3      38         Non-Travel  Research & Development                 2   \n",
       "4      32      Travel_Rarely  Research & Development                10   \n",
       "5      46      Travel_Rarely  Research & Development                 8   \n",
       "...   ...                ...                     ...               ...   \n",
       "2219   29  Travel_Frequently                   Sales                 3   \n",
       "1245   39      Travel_Rarely         Human Resources                 1   \n",
       "2607   31  Travel_Frequently  Research & Development                 2   \n",
       "2886   38      Travel_Rarely                   Sales                 6   \n",
       "2243   46      Travel_Rarely  Research & Development                18   \n",
       "\n",
       "      Education EducationField  Gender                    JobRole  \\\n",
       "0             2  Life Sciences  Female  Healthcare Representative   \n",
       "2             4          Other    Male            Sales Executive   \n",
       "3             5  Life Sciences    Male            Human Resources   \n",
       "4             1        Medical    Male            Sales Executive   \n",
       "5             3  Life Sciences  Female          Research Director   \n",
       "...         ...            ...     ...                        ...   \n",
       "2219          2      Marketing  Female      Laboratory Technician   \n",
       "1245          4        Medical    Male            Sales Executive   \n",
       "2607          1          Other    Male            Sales Executive   \n",
       "2886          4  Life Sciences  Female         Research Scientist   \n",
       "2243          1        Medical    Male     Manufacturing Director   \n",
       "\n",
       "     MaritalStatus  MonthlyIncome  NumCompaniesWorked  PercentSalaryHike  \\\n",
       "0          Married         131160                 1.0                 11   \n",
       "2          Married         193280                 1.0                 15   \n",
       "3          Married          83210                 3.0                 11   \n",
       "4           Single          23420                 4.0                 12   \n",
       "5          Married          40710                 3.0                 13   \n",
       "...            ...            ...                 ...                ...   \n",
       "2219        Single          68110                 0.0                 15   \n",
       "1245       Married          36730                 3.0                 14   \n",
       "2607       Married          70940                 1.0                 14   \n",
       "2886       Married         107480                 7.0                 15   \n",
       "2243      Divorced          59800                 4.0                 11   \n",
       "\n",
       "      StandardHours  StockOptionLevel  TotalWorkingYears  \\\n",
       "0                 8                 0                1.0   \n",
       "2                 8                 3                5.0   \n",
       "3                 8                 3               13.0   \n",
       "4                 8                 2                9.0   \n",
       "5                 8                 0               28.0   \n",
       "...             ...               ...                ...   \n",
       "2219              8                 1                9.0   \n",
       "1245              8                 1               19.0   \n",
       "2607              8                 1               10.0   \n",
       "2886              8                 0               17.0   \n",
       "2243              8                 1               28.0   \n",
       "\n",
       "      TrainingTimesLastYear  YearsAtCompany  YearsSinceLastPromotion  \\\n",
       "0                         6               1                        0   \n",
       "2                         2               5                        0   \n",
       "3                         5               8                        7   \n",
       "4                         2               6                        0   \n",
       "5                         5               7                        7   \n",
       "...                     ...             ...                      ...   \n",
       "2219                      2               8                        7   \n",
       "1245                      3               1                        0   \n",
       "2607                      2              10                        0   \n",
       "2886                      3               1                        0   \n",
       "2243                      2               7                        4   \n",
       "\n",
       "      YearsWithCurrManager  Attrition  \n",
       "0                        0          0  \n",
       "2                        3          0  \n",
       "3                        5          0  \n",
       "4                        4          0  \n",
       "5                        7          0  \n",
       "...                    ...        ...  \n",
       "2219                     7          1  \n",
       "1245                     0          1  \n",
       "2607                     8          1  \n",
       "2886                     0          1  \n",
       "2243                     3          1  \n",
       "\n",
       "[5556 rows x 20 columns]"
      ]
     },
     "execution_count": 293,
     "metadata": {},
     "output_type": "execute_result"
    }
   ],
   "source": [
    "df_upsampled2"
   ]
  },
  {
   "cell_type": "code",
   "execution_count": 294,
   "metadata": {
    "id": "lYdVaJXU0E_P",
    "outputId": "ddf0e296-46fc-45dd-d56f-c001b76f1ebc"
   },
   "outputs": [
    {
     "data": {
      "text/html": [
       "<div>\n",
       "<style scoped>\n",
       "    .dataframe tbody tr th:only-of-type {\n",
       "        vertical-align: middle;\n",
       "    }\n",
       "\n",
       "    .dataframe tbody tr th {\n",
       "        vertical-align: top;\n",
       "    }\n",
       "\n",
       "    .dataframe thead th {\n",
       "        text-align: right;\n",
       "    }\n",
       "</style>\n",
       "<table border=\"1\" class=\"dataframe\">\n",
       "  <thead>\n",
       "    <tr style=\"text-align: right;\">\n",
       "      <th></th>\n",
       "      <th>Age</th>\n",
       "      <th>BusinessTravel</th>\n",
       "      <th>Department</th>\n",
       "      <th>DistanceFromHome</th>\n",
       "      <th>Education</th>\n",
       "      <th>EducationField</th>\n",
       "      <th>Gender</th>\n",
       "      <th>JobRole</th>\n",
       "      <th>MaritalStatus</th>\n",
       "      <th>MonthlyIncome</th>\n",
       "      <th>NumCompaniesWorked</th>\n",
       "      <th>PercentSalaryHike</th>\n",
       "      <th>StandardHours</th>\n",
       "      <th>StockOptionLevel</th>\n",
       "      <th>TotalWorkingYears</th>\n",
       "      <th>TrainingTimesLastYear</th>\n",
       "      <th>YearsAtCompany</th>\n",
       "      <th>YearsSinceLastPromotion</th>\n",
       "      <th>YearsWithCurrManager</th>\n",
       "      <th>Attrition</th>\n",
       "    </tr>\n",
       "  </thead>\n",
       "  <tbody>\n",
       "    <tr>\n",
       "      <th>1184</th>\n",
       "      <td>29</td>\n",
       "      <td>Travel_Rarely</td>\n",
       "      <td>Research &amp; Development</td>\n",
       "      <td>9</td>\n",
       "      <td>4</td>\n",
       "      <td>Medical</td>\n",
       "      <td>Male</td>\n",
       "      <td>Sales Representative</td>\n",
       "      <td>Married</td>\n",
       "      <td>29960</td>\n",
       "      <td>9.0</td>\n",
       "      <td>25</td>\n",
       "      <td>8</td>\n",
       "      <td>0</td>\n",
       "      <td>4.0</td>\n",
       "      <td>4</td>\n",
       "      <td>2</td>\n",
       "      <td>2</td>\n",
       "      <td>2</td>\n",
       "      <td>1</td>\n",
       "    </tr>\n",
       "    <tr>\n",
       "      <th>2192</th>\n",
       "      <td>31</td>\n",
       "      <td>Travel_Frequently</td>\n",
       "      <td>Research &amp; Development</td>\n",
       "      <td>2</td>\n",
       "      <td>2</td>\n",
       "      <td>Medical</td>\n",
       "      <td>Female</td>\n",
       "      <td>Manufacturing Director</td>\n",
       "      <td>Single</td>\n",
       "      <td>53960</td>\n",
       "      <td>7.0</td>\n",
       "      <td>17</td>\n",
       "      <td>8</td>\n",
       "      <td>1</td>\n",
       "      <td>3.0</td>\n",
       "      <td>2</td>\n",
       "      <td>1</td>\n",
       "      <td>0</td>\n",
       "      <td>0</td>\n",
       "      <td>1</td>\n",
       "    </tr>\n",
       "    <tr>\n",
       "      <th>69</th>\n",
       "      <td>39</td>\n",
       "      <td>Travel_Rarely</td>\n",
       "      <td>Research &amp; Development</td>\n",
       "      <td>1</td>\n",
       "      <td>1</td>\n",
       "      <td>Medical</td>\n",
       "      <td>Female</td>\n",
       "      <td>Laboratory Technician</td>\n",
       "      <td>Married</td>\n",
       "      <td>42840</td>\n",
       "      <td>4.0</td>\n",
       "      <td>17</td>\n",
       "      <td>8</td>\n",
       "      <td>1</td>\n",
       "      <td>12.0</td>\n",
       "      <td>0</td>\n",
       "      <td>1</td>\n",
       "      <td>0</td>\n",
       "      <td>0</td>\n",
       "      <td>1</td>\n",
       "    </tr>\n",
       "    <tr>\n",
       "      <th>1737</th>\n",
       "      <td>24</td>\n",
       "      <td>Travel_Rarely</td>\n",
       "      <td>Research &amp; Development</td>\n",
       "      <td>17</td>\n",
       "      <td>2</td>\n",
       "      <td>Life Sciences</td>\n",
       "      <td>Female</td>\n",
       "      <td>Healthcare Representative</td>\n",
       "      <td>Single</td>\n",
       "      <td>25010</td>\n",
       "      <td>9.0</td>\n",
       "      <td>12</td>\n",
       "      <td>8</td>\n",
       "      <td>0</td>\n",
       "      <td>4.0</td>\n",
       "      <td>3</td>\n",
       "      <td>2</td>\n",
       "      <td>2</td>\n",
       "      <td>0</td>\n",
       "      <td>1</td>\n",
       "    </tr>\n",
       "    <tr>\n",
       "      <th>442</th>\n",
       "      <td>58</td>\n",
       "      <td>Travel_Rarely</td>\n",
       "      <td>Sales</td>\n",
       "      <td>9</td>\n",
       "      <td>2</td>\n",
       "      <td>Medical</td>\n",
       "      <td>Female</td>\n",
       "      <td>Sales Executive</td>\n",
       "      <td>Single</td>\n",
       "      <td>59570</td>\n",
       "      <td>4.0</td>\n",
       "      <td>14</td>\n",
       "      <td>8</td>\n",
       "      <td>1</td>\n",
       "      <td>7.0</td>\n",
       "      <td>2</td>\n",
       "      <td>1</td>\n",
       "      <td>0</td>\n",
       "      <td>0</td>\n",
       "      <td>1</td>\n",
       "    </tr>\n",
       "    <tr>\n",
       "      <th>...</th>\n",
       "      <td>...</td>\n",
       "      <td>...</td>\n",
       "      <td>...</td>\n",
       "      <td>...</td>\n",
       "      <td>...</td>\n",
       "      <td>...</td>\n",
       "      <td>...</td>\n",
       "      <td>...</td>\n",
       "      <td>...</td>\n",
       "      <td>...</td>\n",
       "      <td>...</td>\n",
       "      <td>...</td>\n",
       "      <td>...</td>\n",
       "      <td>...</td>\n",
       "      <td>...</td>\n",
       "      <td>...</td>\n",
       "      <td>...</td>\n",
       "      <td>...</td>\n",
       "      <td>...</td>\n",
       "      <td>...</td>\n",
       "    </tr>\n",
       "    <tr>\n",
       "      <th>2219</th>\n",
       "      <td>29</td>\n",
       "      <td>Travel_Frequently</td>\n",
       "      <td>Sales</td>\n",
       "      <td>3</td>\n",
       "      <td>2</td>\n",
       "      <td>Marketing</td>\n",
       "      <td>Female</td>\n",
       "      <td>Laboratory Technician</td>\n",
       "      <td>Single</td>\n",
       "      <td>68110</td>\n",
       "      <td>0.0</td>\n",
       "      <td>15</td>\n",
       "      <td>8</td>\n",
       "      <td>1</td>\n",
       "      <td>9.0</td>\n",
       "      <td>2</td>\n",
       "      <td>8</td>\n",
       "      <td>7</td>\n",
       "      <td>7</td>\n",
       "      <td>1</td>\n",
       "    </tr>\n",
       "    <tr>\n",
       "      <th>1245</th>\n",
       "      <td>39</td>\n",
       "      <td>Travel_Rarely</td>\n",
       "      <td>Human Resources</td>\n",
       "      <td>1</td>\n",
       "      <td>4</td>\n",
       "      <td>Medical</td>\n",
       "      <td>Male</td>\n",
       "      <td>Sales Executive</td>\n",
       "      <td>Married</td>\n",
       "      <td>36730</td>\n",
       "      <td>3.0</td>\n",
       "      <td>14</td>\n",
       "      <td>8</td>\n",
       "      <td>1</td>\n",
       "      <td>19.0</td>\n",
       "      <td>3</td>\n",
       "      <td>1</td>\n",
       "      <td>0</td>\n",
       "      <td>0</td>\n",
       "      <td>1</td>\n",
       "    </tr>\n",
       "    <tr>\n",
       "      <th>2607</th>\n",
       "      <td>31</td>\n",
       "      <td>Travel_Frequently</td>\n",
       "      <td>Research &amp; Development</td>\n",
       "      <td>2</td>\n",
       "      <td>1</td>\n",
       "      <td>Other</td>\n",
       "      <td>Male</td>\n",
       "      <td>Sales Executive</td>\n",
       "      <td>Married</td>\n",
       "      <td>70940</td>\n",
       "      <td>1.0</td>\n",
       "      <td>14</td>\n",
       "      <td>8</td>\n",
       "      <td>1</td>\n",
       "      <td>10.0</td>\n",
       "      <td>2</td>\n",
       "      <td>10</td>\n",
       "      <td>0</td>\n",
       "      <td>8</td>\n",
       "      <td>1</td>\n",
       "    </tr>\n",
       "    <tr>\n",
       "      <th>2886</th>\n",
       "      <td>38</td>\n",
       "      <td>Travel_Rarely</td>\n",
       "      <td>Sales</td>\n",
       "      <td>6</td>\n",
       "      <td>4</td>\n",
       "      <td>Life Sciences</td>\n",
       "      <td>Female</td>\n",
       "      <td>Research Scientist</td>\n",
       "      <td>Married</td>\n",
       "      <td>107480</td>\n",
       "      <td>7.0</td>\n",
       "      <td>15</td>\n",
       "      <td>8</td>\n",
       "      <td>0</td>\n",
       "      <td>17.0</td>\n",
       "      <td>3</td>\n",
       "      <td>1</td>\n",
       "      <td>0</td>\n",
       "      <td>0</td>\n",
       "      <td>1</td>\n",
       "    </tr>\n",
       "    <tr>\n",
       "      <th>2243</th>\n",
       "      <td>46</td>\n",
       "      <td>Travel_Rarely</td>\n",
       "      <td>Research &amp; Development</td>\n",
       "      <td>18</td>\n",
       "      <td>1</td>\n",
       "      <td>Medical</td>\n",
       "      <td>Male</td>\n",
       "      <td>Manufacturing Director</td>\n",
       "      <td>Divorced</td>\n",
       "      <td>59800</td>\n",
       "      <td>4.0</td>\n",
       "      <td>11</td>\n",
       "      <td>8</td>\n",
       "      <td>1</td>\n",
       "      <td>28.0</td>\n",
       "      <td>2</td>\n",
       "      <td>7</td>\n",
       "      <td>4</td>\n",
       "      <td>3</td>\n",
       "      <td>1</td>\n",
       "    </tr>\n",
       "  </tbody>\n",
       "</table>\n",
       "<p>2778 rows × 20 columns</p>\n",
       "</div>"
      ],
      "text/plain": [
       "      Age     BusinessTravel              Department  DistanceFromHome  \\\n",
       "1184   29      Travel_Rarely  Research & Development                 9   \n",
       "2192   31  Travel_Frequently  Research & Development                 2   \n",
       "69     39      Travel_Rarely  Research & Development                 1   \n",
       "1737   24      Travel_Rarely  Research & Development                17   \n",
       "442    58      Travel_Rarely                   Sales                 9   \n",
       "...   ...                ...                     ...               ...   \n",
       "2219   29  Travel_Frequently                   Sales                 3   \n",
       "1245   39      Travel_Rarely         Human Resources                 1   \n",
       "2607   31  Travel_Frequently  Research & Development                 2   \n",
       "2886   38      Travel_Rarely                   Sales                 6   \n",
       "2243   46      Travel_Rarely  Research & Development                18   \n",
       "\n",
       "      Education EducationField  Gender                    JobRole  \\\n",
       "1184          4        Medical    Male       Sales Representative   \n",
       "2192          2        Medical  Female     Manufacturing Director   \n",
       "69            1        Medical  Female      Laboratory Technician   \n",
       "1737          2  Life Sciences  Female  Healthcare Representative   \n",
       "442           2        Medical  Female            Sales Executive   \n",
       "...         ...            ...     ...                        ...   \n",
       "2219          2      Marketing  Female      Laboratory Technician   \n",
       "1245          4        Medical    Male            Sales Executive   \n",
       "2607          1          Other    Male            Sales Executive   \n",
       "2886          4  Life Sciences  Female         Research Scientist   \n",
       "2243          1        Medical    Male     Manufacturing Director   \n",
       "\n",
       "     MaritalStatus  MonthlyIncome  NumCompaniesWorked  PercentSalaryHike  \\\n",
       "1184       Married          29960                 9.0                 25   \n",
       "2192        Single          53960                 7.0                 17   \n",
       "69         Married          42840                 4.0                 17   \n",
       "1737        Single          25010                 9.0                 12   \n",
       "442         Single          59570                 4.0                 14   \n",
       "...            ...            ...                 ...                ...   \n",
       "2219        Single          68110                 0.0                 15   \n",
       "1245       Married          36730                 3.0                 14   \n",
       "2607       Married          70940                 1.0                 14   \n",
       "2886       Married         107480                 7.0                 15   \n",
       "2243      Divorced          59800                 4.0                 11   \n",
       "\n",
       "      StandardHours  StockOptionLevel  TotalWorkingYears  \\\n",
       "1184              8                 0                4.0   \n",
       "2192              8                 1                3.0   \n",
       "69                8                 1               12.0   \n",
       "1737              8                 0                4.0   \n",
       "442               8                 1                7.0   \n",
       "...             ...               ...                ...   \n",
       "2219              8                 1                9.0   \n",
       "1245              8                 1               19.0   \n",
       "2607              8                 1               10.0   \n",
       "2886              8                 0               17.0   \n",
       "2243              8                 1               28.0   \n",
       "\n",
       "      TrainingTimesLastYear  YearsAtCompany  YearsSinceLastPromotion  \\\n",
       "1184                      4               2                        2   \n",
       "2192                      2               1                        0   \n",
       "69                        0               1                        0   \n",
       "1737                      3               2                        2   \n",
       "442                       2               1                        0   \n",
       "...                     ...             ...                      ...   \n",
       "2219                      2               8                        7   \n",
       "1245                      3               1                        0   \n",
       "2607                      2              10                        0   \n",
       "2886                      3               1                        0   \n",
       "2243                      2               7                        4   \n",
       "\n",
       "      YearsWithCurrManager  Attrition  \n",
       "1184                     2          1  \n",
       "2192                     0          1  \n",
       "69                       0          1  \n",
       "1737                     0          1  \n",
       "442                      0          1  \n",
       "...                    ...        ...  \n",
       "2219                     7          1  \n",
       "1245                     0          1  \n",
       "2607                     8          1  \n",
       "2886                     0          1  \n",
       "2243                     3          1  \n",
       "\n",
       "[2778 rows x 20 columns]"
      ]
     },
     "execution_count": 294,
     "metadata": {},
     "output_type": "execute_result"
    }
   ],
   "source": [
    "df_minority_upsampled"
   ]
  },
  {
   "cell_type": "code",
   "execution_count": 295,
   "metadata": {
    "id": "kW90_fdy0E_R"
   },
   "outputs": [],
   "source": [
    "#обучить другую модель на сбалансированном наборе данных -2 балла\n",
    "#Задание - сбалансировать по меньшинству, проверить результат -1 балл\n",
    "#ИспОльзовать для балансировки метод Smote -2 балла  https://imbalanced-learn.readthedocs.io/en/stable/generated/imblearn.over_sampling.SMOTE.html\n"
   ]
  },
  {
   "cell_type": "code",
   "execution_count": 296,
   "metadata": {
    "id": "sSlUo_jv0E_S"
   },
   "outputs": [
    {
     "data": {
      "text/plain": [
       "1    2778\n",
       "0    2778\n",
       "Name: Attrition, dtype: int64"
      ]
     },
     "execution_count": 296,
     "metadata": {},
     "output_type": "execute_result"
    }
   ],
   "source": [
    "target_variable_name = 'Attrition'\n",
    "training_values = df_upsampled2[target_variable_name]\n",
    "training_values.value_counts()"
   ]
  },
  {
   "cell_type": "code",
   "execution_count": 297,
   "metadata": {},
   "outputs": [
    {
     "data": {
      "text/plain": [
       "(5556, 19)"
      ]
     },
     "execution_count": 297,
     "metadata": {},
     "output_type": "execute_result"
    }
   ],
   "source": [
    "training_points = df_upsampled2.drop(target_variable_name, axis=1)\n",
    "training_points.shape"
   ]
  },
  {
   "cell_type": "code",
   "execution_count": 298,
   "metadata": {},
   "outputs": [
    {
     "name": "stdout",
     "output_type": "stream",
     "text": [
      "(5556, 19)\n",
      "(5556, 39)\n"
     ]
    }
   ],
   "source": [
    "text_features = ['BusinessTravel', 'Department', 'EducationField', 'Gender', 'JobRole', 'MaritalStatus']\n",
    "dummies = pd.get_dummies(data=training_points, columns=text_features)\n",
    "dummies.head()\n",
    "print(training_points.shape)\n",
    "print(dummies.shape)"
   ]
  },
  {
   "cell_type": "code",
   "execution_count": 299,
   "metadata": {},
   "outputs": [],
   "source": [
    "from sklearn.preprocessing import LabelEncoder\n",
    "label_encoder = LabelEncoder()"
   ]
  },
  {
   "cell_type": "code",
   "execution_count": 300,
   "metadata": {},
   "outputs": [
    {
     "data": {
      "text/plain": [
       "(5556, 19)"
      ]
     },
     "execution_count": 300,
     "metadata": {},
     "output_type": "execute_result"
    }
   ],
   "source": [
    "for col in text_features:\n",
    "    training_points[col] = label_encoder.fit_transform(training_points[col]) + 1\n",
    "    test_points[col] = label_encoder.fit_transform(test_points[col]) + 1\n",
    "training_points.head()\n",
    "training_points.shape"
   ]
  },
  {
   "cell_type": "code",
   "execution_count": 301,
   "metadata": {},
   "outputs": [
    {
     "data": {
      "text/plain": [
       "array([0, 0, 0, ..., 0, 0, 0], dtype=int64)"
      ]
     },
     "execution_count": 301,
     "metadata": {},
     "output_type": "execute_result"
    }
   ],
   "source": [
    "from sklearn import linear_model\n",
    "logistic_regression_model = linear_model.LogisticRegression() # создаем модель\n",
    "logistic_regression_model # смотрим, что получилось\n",
    "logistic_regression_model.fit(training_points, training_values)\n",
    "test_predictions_logistic_regression = logistic_regression_model.predict(test_points)\n",
    "test_predictions_logistic_regression"
   ]
  },
  {
   "cell_type": "code",
   "execution_count": 302,
   "metadata": {},
   "outputs": [
    {
     "name": "stdout",
     "output_type": "stream",
     "text": [
      "0.8357531760435571\n",
      "0.8357531760435571\n"
     ]
    },
    {
     "data": {
      "text/plain": [
       "0    1102\n",
       "dtype: int64"
      ]
     },
     "execution_count": 302,
     "metadata": {},
     "output_type": "execute_result"
    }
   ],
   "source": [
    "from sklearn.metrics import accuracy_score\n",
    "print(accuracy_score(test_values, test_predictions_logistic_regression))\n",
    "print(accuracy_score(test_values, np.zeros_like(test_values)))\n",
    "pd.value_counts(test_predictions_logistic_regression)"
   ]
  },
  {
   "cell_type": "code",
   "execution_count": 303,
   "metadata": {},
   "outputs": [
    {
     "data": {
      "text/html": [
       "<div>\n",
       "<style scoped>\n",
       "    .dataframe tbody tr th:only-of-type {\n",
       "        vertical-align: middle;\n",
       "    }\n",
       "\n",
       "    .dataframe tbody tr th {\n",
       "        vertical-align: top;\n",
       "    }\n",
       "\n",
       "    .dataframe thead th {\n",
       "        text-align: right;\n",
       "    }\n",
       "</style>\n",
       "<table border=\"1\" class=\"dataframe\">\n",
       "  <thead>\n",
       "    <tr style=\"text-align: right;\">\n",
       "      <th></th>\n",
       "      <th>0</th>\n",
       "      <th>1</th>\n",
       "    </tr>\n",
       "  </thead>\n",
       "  <tbody>\n",
       "    <tr>\n",
       "      <th>0</th>\n",
       "      <td>921</td>\n",
       "      <td>0</td>\n",
       "    </tr>\n",
       "    <tr>\n",
       "      <th>1</th>\n",
       "      <td>181</td>\n",
       "      <td>0</td>\n",
       "    </tr>\n",
       "  </tbody>\n",
       "</table>\n",
       "</div>"
      ],
      "text/plain": [
       "     0  1\n",
       "0  921  0\n",
       "1  181  0"
      ]
     },
     "execution_count": 303,
     "metadata": {},
     "output_type": "execute_result"
    }
   ],
   "source": [
    "from sklearn.metrics import confusion_matrix\n",
    "reg_confusion_matrix = confusion_matrix(test_values, test_predictions_logistic_regression)\n",
    "reg_confusion_matrix = pd.DataFrame(reg_confusion_matrix)\n",
    "\n",
    "reg_confusion_matrix"
   ]
  },
  {
   "cell_type": "code",
   "execution_count": 304,
   "metadata": {},
   "outputs": [
    {
     "data": {
      "text/plain": [
       "<matplotlib.collections.LineCollection at 0x1337573bcc8>"
      ]
     },
     "execution_count": 304,
     "metadata": {},
     "output_type": "execute_result"
    },
    {
     "data": {
      "image/png": "[encoded data removed]",
      "text/plain": [
       "<Figure size 576x360 with 1 Axes>"
      ]
     },
     "metadata": {},
     "output_type": "display_data"
    }
   ],
   "source": [
    "test_probabilities = logistic_regression_model.predict_proba(test_points)\n",
    "test_probabilities[:5, :]\n",
    "test_probabilities = test_probabilities[:, 1]\n",
    "plt.figure(figsize=(8, 5))\n",
    "\n",
    "plt.hist(test_probabilities, bins=100)\n",
    "plt.vlines(0.5, 0, 100)"
   ]
  },
  {
   "cell_type": "code",
   "execution_count": 305,
   "metadata": {},
   "outputs": [
    {
     "name": "stdout",
     "output_type": "stream",
     "text": [
      "Полнота: 0.00%\n"
     ]
    },
    {
     "data": {
      "image/png": "[encoded data removed]",
      "text/plain": [
       "<Figure size 432x288 with 1 Axes>"
      ]
     },
     "metadata": {},
     "output_type": "display_data"
    }
   ],
   "source": [
    "plt.xlabel('Предсказанная вероятность ухода сотрудника', fontsize=20)\n",
    "plt.ylabel('Количество сотрудников', fontsize=20);\n",
    "confusion_matrix_reg = confusion_matrix(test_values,  test_predictions_logistic_regression)\n",
    "TN, FP = confusion_matrix_reg[0, 0], confusion_matrix_reg[0, 1]\n",
    "\n",
    "FN, TP = confusion_matrix_reg[1, 0], confusion_matrix_reg[1, 1]\n",
    "\n",
    "recall = TP / (TP + FN)\n",
    "\n",
    "print(\"Полнота: %.2f%%\" % (100 * recall))"
   ]
  },
  {
   "cell_type": "code",
   "execution_count": 306,
   "metadata": {},
   "outputs": [
    {
     "name": "stdout",
     "output_type": "stream",
     "text": [
      "PR-AUC на тестовой выборке: 0.17845503062676504\n"
     ]
    }
   ],
   "source": [
    "pr_auc_value = average_precision_score(test_values, test_probabilities)\n",
    "\n",
    "print(\"PR-AUC на тестовой выборке:\", pr_auc_value)\n",
    "false_positive_rates, true_positive_rates, threshold = roc_curve(test_values, test_probabilities)\n"
   ]
  },
  {
   "cell_type": "code",
   "execution_count": 307,
   "metadata": {},
   "outputs": [
    {
     "data": {
      "image/png": "[encoded data removed]",
      "text/plain": [
       "<Figure size 504x504 with 1 Axes>"
      ]
     },
     "metadata": {},
     "output_type": "display_data"
    },
    {
     "name": "stdout",
     "output_type": "stream",
     "text": [
      "ROC-AUC на тестовой выборке: 0.5206687422390988\n"
     ]
    }
   ],
   "source": [
    "# создаём график\n",
    "plt.figure(figsize=(7, 7))\n",
    "\n",
    "# рисуем кривую\n",
    "plt.plot(false_positive_rates, true_positive_rates, label='Сглаженные значения ROC-AUC')\n",
    "\n",
    "# кривая, соответствующая случайному угадыванию\n",
    "plt.plot([0, 1], [0, 1], color='k', lw=2, linestyle=':', label='Модель, выдающая случайное значение')\n",
    "\n",
    "plt.title('ROC curve')\n",
    "plt.xlabel('False Positive Rate')\n",
    "plt.ylabel('True Positive Rate')\n",
    "\n",
    "plt.fill_between(false_positive_rates, true_positive_rates, step=\"mid\", alpha=0.4, label='площадь под кривой (ROC-AUC)')\n",
    "plt.legend()\n",
    "plt.show()\n",
    "\n",
    "from sklearn.metrics import roc_auc_score\n",
    "\n",
    "roc_auc_value = roc_auc_score(test_values, test_probabilities)\n",
    "\n",
    "print(\"ROC-AUC на тестовой выборке:\", roc_auc_value)  "
   ]
  },
  {
   "cell_type": "code",
   "execution_count": 308,
   "metadata": {},
   "outputs": [
    {
     "data": {
      "text/plain": [
       "<matplotlib.axes._subplots.AxesSubplot at 0x133772c3e88>"
      ]
     },
     "execution_count": 308,
     "metadata": {},
     "output_type": "execute_result"
    },
    {
     "data": {
      "image/png": "[encoded data removed]",
      "text/plain": [
       "<Figure size 1368x1368 with 2 Axes>"
      ]
     },
     "metadata": {},
     "output_type": "display_data"
    }
   ],
   "source": [
    "plt.figure(figsize=(19,19))\n",
    "sns.heatmap(df_upsampled2.corr())"
   ]
  },
  {
   "cell_type": "code",
   "execution_count": null,
   "metadata": {},
   "outputs": [],
   "source": []
  }
 ],
 "metadata": {
  "_change_revision": 36,
  "_is_fork": false,
  "colab": {
   "collapsed_sections": [],
   "name": "balance (2).ipynb",
   "provenance": [],
   "toc_visible": true
  },
  "kernelspec": {
   "display_name": "Python 3",
   "language": "python",
   "name": "python3"
  },
  "language_info": {
   "codemirror_mode": {
    "name": "ipython",
    "version": 3
   },
   "file_extension": ".py",
   "mimetype": "text/x-python",
   "name": "python",
   "nbconvert_exporter": "python",
   "pygments_lexer": "ipython3",
   "version": "3.7.6"
  }
 },
 "nbformat": 4,
 "nbformat_minor": 1
}
